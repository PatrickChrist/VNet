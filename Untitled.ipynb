{
 "cells": [
  {
   "cell_type": "code",
   "execution_count": 52,
   "metadata": {
    "collapsed": true
   },
   "outputs": [],
   "source": [
    "import numpy as np\n",
    "from scipy.ndimage.morphology import binary_dilation, binary_erosion,generate_binary_structure\n"
   ]
  },
  {
   "cell_type": "code",
   "execution_count": 196,
   "metadata": {
    "collapsed": false
   },
   "outputs": [],
   "source": [
    "def generate_weightmap_from_label(label,class_weight=None,border_thickness=2,stepness=0.1,shape=(128,128,64)):\n",
    "    ## Get Number of pixels for the current class\n",
    "    if class_weight == None:\n",
    "        class_weight = label.size/np.sum(label.ravel())\n",
    "    \n",
    "    ## Reshape for morphology operations\n",
    "    label3d=label.reshape(shape)\n",
    "    \n",
    "    # Generate the weightmap\n",
    "    weightmap= np.zeros_like(label3d)\n",
    "    label3d_eroded=label3d\n",
    "    label3d_dilate=label3d\n",
    "    # Erosion Loop\n",
    "    for step in range(border_thickness):\n",
    "        label3d_eroded=label3d_eroded - 1.0/border_thickness*stepness * (binary_erosion(label3d_eroded)+label3d_eroded)\n",
    "        print label3d_eroded\n",
    "        label3d_dilate=label3d_dilate + 1.0/border_thickness * (binary_dilation(label3d_dilate)-label3d_dilate)\n",
    "        print label3d_dilate\n",
    "    weightmap = label3d_eroded + label3d_dilate -label3d\n",
    "    \n",
    "    weightmap = weightmap*class_weight\n",
    "    return  weightmap.ravel()\n",
    "        "
   ]
  },
  {
   "cell_type": "code",
   "execution_count": 197,
   "metadata": {
    "collapsed": false
   },
   "outputs": [],
   "source": [
    "label = np.eye(6,6)+np.eye(6,6,1)+np.eye(6,6,-1)+np.eye(6,6,-2)+np.eye(6,6,-3)"
   ]
  },
  {
   "cell_type": "code",
   "execution_count": 198,
   "metadata": {
    "collapsed": false
   },
   "outputs": [
    {
     "data": {
      "text/plain": [
       "36"
      ]
     },
     "execution_count": 198,
     "metadata": {},
     "output_type": "execute_result"
    }
   ],
   "source": [
    "label.size"
   ]
  },
  {
   "cell_type": "code",
   "execution_count": 199,
   "metadata": {
    "collapsed": false
   },
   "outputs": [
    {
     "name": "stdout",
     "output_type": "stream",
     "text": [
      "[[ 0.96666667  0.96666667  0.          0.          0.          0.        ]\n",
      " [ 0.96666667  0.93333333  0.96666667  0.          0.          0.        ]\n",
      " [ 0.96666667  0.93333333  0.93333333  0.96666667  0.          0.        ]\n",
      " [ 0.96666667  0.93333333  0.93333333  0.93333333  0.96666667  0.        ]\n",
      " [ 0.          0.96666667  0.93333333  0.93333333  0.93333333  0.96666667]\n",
      " [ 0.          0.          0.96666667  0.96666667  0.96666667  0.96666667]]\n",
      "[[ 1.          1.          0.33333333  0.          0.          0.        ]\n",
      " [ 1.          1.          1.          0.33333333  0.          0.        ]\n",
      " [ 1.          1.          1.          1.          0.33333333  0.        ]\n",
      " [ 1.          1.          1.          1.          1.          0.33333333]\n",
      " [ 0.33333333  1.          1.          1.          1.          1.        ]\n",
      " [ 0.          0.33333333  1.          1.          1.          1.        ]]\n",
      "[[ 0.93444444  0.93444444  0.          0.          0.          0.        ]\n",
      " [ 0.93444444  0.86888889  0.93444444  0.          0.          0.        ]\n",
      " [ 0.93444444  0.86888889  0.86888889  0.93444444  0.          0.        ]\n",
      " [ 0.93444444  0.86888889  0.86888889  0.86888889  0.93444444  0.        ]\n",
      " [ 0.          0.93444444  0.86888889  0.86888889  0.86888889  0.93444444]\n",
      " [ 0.          0.          0.93444444  0.93444444  0.93444444  0.93444444]]\n",
      "[[ 1.          1.          0.55555556  0.33333333  0.          0.        ]\n",
      " [ 1.          1.          1.          0.55555556  0.33333333  0.        ]\n",
      " [ 1.          1.          1.          1.          0.55555556  0.33333333]\n",
      " [ 1.          1.          1.          1.          1.          0.55555556]\n",
      " [ 0.55555556  1.          1.          1.          1.          1.        ]\n",
      " [ 0.33333333  0.55555556  1.          1.          1.          1.        ]]\n",
      "[[ 0.9032963   0.9032963   0.          0.          0.          0.        ]\n",
      " [ 0.9032963   0.80659259  0.9032963   0.          0.          0.        ]\n",
      " [ 0.9032963   0.80659259  0.80659259  0.9032963   0.          0.        ]\n",
      " [ 0.9032963   0.80659259  0.80659259  0.80659259  0.9032963   0.        ]\n",
      " [ 0.          0.9032963   0.80659259  0.80659259  0.80659259  0.9032963 ]\n",
      " [ 0.          0.          0.9032963   0.9032963   0.9032963   0.9032963 ]]\n",
      "[[ 1.          1.          0.7037037   0.55555556  0.33333333  0.        ]\n",
      " [ 1.          1.          1.          0.7037037   0.55555556  0.33333333]\n",
      " [ 1.          1.          1.          1.          0.7037037   0.55555556]\n",
      " [ 1.          1.          1.          1.          1.          0.7037037 ]\n",
      " [ 0.7037037   1.          1.          1.          1.          1.        ]\n",
      " [ 0.55555556  0.7037037   1.          1.          1.          1.        ]]\n"
     ]
    }
   ],
   "source": [
    "weightmap=generate_weightmap_from_label(label,class_weight=None,border_thickness=3,shape=(6,6))"
   ]
  },
  {
   "cell_type": "code",
   "execution_count": 200,
   "metadata": {
    "collapsed": false
   },
   "outputs": [
    {
     "data": {
      "text/plain": [
       "array([[ 1.41385507,  1.41385507,  1.10144928,  0.86956522,  0.52173913,\n",
       "         0.        ],\n",
       "       [ 1.41385507,  1.26249275,  1.41385507,  1.10144928,  0.86956522,\n",
       "         0.52173913],\n",
       "       [ 1.41385507,  1.26249275,  1.26249275,  1.41385507,  1.10144928,\n",
       "         0.86956522],\n",
       "       [ 1.41385507,  1.26249275,  1.26249275,  1.26249275,  1.41385507,\n",
       "         1.10144928],\n",
       "       [ 1.10144928,  1.41385507,  1.26249275,  1.26249275,  1.26249275,\n",
       "         1.41385507],\n",
       "       [ 0.86956522,  1.10144928,  1.41385507,  1.41385507,  1.41385507,\n",
       "         1.41385507]])"
      ]
     },
     "execution_count": 200,
     "metadata": {},
     "output_type": "execute_result"
    }
   ],
   "source": [
    "weightmap"
   ]
  },
  {
   "cell_type": "code",
   "execution_count": 164,
   "metadata": {
    "collapsed": false
   },
   "outputs": [
    {
     "ename": "RuntimeError",
     "evalue": "structure and input must have same dimensionality",
     "output_type": "error",
     "traceback": [
      "\u001b[1;31m---------------------------------------------------------------------------\u001b[0m",
      "\u001b[1;31mRuntimeError\u001b[0m                              Traceback (most recent call last)",
      "\u001b[1;32m<ipython-input-164-04afc8fc54f7>\u001b[0m in \u001b[0;36m<module>\u001b[1;34m()\u001b[0m\n\u001b[1;32m----> 1\u001b[1;33m \u001b[0mbinary_dilation\u001b[0m\u001b[1;33m(\u001b[0m\u001b[0mlabel\u001b[0m\u001b[1;33m,\u001b[0m\u001b[0mstruct\u001b[0m\u001b[1;33m)\u001b[0m\u001b[1;33m\u001b[0m\u001b[0m\n\u001b[0m",
      "\u001b[1;32m/usr/local/lib/python2.7/dist-packages/scipy/ndimage/morphology.pyc\u001b[0m in \u001b[0;36mbinary_dilation\u001b[1;34m(input, structure, iterations, mask, output, border_value, origin, brute_force)\u001b[0m\n\u001b[0;32m    500\u001b[0m \u001b[1;33m\u001b[0m\u001b[0m\n\u001b[0;32m    501\u001b[0m     return _binary_erosion(input, structure, iterations, mask,\n\u001b[1;32m--> 502\u001b[1;33m                            output, border_value, origin, 1, brute_force)\n\u001b[0m\u001b[0;32m    503\u001b[0m \u001b[1;33m\u001b[0m\u001b[0m\n\u001b[0;32m    504\u001b[0m \u001b[1;33m\u001b[0m\u001b[0m\n",
      "\u001b[1;32m/usr/local/lib/python2.7/dist-packages/scipy/ndimage/morphology.pyc\u001b[0m in \u001b[0;36m_binary_erosion\u001b[1;34m(input, structure, iterations, mask, output, border_value, origin, invert, brute_force)\u001b[0m\n\u001b[0;32m    226\u001b[0m         \u001b[0mstructure\u001b[0m \u001b[1;33m=\u001b[0m \u001b[0mstructure\u001b[0m\u001b[1;33m.\u001b[0m\u001b[0mastype\u001b[0m\u001b[1;33m(\u001b[0m\u001b[0mbool\u001b[0m\u001b[1;33m)\u001b[0m\u001b[1;33m\u001b[0m\u001b[0m\n\u001b[0;32m    227\u001b[0m     \u001b[1;32mif\u001b[0m \u001b[0mstructure\u001b[0m\u001b[1;33m.\u001b[0m\u001b[0mndim\u001b[0m \u001b[1;33m!=\u001b[0m \u001b[0minput\u001b[0m\u001b[1;33m.\u001b[0m\u001b[0mndim\u001b[0m\u001b[1;33m:\u001b[0m\u001b[1;33m\u001b[0m\u001b[0m\n\u001b[1;32m--> 228\u001b[1;33m         \u001b[1;32mraise\u001b[0m \u001b[0mRuntimeError\u001b[0m\u001b[1;33m(\u001b[0m\u001b[1;34m'structure and input must have same dimensionality'\u001b[0m\u001b[1;33m)\u001b[0m\u001b[1;33m\u001b[0m\u001b[0m\n\u001b[0m\u001b[0;32m    229\u001b[0m     \u001b[1;32mif\u001b[0m \u001b[1;32mnot\u001b[0m \u001b[0mstructure\u001b[0m\u001b[1;33m.\u001b[0m\u001b[0mflags\u001b[0m\u001b[1;33m.\u001b[0m\u001b[0mcontiguous\u001b[0m\u001b[1;33m:\u001b[0m\u001b[1;33m\u001b[0m\u001b[0m\n\u001b[0;32m    230\u001b[0m         \u001b[0mstructure\u001b[0m \u001b[1;33m=\u001b[0m \u001b[0mstructure\u001b[0m\u001b[1;33m.\u001b[0m\u001b[0mcopy\u001b[0m\u001b[1;33m(\u001b[0m\u001b[1;33m)\u001b[0m\u001b[1;33m\u001b[0m\u001b[0m\n",
      "\u001b[1;31mRuntimeError\u001b[0m: structure and input must have same dimensionality"
     ]
    }
   ],
   "source": [
    "binary_dilation(label,struct)"
   ]
  },
  {
   "cell_type": "code",
   "execution_count": 60,
   "metadata": {
    "collapsed": false
   },
   "outputs": [],
   "source": [
    "struct=generate_binary_structure(3, 0)"
   ]
  },
  {
   "cell_type": "code",
   "execution_count": 61,
   "metadata": {
    "collapsed": false
   },
   "outputs": [
    {
     "data": {
      "text/plain": [
       "array([[[False, False, False],\n",
       "        [False,  True, False],\n",
       "        [False, False, False]],\n",
       "\n",
       "       [[False,  True, False],\n",
       "        [ True,  True,  True],\n",
       "        [False,  True, False]],\n",
       "\n",
       "       [[False, False, False],\n",
       "        [False,  True, False],\n",
       "        [False, False, False]]], dtype=bool)"
      ]
     },
     "execution_count": 61,
     "metadata": {},
     "output_type": "execute_result"
    }
   ],
   "source": [
    "struct"
   ]
  },
  {
   "cell_type": "code",
   "execution_count": null,
   "metadata": {
    "collapsed": true
   },
   "outputs": [],
   "source": []
  }
 ],
 "metadata": {
  "kernelspec": {
   "display_name": "Python 2",
   "language": "python",
   "name": "python2"
  },
  "language_info": {
   "codemirror_mode": {
    "name": "ipython",
    "version": 2
   },
   "file_extension": ".py",
   "mimetype": "text/x-python",
   "name": "python",
   "nbconvert_exporter": "python",
   "pygments_lexer": "ipython2",
   "version": "2.7.6"
  }
 },
 "nbformat": 4,
 "nbformat_minor": 0
}
