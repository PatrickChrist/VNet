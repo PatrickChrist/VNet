{
 "cells": [
  {
   "cell_type": "code",
   "execution_count": 38,
   "metadata": {
    "collapsed": false
   },
   "outputs": [],
   "source": [
    "import os\n",
    "\n",
    "basepath_vol = '/media/nas/01_Datasets/CT/Abdomen/Fire3/05_Syngovia_niftis_segmented/'\n",
    "\n",
    "savepath_vol = '/media/nas/01_Datasets/CT/Abdomen/Fire3/06_f3-syngo-data/'\n",
    "import re\n",
    "import nibabel as nb\n",
    "import numpy as np\n",
    "from tqdm import *"
   ]
  },
  {
   "cell_type": "code",
   "execution_count": 15,
   "metadata": {
    "collapsed": false
   },
   "outputs": [
    {
     "name": "stdout",
     "output_type": "stream",
     "text": [
      "Requirement already satisfied (use --upgrade to upgrade): tqdm in /usr/local/lib/python2.7/dist-packages\r\n",
      "Cleaning up...\r\n"
     ]
    }
   ],
   "source": [
    "!pip install tqdm"
   ]
  },
  {
   "cell_type": "code",
   "execution_count": 19,
   "metadata": {
    "collapsed": false
   },
   "outputs": [
    {
     "name": "stderr",
     "output_type": "stream",
     "text": [
      "\r",
      "  0%|          | 0/54 [00:00<?, ?it/s]"
     ]
    },
    {
     "name": "stdout",
     "output_type": "stream",
     "text": [
      "Working on file /media/nas/01_Datasets/CT/Abdomen/Fire3/05_Syngovia_niftis_segmented/07/20090612/30000015090809503188300000074_segmented.nii\n",
      "[0 1]\n"
     ]
    },
    {
     "name": "stderr",
     "output_type": "stream",
     "text": [
      "\r",
      "  2%|▏         | 1/54 [00:01<01:45,  2.00s/it]"
     ]
    },
    {
     "name": "stdout",
     "output_type": "stream",
     "text": [
      "[0 2]\n",
      "Saving on file /media/nas/01_Datasets/CT/Abdomen/Fire3/05_Syngovia_niftis_segmented/07/20090612/30000015090809503188300000074_segmented.nii\n",
      "Working on file /media/nas/01_Datasets/CT/Abdomen/Fire3/05_Syngovia_niftis_segmented/04/20081014/30000015090716574696300000349_segmented.nii\n",
      "[0 1]\n"
     ]
    },
    {
     "name": "stderr",
     "output_type": "stream",
     "text": [
      "\r",
      "  6%|▌         | 3/54 [00:03<01:26,  1.70s/it]"
     ]
    },
    {
     "name": "stdout",
     "output_type": "stream",
     "text": [
      "[0 2]\n",
      "Saving on file /media/nas/01_Datasets/CT/Abdomen/Fire3/05_Syngovia_niftis_segmented/04/20081014/30000015090716574696300000349_segmented.nii\n",
      "Working on file /media/nas/01_Datasets/CT/Abdomen/Fire3/05_Syngovia_niftis_segmented/01/20130403/30000015090714565626100000186_segmented.nii\n",
      "[0 1]\n"
     ]
    },
    {
     "name": "stderr",
     "output_type": "stream",
     "text": [
      "\r",
      "  7%|▋         | 4/54 [00:05<01:28,  1.76s/it]"
     ]
    },
    {
     "name": "stdout",
     "output_type": "stream",
     "text": [
      "[0 2]\n",
      "Saving on file /media/nas/01_Datasets/CT/Abdomen/Fire3/05_Syngovia_niftis_segmented/01/20130403/30000015090714565626100000186_segmented.nii\n",
      "Working on file /media/nas/01_Datasets/CT/Abdomen/Fire3/05_Syngovia_niftis_segmented/03/20090204/30000015090716574696300000077_segmented.nii\n",
      "[0 1]\n"
     ]
    },
    {
     "name": "stderr",
     "output_type": "stream",
     "text": [
      "\r",
      "  9%|▉         | 5/54 [00:07<01:22,  1.68s/it]"
     ]
    },
    {
     "name": "stdout",
     "output_type": "stream",
     "text": [
      "[0 2]\n",
      "Saving on file /media/nas/01_Datasets/CT/Abdomen/Fire3/05_Syngovia_niftis_segmented/03/20090204/30000015090716574696300000077_segmented.nii\n",
      "Working on file /media/nas/01_Datasets/CT/Abdomen/Fire3/05_Syngovia_niftis_segmented/05/20090610/30000015090717203512600000167_segmented.nii\n",
      "[0 1]\n"
     ]
    },
    {
     "name": "stderr",
     "output_type": "stream",
     "text": [
      "\r",
      " 11%|█         | 6/54 [00:09<01:19,  1.66s/it]"
     ]
    },
    {
     "name": "stdout",
     "output_type": "stream",
     "text": [
      "[0 2]\n",
      "Saving on file /media/nas/01_Datasets/CT/Abdomen/Fire3/05_Syngovia_niftis_segmented/05/20090610/30000015090717203512600000167_segmented.nii\n",
      "Working on file /media/nas/01_Datasets/CT/Abdomen/Fire3/05_Syngovia_niftis_segmented/02/20081107/30000015090714565626100000435_segmented.nii\n",
      "[0 1]\n"
     ]
    },
    {
     "name": "stderr",
     "output_type": "stream",
     "text": [
      "\r",
      " 13%|█▎        | 7/54 [00:11<01:26,  1.84s/it]"
     ]
    },
    {
     "name": "stdout",
     "output_type": "stream",
     "text": [
      "[0 2]\n",
      "Saving on file /media/nas/01_Datasets/CT/Abdomen/Fire3/05_Syngovia_niftis_segmented/02/20081107/30000015090714565626100000435_segmented.nii\n",
      "Working on file /media/nas/01_Datasets/CT/Abdomen/Fire3/05_Syngovia_niftis_segmented/06/20110609/30000015090809364018500000310_segmented.nii\n",
      "[0 1]\n"
     ]
    },
    {
     "name": "stderr",
     "output_type": "stream",
     "text": [
      "\r",
      " 15%|█▍        | 8/54 [00:15<01:54,  2.49s/it]"
     ]
    },
    {
     "name": "stdout",
     "output_type": "stream",
     "text": [
      "[0 2]\n",
      "Saving on file /media/nas/01_Datasets/CT/Abdomen/Fire3/05_Syngovia_niftis_segmented/06/20110609/30000015090809364018500000310_segmented.nii\n",
      "Working on file /media/nas/01_Datasets/CT/Abdomen/Fire3/05_Syngovia_niftis_segmented/09/20110520/30000015090810124818900000472_segmented.nii\n",
      "[0 1]\n"
     ]
    },
    {
     "name": "stderr",
     "output_type": "stream",
     "text": [
      "\r",
      " 17%|█▋        | 9/54 [00:18<02:00,  2.68s/it]"
     ]
    },
    {
     "name": "stdout",
     "output_type": "stream",
     "text": [
      "[0 2]\n",
      "Saving on file /media/nas/01_Datasets/CT/Abdomen/Fire3/05_Syngovia_niftis_segmented/09/20110520/30000015090810124818900000472_segmented.nii\n",
      "Working on file /media/nas/01_Datasets/CT/Abdomen/Fire3/05_Syngovia_niftis_segmented/CRF023/20071126/30000015071717330845000008296_segmented.nii\n",
      "[0 1]\n",
      "[0 2]\n",
      "Saving on file /media/nas/01_Datasets/CT/Abdomen/Fire3/05_Syngovia_niftis_segmented/CRF023/20071126/30000015071717330845000008296_segmented.nii\n",
      "Working on file /media/nas/01_Datasets/CT/Abdomen/Fire3/05_Syngovia_niftis_segmented/CRF023/20071126/30000015071717330845000008453_segmented.nii\n",
      "[0 1]\n",
      "[0 2]\n",
      "Saving on file /media/nas/01_Datasets/CT/Abdomen/Fire3/05_Syngovia_niftis_segmented/CRF023/20071126/30000015071717330845000008453_segmented.nii\n",
      "Working on file /media/nas/01_Datasets/CT/Abdomen/Fire3/05_Syngovia_niftis_segmented/CRF023/20070806/30000015071717330845000007519_segmented.nii\n",
      "[0 1]\n",
      "[0 2]\n",
      "Saving on file /media/nas/01_Datasets/CT/Abdomen/Fire3/05_Syngovia_niftis_segmented/CRF023/20070806/30000015071717330845000007519_segmented.nii\n",
      "Working on file /media/nas/01_Datasets/CT/Abdomen/Fire3/05_Syngovia_niftis_segmented/CRF023/20070806/30000015071717330845000007683_segmented.nii\n",
      "[0 1]\n",
      "[0 2]\n",
      "Saving on file /media/nas/01_Datasets/CT/Abdomen/Fire3/05_Syngovia_niftis_segmented/CRF023/20070806/30000015071717330845000007683_segmented.nii\n",
      "Working on file /media/nas/01_Datasets/CT/Abdomen/Fire3/05_Syngovia_niftis_segmented/CRF023/20080225/30000015071717330845000009146_segmented.nii\n",
      "[0 1]\n",
      "[0 2]\n",
      "Saving on file /media/nas/01_Datasets/CT/Abdomen/Fire3/05_Syngovia_niftis_segmented/CRF023/20080225/30000015071717330845000009146_segmented.nii\n",
      "Working on file /media/nas/01_Datasets/CT/Abdomen/Fire3/05_Syngovia_niftis_segmented/CRF023/20080225/30000015071717330845000008830_segmented.nii\n",
      "[0 1]\n",
      "[0 2]\n",
      "Saving on file /media/nas/01_Datasets/CT/Abdomen/Fire3/05_Syngovia_niftis_segmented/CRF023/20080225/30000015071717330845000008830_segmented.nii\n",
      "Working on file /media/nas/01_Datasets/CT/Abdomen/Fire3/05_Syngovia_niftis_segmented/CRF023/20070914/30000015071717330845000007909_segmented.nii\n",
      "[0 1]\n",
      "[0 2]\n",
      "Saving on file /media/nas/01_Datasets/CT/Abdomen/Fire3/05_Syngovia_niftis_segmented/CRF023/20070914/30000015071717330845000007909_segmented.nii\n",
      "Working on file /media/nas/01_Datasets/CT/Abdomen/Fire3/05_Syngovia_niftis_segmented/CRF023/20070914/30000015071717330845000008068_segmented.nii\n",
      "[0 1]\n",
      "[0 2]\n",
      "Saving on file /media/nas/01_Datasets/CT/Abdomen/Fire3/05_Syngovia_niftis_segmented/CRF023/20070914/30000015071717330845000008068_segmented.nii\n",
      "Working on file /media/nas/01_Datasets/CT/Abdomen/Fire3/05_Syngovia_niftis_segmented/CRF023/20070612/30000015071717330845000007151_segmented.nii\n",
      "[0 1]\n",
      "[0 2]\n",
      "Saving on file /media/nas/01_Datasets/CT/Abdomen/Fire3/05_Syngovia_niftis_segmented/CRF023/20070612/30000015071717330845000007151_segmented.nii\n",
      "Working on file /media/nas/01_Datasets/CT/Abdomen/Fire3/05_Syngovia_niftis_segmented/CRF023/20070612/30000015071717330845000006904_segmented.nii\n",
      "[0 1]\n"
     ]
    },
    {
     "name": "stderr",
     "output_type": "stream",
     "text": [
      "\r",
      " 19%|█▊        | 10/54 [00:59<10:22, 14.15s/it]"
     ]
    },
    {
     "name": "stdout",
     "output_type": "stream",
     "text": [
      "[0 2]\n",
      "Saving on file /media/nas/01_Datasets/CT/Abdomen/Fire3/05_Syngovia_niftis_segmented/CRF023/20070612/30000015071717330845000006904_segmented.nii\n",
      "Working on file /media/nas/01_Datasets/CT/Abdomen/Fire3/05_Syngovia_niftis_segmented/CRF031/20070919/30000015071717330845000000583_segmented.nii\n",
      "[0 1]\n",
      "[0 2]\n",
      "Saving on file /media/nas/01_Datasets/CT/Abdomen/Fire3/05_Syngovia_niftis_segmented/CRF031/20070919/30000015071717330845000000583_segmented.nii\n",
      "Working on file /media/nas/01_Datasets/CT/Abdomen/Fire3/05_Syngovia_niftis_segmented/CRF031/20071107/30000015071717330845000001900_segmented.nii\n",
      "[0 1]\n",
      "[0 2]\n",
      "Saving on file /media/nas/01_Datasets/CT/Abdomen/Fire3/05_Syngovia_niftis_segmented/CRF031/20071107/30000015071717330845000001900_segmented.nii\n",
      "Working on file /media/nas/01_Datasets/CT/Abdomen/Fire3/05_Syngovia_niftis_segmented/CRF031/20070727/30000015071717330845000000216_segmented.nii\n",
      "[0 1]\n",
      "[0 2]\n",
      "Saving on file /media/nas/01_Datasets/CT/Abdomen/Fire3/05_Syngovia_niftis_segmented/CRF031/20070727/30000015071717330845000000216_segmented.nii\n",
      "Working on file /media/nas/01_Datasets/CT/Abdomen/Fire3/05_Syngovia_niftis_segmented/CRF031/20071123/30000015071717330845000002409_segmented.nii\n",
      "[0 1]\n",
      "[0 2]\n",
      "Saving on file /media/nas/01_Datasets/CT/Abdomen/Fire3/05_Syngovia_niftis_segmented/CRF031/20071123/30000015071717330845000002409_segmented.nii\n",
      "Working on file /media/nas/01_Datasets/CT/Abdomen/Fire3/05_Syngovia_niftis_segmented/CRF031/20070927/30000015071717330845000001479_segmented.nii\n",
      "[0 1]\n"
     ]
    },
    {
     "name": "stderr",
     "output_type": "stream",
     "text": [
      "\r",
      " 20%|██        | 11/54 [01:18<11:20, 15.82s/it]"
     ]
    },
    {
     "name": "stdout",
     "output_type": "stream",
     "text": [
      "[0 2]\n",
      "Saving on file /media/nas/01_Datasets/CT/Abdomen/Fire3/05_Syngovia_niftis_segmented/CRF031/20070927/30000015071717330845000001479_segmented.nii\n",
      "Working on file /media/nas/01_Datasets/CT/Abdomen/Fire3/05_Syngovia_niftis_segmented/CRF032/20070920/30000015072011191605300000163_segmented.nii\n",
      "[0 1]\n",
      "[0 2]\n",
      "Saving on file /media/nas/01_Datasets/CT/Abdomen/Fire3/05_Syngovia_niftis_segmented/CRF032/20070920/30000015072011191605300000163_segmented.nii\n",
      "Working on file /media/nas/01_Datasets/CT/Abdomen/Fire3/05_Syngovia_niftis_segmented/CRF032/20081126/30000015072011191605300001293_segmented.nii\n",
      "[0 1]\n",
      "[0 2]\n",
      "Saving on file /media/nas/01_Datasets/CT/Abdomen/Fire3/05_Syngovia_niftis_segmented/CRF032/20081126/30000015072011191605300001293_segmented.nii\n",
      "Working on file /media/nas/01_Datasets/CT/Abdomen/Fire3/05_Syngovia_niftis_segmented/CRF032/20080910/30000015072011191605300001019_segmented.nii\n",
      "[0 1]\n",
      "[0 2]\n",
      "Saving on file /media/nas/01_Datasets/CT/Abdomen/Fire3/05_Syngovia_niftis_segmented/CRF032/20080910/30000015072011191605300001019_segmented.nii\n",
      "Working on file /media/nas/01_Datasets/CT/Abdomen/Fire3/05_Syngovia_niftis_segmented/CRF032/20080125/30000015072011191605300000464_segmented.nii\n",
      "[0 1]\n",
      "[0 2]\n",
      "Saving on file /media/nas/01_Datasets/CT/Abdomen/Fire3/05_Syngovia_niftis_segmented/CRF032/20080125/30000015072011191605300000464_segmented.nii\n",
      "Working on file /media/nas/01_Datasets/CT/Abdomen/Fire3/05_Syngovia_niftis_segmented/CRF032/20080521/30000015072011191605300000729_segmented.nii\n",
      "[0 1]\n"
     ]
    },
    {
     "name": "stderr",
     "output_type": "stream",
     "text": [
      "\r",
      " 22%|██▏       | 12/54 [01:33<10:49, 15.45s/it]"
     ]
    },
    {
     "name": "stdout",
     "output_type": "stream",
     "text": [
      "[0 2]\n",
      "Saving on file /media/nas/01_Datasets/CT/Abdomen/Fire3/05_Syngovia_niftis_segmented/CRF032/20080521/30000015072011191605300000729_segmented.nii\n",
      "Working on file /media/nas/01_Datasets/CT/Abdomen/Fire3/05_Syngovia_niftis_segmented/CRF070/20080310/30000015072016064358400001425_segmented.nii\n",
      "[0 1]\n",
      "[0 2]\n",
      "Saving on file /media/nas/01_Datasets/CT/Abdomen/Fire3/05_Syngovia_niftis_segmented/CRF070/20080310/30000015072016064358400001425_segmented.nii\n",
      "Working on file /media/nas/01_Datasets/CT/Abdomen/Fire3/05_Syngovia_niftis_segmented/CRF070/20071106/30000015072016064358400001130_segmented.nii\n",
      "[0 1]\n",
      "[0 2]\n",
      "Saving on file /media/nas/01_Datasets/CT/Abdomen/Fire3/05_Syngovia_niftis_segmented/CRF070/20071106/30000015072016064358400001130_segmented.nii\n",
      "Working on file /media/nas/01_Datasets/CT/Abdomen/Fire3/05_Syngovia_niftis_segmented/CRF070/20090209/30000015072016064358400003008_segmented.nii\n",
      "[0 1]\n",
      "[0 2]\n",
      "Saving on file /media/nas/01_Datasets/CT/Abdomen/Fire3/05_Syngovia_niftis_segmented/CRF070/20090209/30000015072016064358400003008_segmented.nii\n",
      "Working on file /media/nas/01_Datasets/CT/Abdomen/Fire3/05_Syngovia_niftis_segmented/CRF070/20081002/30000015072016064358400002668_segmented.nii\n",
      "[0 1]\n",
      "[0 2]\n",
      "Saving on file /media/nas/01_Datasets/CT/Abdomen/Fire3/05_Syngovia_niftis_segmented/CRF070/20081002/30000015072016064358400002668_segmented.nii\n",
      "Working on file /media/nas/01_Datasets/CT/Abdomen/Fire3/05_Syngovia_niftis_segmented/CRF070/20090522/30000015072016064358400003344_segmented.nii\n",
      "[0 1]\n",
      "[0 2]\n",
      "Saving on file /media/nas/01_Datasets/CT/Abdomen/Fire3/05_Syngovia_niftis_segmented/CRF070/20090522/30000015072016064358400003344_segmented.nii\n",
      "Working on file /media/nas/01_Datasets/CT/Abdomen/Fire3/05_Syngovia_niftis_segmented/CRF070/20080619/30000015072016064358400002250_segmented.nii\n",
      "[0 1]\n",
      "[0 2]\n",
      "Saving on file /media/nas/01_Datasets/CT/Abdomen/Fire3/05_Syngovia_niftis_segmented/CRF070/20080619/30000015072016064358400002250_segmented.nii\n",
      "Working on file /media/nas/01_Datasets/CT/Abdomen/Fire3/05_Syngovia_niftis_segmented/CRF070/20070420/30000015072016064358400000128_segmented.nii\n",
      "[0 1]\n",
      "[0 2]\n",
      "Saving on file /media/nas/01_Datasets/CT/Abdomen/Fire3/05_Syngovia_niftis_segmented/CRF070/20070420/30000015072016064358400000128_segmented.nii\n",
      "Working on file /media/nas/01_Datasets/CT/Abdomen/Fire3/05_Syngovia_niftis_segmented/CRF070/20070614/30000015072016064358400000460_segmented.nii\n",
      "[0 1]\n"
     ]
    },
    {
     "name": "stderr",
     "output_type": "stream",
     "text": [
      "\r",
      " 24%|██▍       | 13/54 [02:07<14:18, 20.95s/it]"
     ]
    },
    {
     "name": "stdout",
     "output_type": "stream",
     "text": [
      "[0 2]\n",
      "Saving on file /media/nas/01_Datasets/CT/Abdomen/Fire3/05_Syngovia_niftis_segmented/CRF070/20070614/30000015072016064358400000460_segmented.nii\n",
      "Working on file /media/nas/01_Datasets/CT/Abdomen/Fire3/05_Syngovia_niftis_segmented/CRF144/20080116/30000015082014214884400001093_segmented.nii\n",
      "[0 1]\n",
      "[0 2]\n",
      "Saving on file /media/nas/01_Datasets/CT/Abdomen/Fire3/05_Syngovia_niftis_segmented/CRF144/20080116/30000015082014214884400001093_segmented.nii\n",
      "Working on file /media/nas/01_Datasets/CT/Abdomen/Fire3/05_Syngovia_niftis_segmented/CRF144/20080320/30000015082014214884400001453_segmented.nii\n",
      "[0 1]\n",
      "[0 2]\n",
      "Saving on file /media/nas/01_Datasets/CT/Abdomen/Fire3/05_Syngovia_niftis_segmented/CRF144/20080320/30000015082014214884400001453_segmented.nii\n",
      "Working on file /media/nas/01_Datasets/CT/Abdomen/Fire3/05_Syngovia_niftis_segmented/CRF144/20071204/30000015082014214884400000741_segmented.nii\n",
      "[0 1]\n",
      "[0 2]\n",
      "Saving on file /media/nas/01_Datasets/CT/Abdomen/Fire3/05_Syngovia_niftis_segmented/CRF144/20071204/30000015082014214884400000741_segmented.nii\n",
      "Working on file /media/nas/01_Datasets/CT/Abdomen/Fire3/05_Syngovia_niftis_segmented/CRF144/20071002/30000015082014214884400000378_segmented.nii\n",
      "[0 1]\n",
      "[0 2]\n",
      "Saving on file /media/nas/01_Datasets/CT/Abdomen/Fire3/05_Syngovia_niftis_segmented/CRF144/20071002/30000015082014214884400000378_segmented.nii\n",
      "Working on file /media/nas/01_Datasets/CT/Abdomen/Fire3/05_Syngovia_niftis_segmented/CRF144/20080604/30000015082014214884400001609_segmented.nii\n",
      "[0 1]\n"
     ]
    },
    {
     "name": "stderr",
     "output_type": "stream",
     "text": [
      "\r",
      " 26%|██▌       | 14/54 [02:38<15:55, 23.89s/it]"
     ]
    },
    {
     "name": "stdout",
     "output_type": "stream",
     "text": [
      "[0 2]\n",
      "Saving on file /media/nas/01_Datasets/CT/Abdomen/Fire3/05_Syngovia_niftis_segmented/CRF144/20080604/30000015082014214884400001609_segmented.nii\n",
      "Working on file /media/nas/01_Datasets/CT/Abdomen/Fire3/05_Syngovia_niftis_segmented/CRF194/20081218/30000015082014214884400002777_segmented.nii\n",
      "[0 1]\n",
      "[0 2]\n",
      "Saving on file /media/nas/01_Datasets/CT/Abdomen/Fire3/05_Syngovia_niftis_segmented/CRF194/20081218/30000015082014214884400002777_segmented.nii\n",
      "Working on file /media/nas/01_Datasets/CT/Abdomen/Fire3/05_Syngovia_niftis_segmented/CRF194/20080429/30000015082014214884400002051_segmented.nii\n",
      "[0 1]\n",
      "[0 2]\n",
      "Saving on file /media/nas/01_Datasets/CT/Abdomen/Fire3/05_Syngovia_niftis_segmented/CRF194/20080429/30000015082014214884400002051_segmented.nii\n",
      "Working on file /media/nas/01_Datasets/CT/Abdomen/Fire3/05_Syngovia_niftis_segmented/CRF194/20080915/30000015082014214884400002522_segmented.nii\n",
      "[0 1]\n",
      "[0 2]\n",
      "Saving on file /media/nas/01_Datasets/CT/Abdomen/Fire3/05_Syngovia_niftis_segmented/CRF194/20080915/30000015082014214884400002522_segmented.nii\n",
      "Working on file /media/nas/01_Datasets/CT/Abdomen/Fire3/05_Syngovia_niftis_segmented/CRF194/20080630/30000015082014214884400002284_segmented.nii\n",
      "[0 1]\n",
      "[0 2]\n",
      "Saving on file /media/nas/01_Datasets/CT/Abdomen/Fire3/05_Syngovia_niftis_segmented/CRF194/20080630/30000015082014214884400002284_segmented.nii\n",
      "Working on file /media/nas/01_Datasets/CT/Abdomen/Fire3/05_Syngovia_niftis_segmented/CRF194/20090623/30000015082014214884400003016_segmented.nii\n",
      "[0 1]\n"
     ]
    },
    {
     "name": "stderr",
     "output_type": "stream",
     "text": [
      "\r",
      " 28%|██▊       | 15/54 [02:45<12:24, 19.08s/it]"
     ]
    },
    {
     "name": "stdout",
     "output_type": "stream",
     "text": [
      "[0 2]\n",
      "Saving on file /media/nas/01_Datasets/CT/Abdomen/Fire3/05_Syngovia_niftis_segmented/CRF194/20090623/30000015082014214884400003016_segmented.nii\n",
      "Working on file /media/nas/01_Datasets/CT/Abdomen/Fire3/05_Syngovia_niftis_segmented/CRF220/20090803/3609_segmented.nii\n",
      "[0 1]\n",
      "[0 2]\n",
      "Saving on file /media/nas/01_Datasets/CT/Abdomen/Fire3/05_Syngovia_niftis_segmented/CRF220/20090803/3609_segmented.nii\n",
      "Working on file /media/nas/01_Datasets/CT/Abdomen/Fire3/05_Syngovia_niftis_segmented/CRF220/20090126/3709_segmented.nii\n",
      "[0 1]\n",
      "[0 2]\n",
      "Saving on file /media/nas/01_Datasets/CT/Abdomen/Fire3/05_Syngovia_niftis_segmented/CRF220/20090126/3709_segmented.nii\n",
      "Working on file /media/nas/01_Datasets/CT/Abdomen/Fire3/05_Syngovia_niftis_segmented/CRF220/20090119/2478_segmented.nii\n",
      "[0 1]\n",
      "[0 2]\n",
      "Saving on file /media/nas/01_Datasets/CT/Abdomen/Fire3/05_Syngovia_niftis_segmented/CRF220/20090119/2478_segmented.nii\n",
      "Working on file /media/nas/01_Datasets/CT/Abdomen/Fire3/05_Syngovia_niftis_segmented/CRF220/20090318/3200_segmented.nii\n",
      "[0 1]\n",
      "[0 2]\n",
      "Saving on file /media/nas/01_Datasets/CT/Abdomen/Fire3/05_Syngovia_niftis_segmented/CRF220/20090318/3200_segmented.nii\n",
      "Working on file /media/nas/01_Datasets/CT/Abdomen/Fire3/05_Syngovia_niftis_segmented/CRF220/20100113/3840_segmented.nii\n",
      "[0 1]\n",
      "[0 2]\n",
      "Saving on file /media/nas/01_Datasets/CT/Abdomen/Fire3/05_Syngovia_niftis_segmented/CRF220/20100113/3840_segmented.nii\n",
      "Working on file /media/nas/01_Datasets/CT/Abdomen/Fire3/05_Syngovia_niftis_segmented/CRF220/20090528/3386_segmented.nii\n",
      "[0 1]\n"
     ]
    },
    {
     "name": "stderr",
     "output_type": "stream",
     "text": [
      "\r",
      " 30%|██▉       | 16/54 [03:03<11:43, 18.51s/it]"
     ]
    },
    {
     "name": "stdout",
     "output_type": "stream",
     "text": [
      "[0 2]\n",
      "Saving on file /media/nas/01_Datasets/CT/Abdomen/Fire3/05_Syngovia_niftis_segmented/CRF220/20090528/3386_segmented.nii\n",
      "Working on file /media/nas/01_Datasets/CT/Abdomen/Fire3/05_Syngovia_niftis_segmented/CRF243/20080317/30000015082014214884400000078_segmented.nii\n",
      "[0 1]\n",
      "[0 2]\n",
      "Saving on file /media/nas/01_Datasets/CT/Abdomen/Fire3/05_Syngovia_niftis_segmented/CRF243/20080317/30000015082014214884400000078_segmented.nii\n",
      "Working on file /media/nas/01_Datasets/CT/Abdomen/Fire3/05_Syngovia_niftis_segmented/CRF243/20090723/30000015082014214884400000360_segmented.nii\n",
      "[0 1]\n"
     ]
    },
    {
     "name": "stderr",
     "output_type": "stream",
     "text": [
      "\r",
      " 31%|███▏      | 17/54 [03:06<08:39, 14.05s/it]"
     ]
    },
    {
     "name": "stdout",
     "output_type": "stream",
     "text": [
      "[0 2]\n",
      "Saving on file /media/nas/01_Datasets/CT/Abdomen/Fire3/05_Syngovia_niftis_segmented/CRF243/20090723/30000015082014214884400000360_segmented.nii\n",
      "Working on file /media/nas/01_Datasets/CT/Abdomen/Fire3/05_Syngovia_niftis_segmented/CRF248/20110616/30000015061511321355700000697_segmented.nii\n",
      "[0 1]\n",
      "[0 2]\n",
      "Saving on file /media/nas/01_Datasets/CT/Abdomen/Fire3/05_Syngovia_niftis_segmented/CRF248/20110616/30000015061511321355700000697_segmented.nii\n",
      "Working on file /media/nas/01_Datasets/CT/Abdomen/Fire3/05_Syngovia_niftis_segmented/CRF248/20110616/30000015061511321355700000455_segmented.nii\n",
      "[0 1]\n",
      "[0 2]\n",
      "Saving on file /media/nas/01_Datasets/CT/Abdomen/Fire3/05_Syngovia_niftis_segmented/CRF248/20110616/30000015061511321355700000455_segmented.nii\n",
      "Working on file /media/nas/01_Datasets/CT/Abdomen/Fire3/05_Syngovia_niftis_segmented/CRF248/20090227/30000015061511321355700000110_segmented.nii\n",
      "[0 1]\n"
     ]
    },
    {
     "name": "stderr",
     "output_type": "stream",
     "text": [
      "\r",
      " 33%|███▎      | 18/54 [03:16<07:33, 12.60s/it]"
     ]
    },
    {
     "name": "stdout",
     "output_type": "stream",
     "text": [
      "[0 2]\n",
      "Saving on file /media/nas/01_Datasets/CT/Abdomen/Fire3/05_Syngovia_niftis_segmented/CRF248/20090227/30000015061511321355700000110_segmented.nii\n",
      "Working on file /media/nas/01_Datasets/CT/Abdomen/Fire3/05_Syngovia_niftis_segmented/CRF258/20080731/30000015072111372787400000759_segmented.nii\n",
      "[0 1]\n",
      "[0 2]\n",
      "Saving on file /media/nas/01_Datasets/CT/Abdomen/Fire3/05_Syngovia_niftis_segmented/CRF258/20080731/30000015072111372787400000759_segmented.nii\n",
      "Working on file /media/nas/01_Datasets/CT/Abdomen/Fire3/05_Syngovia_niftis_segmented/CRF258/20080129/30000015072111372787400000100_segmented.nii\n",
      "[0 1]\n",
      "[0 2]\n",
      "Saving on file /media/nas/01_Datasets/CT/Abdomen/Fire3/05_Syngovia_niftis_segmented/CRF258/20080129/30000015072111372787400000100_segmented.nii\n",
      "Working on file /media/nas/01_Datasets/CT/Abdomen/Fire3/05_Syngovia_niftis_segmented/CRF258/20080423/30000015072111372787400000260_segmented.nii\n",
      "[0 1]\n",
      "[0 2]\n",
      "Saving on file /media/nas/01_Datasets/CT/Abdomen/Fire3/05_Syngovia_niftis_segmented/CRF258/20080423/30000015072111372787400000260_segmented.nii\n",
      "Working on file /media/nas/01_Datasets/CT/Abdomen/Fire3/05_Syngovia_niftis_segmented/CRF258/20080423/30000015072111372787400000338_segmented.nii\n",
      "[0 1]\n",
      "[0 2]\n",
      "Saving on file /media/nas/01_Datasets/CT/Abdomen/Fire3/05_Syngovia_niftis_segmented/CRF258/20080423/30000015072111372787400000338_segmented.nii\n",
      "Working on file /media/nas/01_Datasets/CT/Abdomen/Fire3/05_Syngovia_niftis_segmented/CRF258/20090116/30000015072111372787400001668_segmented.nii\n",
      "[0 1]\n",
      "[0 2]\n",
      "Saving on file /media/nas/01_Datasets/CT/Abdomen/Fire3/05_Syngovia_niftis_segmented/CRF258/20090116/30000015072111372787400001668_segmented.nii\n",
      "Working on file /media/nas/01_Datasets/CT/Abdomen/Fire3/05_Syngovia_niftis_segmented/CRF258/20080801/30000015072111372787400001007_segmented.nii\n",
      "[0 1]\n",
      "[0 2]\n",
      "Saving on file /media/nas/01_Datasets/CT/Abdomen/Fire3/05_Syngovia_niftis_segmented/CRF258/20080801/30000015072111372787400001007_segmented.nii\n",
      "Working on file /media/nas/01_Datasets/CT/Abdomen/Fire3/05_Syngovia_niftis_segmented/CRF258/20081203/30000015072111372787400001410_segmented.nii\n",
      "[0 1]\n"
     ]
    },
    {
     "name": "stderr",
     "output_type": "stream",
     "text": [
      "\r",
      " 35%|███▌      | 19/54 [03:28<07:21, 12.62s/it]"
     ]
    },
    {
     "name": "stdout",
     "output_type": "stream",
     "text": [
      "[0 2]\n",
      "Saving on file /media/nas/01_Datasets/CT/Abdomen/Fire3/05_Syngovia_niftis_segmented/CRF258/20081203/30000015072111372787400001410_segmented.nii\n",
      "Working on file /media/nas/01_Datasets/CT/Abdomen/Fire3/05_Syngovia_niftis_segmented/CRF262/20090422/30000015061512143535900000423_segmented.nii\n",
      "[0 1]\n",
      "[0 2]\n",
      "Saving on file /media/nas/01_Datasets/CT/Abdomen/Fire3/05_Syngovia_niftis_segmented/CRF262/20090422/30000015061512143535900000423_segmented.nii\n",
      "Working on file /media/nas/01_Datasets/CT/Abdomen/Fire3/05_Syngovia_niftis_segmented/CRF262/20090422/30000015061512143535900000334_segmented.nii\n",
      "[0 1]\n",
      "[0 2]\n",
      "Saving on file /media/nas/01_Datasets/CT/Abdomen/Fire3/05_Syngovia_niftis_segmented/CRF262/20090422/30000015061512143535900000334_segmented.nii\n",
      "Working on file /media/nas/01_Datasets/CT/Abdomen/Fire3/05_Syngovia_niftis_segmented/CRF262/20090213/30000015061512143535900000081_segmented.nii\n",
      "[0 1]\n"
     ]
    },
    {
     "name": "stderr",
     "output_type": "stream",
     "text": [
      "\r",
      " 37%|███▋      | 20/54 [03:34<05:57, 10.52s/it]"
     ]
    },
    {
     "name": "stdout",
     "output_type": "stream",
     "text": [
      "[0 2]\n",
      "Saving on file /media/nas/01_Datasets/CT/Abdomen/Fire3/05_Syngovia_niftis_segmented/CRF262/20090213/30000015061512143535900000081_segmented.nii\n",
      "Working on file /media/nas/01_Datasets/CT/Abdomen/Fire3/05_Syngovia_niftis_segmented/CRF265/20080714/30000015072117033120300001048_segmented.nii\n",
      "[0 1]\n",
      "[0 2]\n",
      "Saving on file /media/nas/01_Datasets/CT/Abdomen/Fire3/05_Syngovia_niftis_segmented/CRF265/20080714/30000015072117033120300001048_segmented.nii\n",
      "Working on file /media/nas/01_Datasets/CT/Abdomen/Fire3/05_Syngovia_niftis_segmented/CRF265/20080220/30000015072117033120300000382_segmented.nii\n",
      "[0 1]\n",
      "[0 2]\n",
      "Saving on file /media/nas/01_Datasets/CT/Abdomen/Fire3/05_Syngovia_niftis_segmented/CRF265/20080220/30000015072117033120300000382_segmented.nii\n",
      "Working on file /media/nas/01_Datasets/CT/Abdomen/Fire3/05_Syngovia_niftis_segmented/CRF265/20080425/30000015072117033120300000845_segmented.nii\n",
      "[0 1]\n"
     ]
    },
    {
     "name": "stderr",
     "output_type": "stream",
     "text": [
      "\r",
      " 39%|███▉      | 21/54 [03:45<05:52, 10.69s/it]"
     ]
    },
    {
     "name": "stdout",
     "output_type": "stream",
     "text": [
      "[0 2]\n",
      "Saving on file /media/nas/01_Datasets/CT/Abdomen/Fire3/05_Syngovia_niftis_segmented/CRF265/20080425/30000015072117033120300000845_segmented.nii\n",
      "Working on file /media/nas/01_Datasets/CT/Abdomen/Fire3/05_Syngovia_niftis_segmented/CRF295/20080326/30000015072118433141700000440_segmented.nii\n",
      "[0 1]\n",
      "[0 2]\n",
      "Saving on file /media/nas/01_Datasets/CT/Abdomen/Fire3/05_Syngovia_niftis_segmented/CRF295/20080326/30000015072118433141700000440_segmented.nii\n",
      "Working on file /media/nas/01_Datasets/CT/Abdomen/Fire3/05_Syngovia_niftis_segmented/CRF295/20080125/30000015072118433141700000294_segmented.nii\n",
      "[0 1]\n",
      "[0 2]\n",
      "Saving on file /media/nas/01_Datasets/CT/Abdomen/Fire3/05_Syngovia_niftis_segmented/CRF295/20080125/30000015072118433141700000294_segmented.nii\n",
      "Working on file /media/nas/01_Datasets/CT/Abdomen/Fire3/05_Syngovia_niftis_segmented/CRF295/20080508/30000015072118433141700000593_segmented.nii\n",
      "[0 1]\n"
     ]
    },
    {
     "name": "stderr",
     "output_type": "stream",
     "text": [
      "\r",
      " 41%|████      | 22/54 [03:52<05:03,  9.49s/it]"
     ]
    },
    {
     "name": "stdout",
     "output_type": "stream",
     "text": [
      "[0 2]\n",
      "Saving on file /media/nas/01_Datasets/CT/Abdomen/Fire3/05_Syngovia_niftis_segmented/CRF295/20080508/30000015072118433141700000593_segmented.nii\n",
      "Working on file /media/nas/01_Datasets/CT/Abdomen/Fire3/05_Syngovia_niftis_segmented/CRF376/20100218/30000015072718372388400007337_segmented.nii\n",
      "[0 1]\n",
      "[0 2]\n",
      "Saving on file /media/nas/01_Datasets/CT/Abdomen/Fire3/05_Syngovia_niftis_segmented/CRF376/20100218/30000015072718372388400007337_segmented.nii\n",
      "Working on file /media/nas/01_Datasets/CT/Abdomen/Fire3/05_Syngovia_niftis_segmented/CRF376/20090814/30000015072718372388400007160_segmented.nii\n",
      "[0 1]\n",
      "[0 2]\n",
      "Saving on file /media/nas/01_Datasets/CT/Abdomen/Fire3/05_Syngovia_niftis_segmented/CRF376/20090814/30000015072718372388400007160_segmented.nii\n",
      "Working on file /media/nas/01_Datasets/CT/Abdomen/Fire3/05_Syngovia_niftis_segmented/CRF376/20081014/30000015072718372388400002429_segmented.nii\n",
      "[0 1]\n",
      "[0 2]\n",
      "Saving on file /media/nas/01_Datasets/CT/Abdomen/Fire3/05_Syngovia_niftis_segmented/CRF376/20081014/30000015072718372388400002429_segmented.nii\n",
      "Working on file /media/nas/01_Datasets/CT/Abdomen/Fire3/05_Syngovia_niftis_segmented/CRF376/20090427/30000015072718372388400004525_segmented.nii\n",
      "[0 1]\n",
      "[0 2]\n",
      "Saving on file /media/nas/01_Datasets/CT/Abdomen/Fire3/05_Syngovia_niftis_segmented/CRF376/20090427/30000015072718372388400004525_segmented.nii\n",
      "Working on file /media/nas/01_Datasets/CT/Abdomen/Fire3/05_Syngovia_niftis_segmented/CRF376/20080722/30000015072718372388400000435_segmented.nii\n",
      "[0 1]\n",
      "[0 2]\n",
      "Saving on file /media/nas/01_Datasets/CT/Abdomen/Fire3/05_Syngovia_niftis_segmented/CRF376/20080722/30000015072718372388400000435_segmented.nii\n",
      "Working on file /media/nas/01_Datasets/CT/Abdomen/Fire3/05_Syngovia_niftis_segmented/CRF376/20100908/30000015072910312446200000200_segmented.nii\n",
      "[0 1]\n",
      "[0 2]\n",
      "Saving on file /media/nas/01_Datasets/CT/Abdomen/Fire3/05_Syngovia_niftis_segmented/CRF376/20100908/30000015072910312446200000200_segmented.nii\n",
      "Working on file /media/nas/01_Datasets/CT/Abdomen/Fire3/05_Syngovia_niftis_segmented/CRF376/20101103/30000015072910312446200002014_segmented.nii\n",
      "[0 1]\n",
      "[0 2]\n",
      "Saving on file /media/nas/01_Datasets/CT/Abdomen/Fire3/05_Syngovia_niftis_segmented/CRF376/20101103/30000015072910312446200002014_segmented.nii\n",
      "Working on file /media/nas/01_Datasets/CT/Abdomen/Fire3/05_Syngovia_niftis_segmented/CRF376/20101215/30000015072910312446200002696_segmented.nii\n",
      "[0 1]\n",
      "[0 2]\n",
      "Saving on file /media/nas/01_Datasets/CT/Abdomen/Fire3/05_Syngovia_niftis_segmented/CRF376/20101215/30000015072910312446200002696_segmented.nii\n",
      "Working on file /media/nas/01_Datasets/CT/Abdomen/Fire3/05_Syngovia_niftis_segmented/CRF376/20110225/30000015072910312446200002849_segmented.nii\n",
      "[0 1]\n",
      "[0 2]\n",
      "Saving on file /media/nas/01_Datasets/CT/Abdomen/Fire3/05_Syngovia_niftis_segmented/CRF376/20110225/30000015072910312446200002849_segmented.nii\n",
      "Working on file /media/nas/01_Datasets/CT/Abdomen/Fire3/05_Syngovia_niftis_segmented/CRF376/20120521/30000015072911385373100000285_segmented.nii\n",
      "[0 1]\n",
      "[0 2]\n",
      "Saving on file /media/nas/01_Datasets/CT/Abdomen/Fire3/05_Syngovia_niftis_segmented/CRF376/20120521/30000015072911385373100000285_segmented.nii\n",
      "Working on file /media/nas/01_Datasets/CT/Abdomen/Fire3/05_Syngovia_niftis_segmented/CRF376/20120521/30000015072911385373100000137_segmented.nii\n",
      "[0 1]\n",
      "[0 2]\n",
      "Saving on file /media/nas/01_Datasets/CT/Abdomen/Fire3/05_Syngovia_niftis_segmented/CRF376/20120521/30000015072911385373100000137_segmented.nii\n",
      "Working on file /media/nas/01_Datasets/CT/Abdomen/Fire3/05_Syngovia_niftis_segmented/CRF376/20121008/30000015072911385373100000679_segmented.nii\n",
      "[0 1]\n",
      "[0 2]\n",
      "Saving on file /media/nas/01_Datasets/CT/Abdomen/Fire3/05_Syngovia_niftis_segmented/CRF376/20121008/30000015072911385373100000679_segmented.nii\n",
      "Working on file /media/nas/01_Datasets/CT/Abdomen/Fire3/05_Syngovia_niftis_segmented/CRF376/20120730/30000015072911385373100000443_segmented.nii\n",
      "[0 1]\n"
     ]
    },
    {
     "name": "stderr",
     "output_type": "stream",
     "text": [
      "\r",
      " 43%|████▎     | 23/54 [04:53<12:55, 25.03s/it]"
     ]
    },
    {
     "name": "stdout",
     "output_type": "stream",
     "text": [
      "[0 2]\n",
      "Saving on file /media/nas/01_Datasets/CT/Abdomen/Fire3/05_Syngovia_niftis_segmented/CRF376/20120730/30000015072911385373100000443_segmented.nii\n",
      "Working on file /media/nas/01_Datasets/CT/Abdomen/Fire3/05_Syngovia_niftis_segmented/CRF391/20081203/30000015061512533203000000165_segmented.nii\n",
      "[0 1]\n",
      "[0 2]\n",
      "Saving on file /media/nas/01_Datasets/CT/Abdomen/Fire3/05_Syngovia_niftis_segmented/CRF391/20081203/30000015061512533203000000165_segmented.nii\n",
      "Working on file /media/nas/01_Datasets/CT/Abdomen/Fire3/05_Syngovia_niftis_segmented/CRF391/20081014/30000015061512533203000000000_segmented.nii\n",
      "[0 1]\n"
     ]
    },
    {
     "name": "stderr",
     "output_type": "stream",
     "text": [
      "\r",
      " 44%|████▍     | 24/54 [04:58<09:30, 19.02s/it]"
     ]
    },
    {
     "name": "stdout",
     "output_type": "stream",
     "text": [
      "[0 2]\n",
      "Saving on file /media/nas/01_Datasets/CT/Abdomen/Fire3/05_Syngovia_niftis_segmented/CRF391/20081014/30000015061512533203000000000_segmented.nii\n",
      "Working on file /media/nas/01_Datasets/CT/Abdomen/Fire3/05_Syngovia_niftis_segmented/CRF432/20081229/30000015061514220787200000205_segmented.nii\n",
      "[0 1]\n",
      "[0 2]\n",
      "Saving on file /media/nas/01_Datasets/CT/Abdomen/Fire3/05_Syngovia_niftis_segmented/CRF432/20081229/30000015061514220787200000205_segmented.nii\n",
      "Working on file /media/nas/01_Datasets/CT/Abdomen/Fire3/05_Syngovia_niftis_segmented/CRF432/20081229/30000015061514220787200000277_segmented.nii\n",
      "[0 1]\n",
      "[0 2]\n",
      "Saving on file /media/nas/01_Datasets/CT/Abdomen/Fire3/05_Syngovia_niftis_segmented/CRF432/20081229/30000015061514220787200000277_segmented.nii\n",
      "Working on file /media/nas/01_Datasets/CT/Abdomen/Fire3/05_Syngovia_niftis_segmented/CRF432/20090217/30000015061514220787200000541_segmented.nii\n",
      "[0 1]\n",
      "[0 2]\n",
      "Saving on file /media/nas/01_Datasets/CT/Abdomen/Fire3/05_Syngovia_niftis_segmented/CRF432/20090217/30000015061514220787200000541_segmented.nii\n",
      "Working on file /media/nas/01_Datasets/CT/Abdomen/Fire3/05_Syngovia_niftis_segmented/CRF432/20090217/30000015061514220787200000466_segmented.nii\n",
      "[0 1]\n"
     ]
    },
    {
     "name": "stderr",
     "output_type": "stream",
     "text": [
      "\r",
      " 46%|████▋     | 25/54 [05:07<07:42, 15.96s/it]"
     ]
    },
    {
     "name": "stdout",
     "output_type": "stream",
     "text": [
      "[0 2]\n",
      "Saving on file /media/nas/01_Datasets/CT/Abdomen/Fire3/05_Syngovia_niftis_segmented/CRF432/20090217/30000015061514220787200000466_segmented.nii\n",
      "Working on file /media/nas/01_Datasets/CT/Abdomen/Fire3/05_Syngovia_niftis_segmented/CRF474/20091125/30000015060218163243600001940_segmented.nii\n",
      "[0 1]\n",
      "[0 2]\n",
      "Saving on file /media/nas/01_Datasets/CT/Abdomen/Fire3/05_Syngovia_niftis_segmented/CRF474/20091125/30000015060218163243600001940_segmented.nii\n",
      "Working on file /media/nas/01_Datasets/CT/Abdomen/Fire3/05_Syngovia_niftis_segmented/CRF474/20100114/30000015060218163243600002131_segmented.nii\n",
      "[0 1]\n",
      "[0 2]\n",
      "Saving on file /media/nas/01_Datasets/CT/Abdomen/Fire3/05_Syngovia_niftis_segmented/CRF474/20100114/30000015060218163243600002131_segmented.nii\n",
      "Working on file /media/nas/01_Datasets/CT/Abdomen/Fire3/05_Syngovia_niftis_segmented/CRF474/20100225/30000015060218163243600002324_segmented.nii\n",
      "[0 1]\n",
      "[0 2]\n",
      "Saving on file /media/nas/01_Datasets/CT/Abdomen/Fire3/05_Syngovia_niftis_segmented/CRF474/20100225/30000015060218163243600002324_segmented.nii\n",
      "Working on file /media/nas/01_Datasets/CT/Abdomen/Fire3/05_Syngovia_niftis_segmented/CRF474/20100527/30000015060218163243600002767_segmented.nii\n",
      "[0 1]\n",
      "[0 2]\n",
      "Saving on file /media/nas/01_Datasets/CT/Abdomen/Fire3/05_Syngovia_niftis_segmented/CRF474/20100527/30000015060218163243600002767_segmented.nii\n",
      "Working on file /media/nas/01_Datasets/CT/Abdomen/Fire3/05_Syngovia_niftis_segmented/CRF474/20091015/30000015060218163243600001566_segmented.nii\n",
      "[0 1]\n",
      "[0 2]\n",
      "Saving on file /media/nas/01_Datasets/CT/Abdomen/Fire3/05_Syngovia_niftis_segmented/CRF474/20091015/30000015060218163243600001566_segmented.nii\n",
      "Working on file /media/nas/01_Datasets/CT/Abdomen/Fire3/05_Syngovia_niftis_segmented/CRF474/20100406/30000015060218163243600002504_segmented.nii\n",
      "[0 1]\n"
     ]
    },
    {
     "name": "stderr",
     "output_type": "stream",
     "text": [
      "\r",
      " 48%|████▊     | 26/54 [05:18<06:49, 14.62s/it]"
     ]
    },
    {
     "name": "stdout",
     "output_type": "stream",
     "text": [
      "[0 2]\n",
      "Saving on file /media/nas/01_Datasets/CT/Abdomen/Fire3/05_Syngovia_niftis_segmented/CRF474/20100406/30000015060218163243600002504_segmented.nii\n",
      "Working on file /media/nas/01_Datasets/CT/Abdomen/Fire3/05_Syngovia_niftis_segmented/CRF340/20100706/30000015060816011031900000142_segmented.nii\n",
      "[0 1]\n",
      "[0 2]\n",
      "Saving on file /media/nas/01_Datasets/CT/Abdomen/Fire3/05_Syngovia_niftis_segmented/CRF340/20100706/30000015060816011031900000142_segmented.nii\n",
      "Working on file /media/nas/01_Datasets/CT/Abdomen/Fire3/05_Syngovia_niftis_segmented/CRF340/20100804/30000015060816011031900000250_segmented.nii\n",
      "[0 1]\n",
      "[0 2]\n",
      "Saving on file /media/nas/01_Datasets/CT/Abdomen/Fire3/05_Syngovia_niftis_segmented/CRF340/20100804/30000015060816011031900000250_segmented.nii\n",
      "Working on file /media/nas/01_Datasets/CT/Abdomen/Fire3/05_Syngovia_niftis_segmented/CRF340/20110825/30000015060816011031900000398_segmented.nii\n",
      "[0 1]\n",
      "[0 2]\n",
      "Saving on file /media/nas/01_Datasets/CT/Abdomen/Fire3/05_Syngovia_niftis_segmented/CRF340/20110825/30000015060816011031900000398_segmented.nii\n",
      "Working on file /media/nas/01_Datasets/CT/Abdomen/Fire3/05_Syngovia_niftis_segmented/CRF340/20100622/30000015060816011031900000000_segmented.nii\n",
      "[0 1]\n"
     ]
    },
    {
     "name": "stderr",
     "output_type": "stream",
     "text": [
      "\r",
      " 50%|█████     | 27/54 [05:28<05:55, 13.16s/it]"
     ]
    },
    {
     "name": "stdout",
     "output_type": "stream",
     "text": [
      "[0 2]\n",
      "Saving on file /media/nas/01_Datasets/CT/Abdomen/Fire3/05_Syngovia_niftis_segmented/CRF340/20100622/30000015060816011031900000000_segmented.nii\n",
      "Working on file /media/nas/01_Datasets/CT/Abdomen/Fire3/05_Syngovia_niftis_segmented/CRF481/20090617/30000015060315220794400000200_segmented.nii\n",
      "[0 1]\n"
     ]
    },
    {
     "name": "stderr",
     "output_type": "stream",
     "text": [
      "\r",
      " 52%|█████▏    | 28/54 [05:30<04:17,  9.91s/it]"
     ]
    },
    {
     "name": "stdout",
     "output_type": "stream",
     "text": [
      "[0 2]\n",
      "Saving on file /media/nas/01_Datasets/CT/Abdomen/Fire3/05_Syngovia_niftis_segmented/CRF481/20090617/30000015060315220794400000200_segmented.nii\n",
      "Working on file /media/nas/01_Datasets/CT/Abdomen/Fire3/05_Syngovia_niftis_segmented/CRF515/20110302/30000015082615010518400004816_segmented.nii\n",
      "[0 1]\n",
      "[0 2]\n",
      "Saving on file /media/nas/01_Datasets/CT/Abdomen/Fire3/05_Syngovia_niftis_segmented/CRF515/20110302/30000015082615010518400004816_segmented.nii\n",
      "Working on file /media/nas/01_Datasets/CT/Abdomen/Fire3/05_Syngovia_niftis_segmented/CRF515/20100921/30000015082615010518400004136_segmented.nii\n",
      "[0 1]\n",
      "[0 2]\n",
      "Saving on file /media/nas/01_Datasets/CT/Abdomen/Fire3/05_Syngovia_niftis_segmented/CRF515/20100921/30000015082615010518400004136_segmented.nii\n",
      "Working on file /media/nas/01_Datasets/CT/Abdomen/Fire3/05_Syngovia_niftis_segmented/CRF515/20101220/30000015082615010518400004525_segmented.nii\n",
      "[0 1]\n",
      "[0 2]\n",
      "Saving on file /media/nas/01_Datasets/CT/Abdomen/Fire3/05_Syngovia_niftis_segmented/CRF515/20101220/30000015082615010518400004525_segmented.nii\n",
      "Working on file /media/nas/01_Datasets/CT/Abdomen/Fire3/05_Syngovia_niftis_segmented/CRF515/20100118/30000015082615010518400003313_segmented.nii\n",
      "[0 1]\n",
      "[0 2]\n",
      "Saving on file /media/nas/01_Datasets/CT/Abdomen/Fire3/05_Syngovia_niftis_segmented/CRF515/20100118/30000015082615010518400003313_segmented.nii\n",
      "Working on file /media/nas/01_Datasets/CT/Abdomen/Fire3/05_Syngovia_niftis_segmented/CRF515/20100331/30000015082615010518400003623_segmented.nii\n",
      "[0 1]\n",
      "[0 2]\n",
      "Saving on file /media/nas/01_Datasets/CT/Abdomen/Fire3/05_Syngovia_niftis_segmented/CRF515/20100331/30000015082615010518400003623_segmented.nii\n",
      "Working on file /media/nas/01_Datasets/CT/Abdomen/Fire3/05_Syngovia_niftis_segmented/CRF515/20100609/30000015082615010518400003912_segmented.nii\n",
      "[0 1]\n",
      "[0 2]\n",
      "Saving on file /media/nas/01_Datasets/CT/Abdomen/Fire3/05_Syngovia_niftis_segmented/CRF515/20100609/30000015082615010518400003912_segmented.nii\n",
      "Working on file /media/nas/01_Datasets/CT/Abdomen/Fire3/05_Syngovia_niftis_segmented/CRF515/20110621/30000015082615010518400005446_segmented.nii\n",
      "[0 1]\n"
     ]
    },
    {
     "name": "stderr",
     "output_type": "stream",
     "text": [
      "\r",
      " 54%|█████▎    | 29/54 [05:45<04:43, 11.36s/it]"
     ]
    },
    {
     "name": "stdout",
     "output_type": "stream",
     "text": [
      "[0 2]\n",
      "Saving on file /media/nas/01_Datasets/CT/Abdomen/Fire3/05_Syngovia_niftis_segmented/CRF515/20110621/30000015082615010518400005446_segmented.nii\n",
      "Working on file /media/nas/01_Datasets/CT/Abdomen/Fire3/05_Syngovia_niftis_segmented/CRF535/20091209/30000015060912590415200000072_segmented.nii\n",
      "[0 1]\n",
      "[0 2]\n",
      "Saving on file /media/nas/01_Datasets/CT/Abdomen/Fire3/05_Syngovia_niftis_segmented/CRF535/20091209/30000015060912590415200000072_segmented.nii\n",
      "Working on file /media/nas/01_Datasets/CT/Abdomen/Fire3/05_Syngovia_niftis_segmented/CRF535/20100129/30000015060912590415200000710_segmented.nii\n",
      "[0 1]\n",
      "[0 2]\n",
      "Saving on file /media/nas/01_Datasets/CT/Abdomen/Fire3/05_Syngovia_niftis_segmented/CRF535/20100129/30000015060912590415200000710_segmented.nii\n",
      "Working on file /media/nas/01_Datasets/CT/Abdomen/Fire3/05_Syngovia_niftis_segmented/CRF535/20100804/30000015060912590415200001226_segmented.nii\n",
      "[0 1]\n",
      "[0 2]\n",
      "Saving on file /media/nas/01_Datasets/CT/Abdomen/Fire3/05_Syngovia_niftis_segmented/CRF535/20100804/30000015060912590415200001226_segmented.nii\n",
      "Working on file /media/nas/01_Datasets/CT/Abdomen/Fire3/05_Syngovia_niftis_segmented/CRF535/20100311/30000015060912590415200000813_segmented.nii\n",
      "[0 1]\n"
     ]
    },
    {
     "name": "stderr",
     "output_type": "stream",
     "text": [
      "\r",
      " 56%|█████▌    | 30/54 [05:59<04:49, 12.06s/it]"
     ]
    },
    {
     "name": "stdout",
     "output_type": "stream",
     "text": [
      "[0 2]\n",
      "Saving on file /media/nas/01_Datasets/CT/Abdomen/Fire3/05_Syngovia_niftis_segmented/CRF535/20100311/30000015060912590415200000813_segmented.nii\n",
      "Working on file /media/nas/01_Datasets/CT/Abdomen/Fire3/05_Syngovia_niftis_segmented/CRF541/20100824/30000015061117301531700000348_segmented.nii\n",
      "[0 1]\n",
      "[0 2]\n",
      "Saving on file /media/nas/01_Datasets/CT/Abdomen/Fire3/05_Syngovia_niftis_segmented/CRF541/20100824/30000015061117301531700000348_segmented.nii\n",
      "Working on file /media/nas/01_Datasets/CT/Abdomen/Fire3/05_Syngovia_niftis_segmented/CRF541/20100712/30000015061117301531700000074_segmented.nii\n",
      "[0 1]\n",
      "[0 2]\n",
      "Saving on file /media/nas/01_Datasets/CT/Abdomen/Fire3/05_Syngovia_niftis_segmented/CRF541/20100712/30000015061117301531700000074_segmented.nii\n",
      "Working on file /media/nas/01_Datasets/CT/Abdomen/Fire3/05_Syngovia_niftis_segmented/CRF541/20101005/30000015061117301531700000552_segmented.nii\n",
      "[0 1]\n"
     ]
    },
    {
     "name": "stderr",
     "output_type": "stream",
     "text": [
      "\r",
      " 57%|█████▋    | 31/54 [06:09<04:26, 11.61s/it]"
     ]
    },
    {
     "name": "stdout",
     "output_type": "stream",
     "text": [
      "[0 2]\n",
      "Saving on file /media/nas/01_Datasets/CT/Abdomen/Fire3/05_Syngovia_niftis_segmented/CRF541/20101005/30000015061117301531700000552_segmented.nii\n",
      "Working on file /media/nas/01_Datasets/CT/Abdomen/Fire3/05_Syngovia_niftis_segmented/CRF545/20110325/30000015080312572901200000212_segmented.nii\n",
      "[0 1]\n",
      "[0 2]\n",
      "Saving on file /media/nas/01_Datasets/CT/Abdomen/Fire3/05_Syngovia_niftis_segmented/CRF545/20110325/30000015080312572901200000212_segmented.nii\n",
      "Working on file /media/nas/01_Datasets/CT/Abdomen/Fire3/05_Syngovia_niftis_segmented/CRF545/20110518/30000015080312572901200000324_segmented.nii\n",
      "[0 1]\n",
      "[0 2]\n",
      "Saving on file /media/nas/01_Datasets/CT/Abdomen/Fire3/05_Syngovia_niftis_segmented/CRF545/20110518/30000015080312572901200000324_segmented.nii\n",
      "Working on file /media/nas/01_Datasets/CT/Abdomen/Fire3/05_Syngovia_niftis_segmented/CRF545/20120524/30000015080312572901200000649_segmented.nii\n",
      "[0 1]\n",
      "[0 2]\n",
      "Saving on file /media/nas/01_Datasets/CT/Abdomen/Fire3/05_Syngovia_niftis_segmented/CRF545/20120524/30000015080312572901200000649_segmented.nii\n",
      "Working on file /media/nas/01_Datasets/CT/Abdomen/Fire3/05_Syngovia_niftis_segmented/CRF545/20110718/30000015080312572901200000438_segmented.nii\n",
      "[0 1]\n",
      "[0 2]\n",
      "Saving on file /media/nas/01_Datasets/CT/Abdomen/Fire3/05_Syngovia_niftis_segmented/CRF545/20110718/30000015080312572901200000438_segmented.nii\n",
      "Working on file /media/nas/01_Datasets/CT/Abdomen/Fire3/05_Syngovia_niftis_segmented/CRF545/20120216/30000015080312572901200000543_segmented.nii\n",
      "[0 1]\n",
      "[0 2]\n",
      "Saving on file /media/nas/01_Datasets/CT/Abdomen/Fire3/05_Syngovia_niftis_segmented/CRF545/20120216/30000015080312572901200000543_segmented.nii\n",
      "Working on file /media/nas/01_Datasets/CT/Abdomen/Fire3/05_Syngovia_niftis_segmented/CRF545/20110222/30000015080312572901200000098_segmented.nii\n",
      "[0 1]\n"
     ]
    },
    {
     "name": "stderr",
     "output_type": "stream",
     "text": [
      "\r",
      " 59%|█████▉    | 32/54 [06:23<04:27, 12.15s/it]"
     ]
    },
    {
     "name": "stdout",
     "output_type": "stream",
     "text": [
      "[0 2]\n",
      "Saving on file /media/nas/01_Datasets/CT/Abdomen/Fire3/05_Syngovia_niftis_segmented/CRF545/20110222/30000015080312572901200000098_segmented.nii\n",
      "Working on file /media/nas/01_Datasets/CT/Abdomen/Fire3/05_Syngovia_niftis_segmented/CRF546/20100826/30000015082615010518400002169_segmented.nii\n",
      "[0 1]\n",
      "[0 2]\n",
      "Saving on file /media/nas/01_Datasets/CT/Abdomen/Fire3/05_Syngovia_niftis_segmented/CRF546/20100826/30000015082615010518400002169_segmented.nii\n",
      "Working on file /media/nas/01_Datasets/CT/Abdomen/Fire3/05_Syngovia_niftis_segmented/CRF546/20100826/30000015082615010518400002245_segmented.nii\n",
      "[0 1]\n",
      "[0 2]\n",
      "Saving on file /media/nas/01_Datasets/CT/Abdomen/Fire3/05_Syngovia_niftis_segmented/CRF546/20100826/30000015082615010518400002245_segmented.nii\n",
      "Working on file /media/nas/01_Datasets/CT/Abdomen/Fire3/05_Syngovia_niftis_segmented/CRF546/20110228/30000015082615010518400003061_segmented.nii\n",
      "[0 1]\n",
      "[0 2]\n",
      "Saving on file /media/nas/01_Datasets/CT/Abdomen/Fire3/05_Syngovia_niftis_segmented/CRF546/20110228/30000015082615010518400003061_segmented.nii\n",
      "Working on file /media/nas/01_Datasets/CT/Abdomen/Fire3/05_Syngovia_niftis_segmented/CRF546/20110228/30000015082615010518400003132_segmented.nii\n",
      "[0 1]\n",
      "[0 2]\n",
      "Saving on file /media/nas/01_Datasets/CT/Abdomen/Fire3/05_Syngovia_niftis_segmented/CRF546/20110228/30000015082615010518400003132_segmented.nii\n",
      "Working on file /media/nas/01_Datasets/CT/Abdomen/Fire3/05_Syngovia_niftis_segmented/CRF546/20101220/30000015082615010518400002851_segmented.nii\n",
      "[0 1]\n",
      "[0 2]\n",
      "Saving on file /media/nas/01_Datasets/CT/Abdomen/Fire3/05_Syngovia_niftis_segmented/CRF546/20101220/30000015082615010518400002851_segmented.nii\n",
      "Working on file /media/nas/01_Datasets/CT/Abdomen/Fire3/05_Syngovia_niftis_segmented/CRF546/20101220/30000015082615010518400002788_segmented.nii\n",
      "[0 1]\n",
      "[0 2]\n",
      "Saving on file /media/nas/01_Datasets/CT/Abdomen/Fire3/05_Syngovia_niftis_segmented/CRF546/20101220/30000015082615010518400002788_segmented.nii\n",
      "Working on file /media/nas/01_Datasets/CT/Abdomen/Fire3/05_Syngovia_niftis_segmented/CRF546/20100726/30000015082615010518400001963_segmented.nii\n",
      "[0 1]\n",
      "[0 2]\n",
      "Saving on file /media/nas/01_Datasets/CT/Abdomen/Fire3/05_Syngovia_niftis_segmented/CRF546/20100726/30000015082615010518400001963_segmented.nii\n",
      "Working on file /media/nas/01_Datasets/CT/Abdomen/Fire3/05_Syngovia_niftis_segmented/CRF546/20100726/30000015082615010518400001890_segmented.nii\n",
      "[0 1]\n",
      "[0 2]\n",
      "Saving on file /media/nas/01_Datasets/CT/Abdomen/Fire3/05_Syngovia_niftis_segmented/CRF546/20100726/30000015082615010518400001890_segmented.nii\n",
      "Working on file /media/nas/01_Datasets/CT/Abdomen/Fire3/05_Syngovia_niftis_segmented/CRF546/20101013/30000015082615010518400002516_segmented.nii\n",
      "[0 1]\n",
      "[0 2]\n",
      "Saving on file /media/nas/01_Datasets/CT/Abdomen/Fire3/05_Syngovia_niftis_segmented/CRF546/20101013/30000015082615010518400002516_segmented.nii\n",
      "Working on file /media/nas/01_Datasets/CT/Abdomen/Fire3/05_Syngovia_niftis_segmented/CRF546/20101013/30000015082615010518400002583_segmented.nii\n",
      "[0 1]\n"
     ]
    },
    {
     "name": "stderr",
     "output_type": "stream",
     "text": [
      "\r",
      " 61%|██████    | 33/54 [06:39<04:42, 13.45s/it]"
     ]
    },
    {
     "name": "stdout",
     "output_type": "stream",
     "text": [
      "[0 2]\n",
      "Saving on file /media/nas/01_Datasets/CT/Abdomen/Fire3/05_Syngovia_niftis_segmented/CRF546/20101013/30000015082615010518400002583_segmented.nii\n",
      "Working on file /media/nas/01_Datasets/CT/Abdomen/Fire3/05_Syngovia_niftis_segmented/CRF549/20120817/30000015061216262015500001156_segmented.nii\n",
      "[0 1]\n",
      "[0 2]\n",
      "Saving on file /media/nas/01_Datasets/CT/Abdomen/Fire3/05_Syngovia_niftis_segmented/CRF549/20120817/30000015061216262015500001156_segmented.nii\n",
      "Working on file /media/nas/01_Datasets/CT/Abdomen/Fire3/05_Syngovia_niftis_segmented/CRF549/20120817/30000015061216262015500001015_segmented.nii\n",
      "[0 1]\n",
      "[0 2]\n",
      "Saving on file /media/nas/01_Datasets/CT/Abdomen/Fire3/05_Syngovia_niftis_segmented/CRF549/20120817/30000015061216262015500001015_segmented.nii\n",
      "Working on file /media/nas/01_Datasets/CT/Abdomen/Fire3/05_Syngovia_niftis_segmented/CRF549/20130708/30000015061216262015500002865_segmented.nii\n",
      "[0 1]\n",
      "[0 2]\n",
      "Saving on file /media/nas/01_Datasets/CT/Abdomen/Fire3/05_Syngovia_niftis_segmented/CRF549/20130708/30000015061216262015500002865_segmented.nii\n",
      "Working on file /media/nas/01_Datasets/CT/Abdomen/Fire3/05_Syngovia_niftis_segmented/CRF549/20121114/30000015061216262015500001308_segmented.nii\n",
      "[0 1]\n",
      "[0 2]\n",
      "Saving on file /media/nas/01_Datasets/CT/Abdomen/Fire3/05_Syngovia_niftis_segmented/CRF549/20121114/30000015061216262015500001308_segmented.nii\n",
      "Working on file /media/nas/01_Datasets/CT/Abdomen/Fire3/05_Syngovia_niftis_segmented/CRF549/20120515/30000015061216262015500000254_segmented.nii\n",
      "[0 1]\n",
      "[0 2]\n",
      "Saving on file /media/nas/01_Datasets/CT/Abdomen/Fire3/05_Syngovia_niftis_segmented/CRF549/20120515/30000015061216262015500000254_segmented.nii\n",
      "Working on file /media/nas/01_Datasets/CT/Abdomen/Fire3/05_Syngovia_niftis_segmented/CRF549/20130114/30000015061216262015500001771_segmented.nii\n",
      "[0 1]\n",
      "[0 2]\n",
      "Saving on file /media/nas/01_Datasets/CT/Abdomen/Fire3/05_Syngovia_niftis_segmented/CRF549/20130114/30000015061216262015500001771_segmented.nii\n",
      "Working on file /media/nas/01_Datasets/CT/Abdomen/Fire3/05_Syngovia_niftis_segmented/CRF549/20120628/30000015061216262015500000443_segmented.nii\n",
      "[0 1]\n"
     ]
    },
    {
     "name": "stderr",
     "output_type": "stream",
     "text": [
      "\r",
      " 63%|██████▎   | 34/54 [07:01<05:22, 16.12s/it]"
     ]
    },
    {
     "name": "stdout",
     "output_type": "stream",
     "text": [
      "[0 2]\n",
      "Saving on file /media/nas/01_Datasets/CT/Abdomen/Fire3/05_Syngovia_niftis_segmented/CRF549/20120628/30000015061216262015500000443_segmented.nii\n",
      "Working on file /media/nas/01_Datasets/CT/Abdomen/Fire3/05_Syngovia_niftis_segmented/CRF550/20110826/30000015061510563927900006312_segmented.nii\n",
      "[0 1]\n",
      "[0 2]\n",
      "Saving on file /media/nas/01_Datasets/CT/Abdomen/Fire3/05_Syngovia_niftis_segmented/CRF550/20110826/30000015061510563927900006312_segmented.nii\n",
      "Working on file /media/nas/01_Datasets/CT/Abdomen/Fire3/05_Syngovia_niftis_segmented/CRF550/20110218/30000015061510563927900003890_segmented.nii\n",
      "[0 1]\n",
      "[0 2]\n",
      "Saving on file /media/nas/01_Datasets/CT/Abdomen/Fire3/05_Syngovia_niftis_segmented/CRF550/20110218/30000015061510563927900003890_segmented.nii\n",
      "Working on file /media/nas/01_Datasets/CT/Abdomen/Fire3/05_Syngovia_niftis_segmented/CRF550/20100929/30000015061510563927900003066_segmented.nii\n",
      "[0 1]\n",
      "[0 2]\n",
      "Saving on file /media/nas/01_Datasets/CT/Abdomen/Fire3/05_Syngovia_niftis_segmented/CRF550/20100929/30000015061510563927900003066_segmented.nii\n",
      "Working on file /media/nas/01_Datasets/CT/Abdomen/Fire3/05_Syngovia_niftis_segmented/CRF550/20100429/30000015061510563927900000586_segmented.nii\n",
      "[0 1]\n",
      "[0 2]\n",
      "Saving on file /media/nas/01_Datasets/CT/Abdomen/Fire3/05_Syngovia_niftis_segmented/CRF550/20100429/30000015061510563927900000586_segmented.nii\n",
      "Working on file /media/nas/01_Datasets/CT/Abdomen/Fire3/05_Syngovia_niftis_segmented/CRF550/20100609/30000015061510563927900001418_segmented.nii\n",
      "[0 1]\n",
      "[0 2]\n",
      "Saving on file /media/nas/01_Datasets/CT/Abdomen/Fire3/05_Syngovia_niftis_segmented/CRF550/20100609/30000015061510563927900001418_segmented.nii\n",
      "Working on file /media/nas/01_Datasets/CT/Abdomen/Fire3/05_Syngovia_niftis_segmented/CRF550/20100721/30000015061510563927900002192_segmented.nii\n",
      "[0 1]\n"
     ]
    },
    {
     "name": "stderr",
     "output_type": "stream",
     "text": [
      "\r",
      " 65%|██████▍   | 35/54 [07:38<07:02, 22.25s/it]"
     ]
    },
    {
     "name": "stdout",
     "output_type": "stream",
     "text": [
      "[0 2]\n",
      "Saving on file /media/nas/01_Datasets/CT/Abdomen/Fire3/05_Syngovia_niftis_segmented/CRF550/20100721/30000015061510563927900002192_segmented.nii\n",
      "Working on file /media/nas/01_Datasets/CT/Abdomen/Fire3/05_Syngovia_niftis_segmented/CRF551/20130111/30000015061517034906500002081_segmented.nii\n",
      "[0 1]\n",
      "[0 2]\n",
      "Saving on file /media/nas/01_Datasets/CT/Abdomen/Fire3/05_Syngovia_niftis_segmented/CRF551/20130111/30000015061517034906500002081_segmented.nii\n",
      "Working on file /media/nas/01_Datasets/CT/Abdomen/Fire3/05_Syngovia_niftis_segmented/CRF551/20111028/30000015061517034906500001326_segmented.nii\n",
      "[0 1]\n",
      "[0 2]\n",
      "Saving on file /media/nas/01_Datasets/CT/Abdomen/Fire3/05_Syngovia_niftis_segmented/CRF551/20111028/30000015061517034906500001326_segmented.nii\n",
      "Working on file /media/nas/01_Datasets/CT/Abdomen/Fire3/05_Syngovia_niftis_segmented/CRF551/20110531/30000015061517034906500001032_segmented.nii\n",
      "[0 1]\n",
      "[0 2]\n",
      "Saving on file /media/nas/01_Datasets/CT/Abdomen/Fire3/05_Syngovia_niftis_segmented/CRF551/20110531/30000015061517034906500001032_segmented.nii\n",
      "Working on file /media/nas/01_Datasets/CT/Abdomen/Fire3/05_Syngovia_niftis_segmented/CRF551/20110114/30000015061517034906500000459_segmented.nii\n",
      "[0 1]\n",
      "[0 2]\n",
      "Saving on file /media/nas/01_Datasets/CT/Abdomen/Fire3/05_Syngovia_niftis_segmented/CRF551/20110114/30000015061517034906500000459_segmented.nii\n",
      "Working on file /media/nas/01_Datasets/CT/Abdomen/Fire3/05_Syngovia_niftis_segmented/CRF551/20110308/30000015061517034906500000747_segmented.nii\n",
      "[0 1]\n",
      "[0 2]\n",
      "Saving on file /media/nas/01_Datasets/CT/Abdomen/Fire3/05_Syngovia_niftis_segmented/CRF551/20110308/30000015061517034906500000747_segmented.nii\n",
      "Working on file /media/nas/01_Datasets/CT/Abdomen/Fire3/05_Syngovia_niftis_segmented/CRF551/20101118/30000015061517034906500000172_segmented.nii\n",
      "[0 1]\n",
      "[0 2]\n",
      "Saving on file /media/nas/01_Datasets/CT/Abdomen/Fire3/05_Syngovia_niftis_segmented/CRF551/20101118/30000015061517034906500000172_segmented.nii\n",
      "Working on file /media/nas/01_Datasets/CT/Abdomen/Fire3/05_Syngovia_niftis_segmented/CRF551/20120209/30000015061517034906500001612_segmented.nii\n",
      "[0 1]\n",
      "[0 2]\n",
      "Saving on file /media/nas/01_Datasets/CT/Abdomen/Fire3/05_Syngovia_niftis_segmented/CRF551/20120209/30000015061517034906500001612_segmented.nii\n",
      "Working on file /media/nas/01_Datasets/CT/Abdomen/Fire3/05_Syngovia_niftis_segmented/CRF551/20121114/30000015061517034906500001729_segmented.nii\n",
      "[0 1]\n"
     ]
    },
    {
     "name": "stderr",
     "output_type": "stream",
     "text": [
      "\r",
      " 67%|██████▋   | 36/54 [07:58<06:28, 21.60s/it]"
     ]
    },
    {
     "name": "stdout",
     "output_type": "stream",
     "text": [
      "[0 2]\n",
      "Saving on file /media/nas/01_Datasets/CT/Abdomen/Fire3/05_Syngovia_niftis_segmented/CRF551/20121114/30000015061517034906500001729_segmented.nii\n",
      "Working on file /media/nas/01_Datasets/CT/Abdomen/Fire3/05_Syngovia_niftis_segmented/CRF556/20100113/30000015061519121476600000056_segmented.nii\n",
      "[0 1]\n",
      "[0 2]\n",
      "Saving on file /media/nas/01_Datasets/CT/Abdomen/Fire3/05_Syngovia_niftis_segmented/CRF556/20100113/30000015061519121476600000056_segmented.nii\n",
      "Working on file /media/nas/01_Datasets/CT/Abdomen/Fire3/05_Syngovia_niftis_segmented/CRF556/20100113/30000015061519121476600000147_segmented.nii\n",
      "[0 1]\n",
      "[0 2]\n",
      "Saving on file /media/nas/01_Datasets/CT/Abdomen/Fire3/05_Syngovia_niftis_segmented/CRF556/20100113/30000015061519121476600000147_segmented.nii\n",
      "Working on file /media/nas/01_Datasets/CT/Abdomen/Fire3/05_Syngovia_niftis_segmented/CRF556/20100913/30000015061519121476600001082_segmented.nii\n",
      "[0 1]\n",
      "[0 2]\n",
      "Saving on file /media/nas/01_Datasets/CT/Abdomen/Fire3/05_Syngovia_niftis_segmented/CRF556/20100913/30000015061519121476600001082_segmented.nii\n",
      "Working on file /media/nas/01_Datasets/CT/Abdomen/Fire3/05_Syngovia_niftis_segmented/CRF556/20100913/30000015061519121476600001022_segmented.nii\n",
      "[0 1]\n",
      "[0 2]\n",
      "Saving on file /media/nas/01_Datasets/CT/Abdomen/Fire3/05_Syngovia_niftis_segmented/CRF556/20100913/30000015061519121476600001022_segmented.nii\n",
      "Working on file /media/nas/01_Datasets/CT/Abdomen/Fire3/05_Syngovia_niftis_segmented/CRF556/20100304/30000015061519121476600000390_segmented.nii\n",
      "[0 1]\n",
      "[0 2]\n",
      "Saving on file /media/nas/01_Datasets/CT/Abdomen/Fire3/05_Syngovia_niftis_segmented/CRF556/20100304/30000015061519121476600000390_segmented.nii\n",
      "Working on file /media/nas/01_Datasets/CT/Abdomen/Fire3/05_Syngovia_niftis_segmented/CRF556/20100304/30000015061519121476600000297_segmented.nii\n",
      "[0 1]\n",
      "[0 2]\n",
      "Saving on file /media/nas/01_Datasets/CT/Abdomen/Fire3/05_Syngovia_niftis_segmented/CRF556/20100304/30000015061519121476600000297_segmented.nii\n",
      "Working on file /media/nas/01_Datasets/CT/Abdomen/Fire3/05_Syngovia_niftis_segmented/CRF556/20100507/30000015061519121476600000561_segmented.nii\n",
      "[0 1]\n",
      "[0 2]\n",
      "Saving on file /media/nas/01_Datasets/CT/Abdomen/Fire3/05_Syngovia_niftis_segmented/CRF556/20100507/30000015061519121476600000561_segmented.nii\n",
      "Working on file /media/nas/01_Datasets/CT/Abdomen/Fire3/05_Syngovia_niftis_segmented/CRF556/20100507/30000015061519121476600000627_segmented.nii\n",
      "[0 1]\n",
      "[0 2]\n",
      "Saving on file /media/nas/01_Datasets/CT/Abdomen/Fire3/05_Syngovia_niftis_segmented/CRF556/20100507/30000015061519121476600000627_segmented.nii\n",
      "Working on file /media/nas/01_Datasets/CT/Abdomen/Fire3/05_Syngovia_niftis_segmented/CRF556/20101105/30000015061519121476600001317_segmented.nii\n",
      "[0 1]\n",
      "[0 2]\n",
      "Saving on file /media/nas/01_Datasets/CT/Abdomen/Fire3/05_Syngovia_niftis_segmented/CRF556/20101105/30000015061519121476600001317_segmented.nii\n",
      "Working on file /media/nas/01_Datasets/CT/Abdomen/Fire3/05_Syngovia_niftis_segmented/CRF556/20101105/30000015061519121476600001244_segmented.nii\n",
      "[0 1]\n",
      "[0 2]\n",
      "Saving on file /media/nas/01_Datasets/CT/Abdomen/Fire3/05_Syngovia_niftis_segmented/CRF556/20101105/30000015061519121476600001244_segmented.nii\n",
      "Working on file /media/nas/01_Datasets/CT/Abdomen/Fire3/05_Syngovia_niftis_segmented/CRF556/20100628/30000015061519121476600000855_segmented.nii\n",
      "[0 1]\n",
      "[0 2]\n",
      "Saving on file /media/nas/01_Datasets/CT/Abdomen/Fire3/05_Syngovia_niftis_segmented/CRF556/20100628/30000015061519121476600000855_segmented.nii\n",
      "Working on file /media/nas/01_Datasets/CT/Abdomen/Fire3/05_Syngovia_niftis_segmented/CRF556/20100628/30000015061519121476600000771_segmented.nii\n",
      "[0 1]\n",
      "[0 2]\n",
      "Saving on file /media/nas/01_Datasets/CT/Abdomen/Fire3/05_Syngovia_niftis_segmented/CRF556/20100628/30000015061519121476600000771_segmented.nii\n",
      "Working on file /media/nas/01_Datasets/CT/Abdomen/Fire3/05_Syngovia_niftis_segmented/CRF556/20110615/30000015061519121476600001498_segmented.nii\n",
      "[0 1]\n"
     ]
    },
    {
     "name": "stderr",
     "output_type": "stream",
     "text": [
      "\r",
      " 69%|██████▊   | 37/54 [08:21<06:13, 21.97s/it]"
     ]
    },
    {
     "name": "stdout",
     "output_type": "stream",
     "text": [
      "[0 2]\n",
      "Saving on file /media/nas/01_Datasets/CT/Abdomen/Fire3/05_Syngovia_niftis_segmented/CRF556/20110615/30000015061519121476600001498_segmented.nii\n",
      "Working on file /media/nas/01_Datasets/CT/Abdomen/Fire3/05_Syngovia_niftis_segmented/CRF554/20100519/30000015061811510064100000169_segmented.nii\n",
      "[0 1]\n",
      "[0 2]\n",
      "Saving on file /media/nas/01_Datasets/CT/Abdomen/Fire3/05_Syngovia_niftis_segmented/CRF554/20100519/30000015061811510064100000169_segmented.nii\n",
      "Working on file /media/nas/01_Datasets/CT/Abdomen/Fire3/05_Syngovia_niftis_segmented/CRF554/20100816/30000015061811510064100000405_segmented.nii\n",
      "[0 1]\n",
      "[0 2]\n",
      "Saving on file /media/nas/01_Datasets/CT/Abdomen/Fire3/05_Syngovia_niftis_segmented/CRF554/20100816/30000015061811510064100000405_segmented.nii\n",
      "Working on file /media/nas/01_Datasets/CT/Abdomen/Fire3/05_Syngovia_niftis_segmented/CRF554/20110110/30000015061811510064100000655_segmented.nii\n",
      "[0 1]\n",
      "[0 2]\n",
      "Saving on file /media/nas/01_Datasets/CT/Abdomen/Fire3/05_Syngovia_niftis_segmented/CRF554/20110110/30000015061811510064100000655_segmented.nii\n",
      "Working on file /media/nas/01_Datasets/CT/Abdomen/Fire3/05_Syngovia_niftis_segmented/CRF554/20101025/30000015061811510064100000529_segmented.nii\n",
      "[0 1]\n",
      "[0 2]\n",
      "Saving on file /media/nas/01_Datasets/CT/Abdomen/Fire3/05_Syngovia_niftis_segmented/CRF554/20101025/30000015061811510064100000529_segmented.nii\n",
      "Working on file /media/nas/01_Datasets/CT/Abdomen/Fire3/05_Syngovia_niftis_segmented/CRF554/20100705/30000015061811510064100000271_segmented.nii\n",
      "[0 1]\n"
     ]
    },
    {
     "name": "stderr",
     "output_type": "stream",
     "text": [
      "\r",
      " 70%|███████   | 38/54 [08:33<05:05, 19.06s/it]"
     ]
    },
    {
     "name": "stdout",
     "output_type": "stream",
     "text": [
      "[0 2]\n",
      "Saving on file /media/nas/01_Datasets/CT/Abdomen/Fire3/05_Syngovia_niftis_segmented/CRF554/20100705/30000015061811510064100000271_segmented.nii\n",
      "Working on file /media/nas/01_Datasets/CT/Abdomen/Fire3/05_Syngovia_niftis_segmented/CRF564/20110329/30000015061813411656100001083_segmented.nii\n",
      "[0 1]\n",
      "[0 2]\n",
      "Saving on file /media/nas/01_Datasets/CT/Abdomen/Fire3/05_Syngovia_niftis_segmented/CRF564/20110329/30000015061813411656100001083_segmented.nii\n",
      "Working on file /media/nas/01_Datasets/CT/Abdomen/Fire3/05_Syngovia_niftis_segmented/CRF564/20110329/30000015061813411656100001206_segmented.nii\n",
      "[0 1]\n",
      "[0 2]\n",
      "Saving on file /media/nas/01_Datasets/CT/Abdomen/Fire3/05_Syngovia_niftis_segmented/CRF564/20110329/30000015061813411656100001206_segmented.nii\n",
      "Working on file /media/nas/01_Datasets/CT/Abdomen/Fire3/05_Syngovia_niftis_segmented/CRF564/20101103/30000015061813411656100000421_segmented.nii\n",
      "[0 1]\n",
      "[0 2]\n",
      "Saving on file /media/nas/01_Datasets/CT/Abdomen/Fire3/05_Syngovia_niftis_segmented/CRF564/20101103/30000015061813411656100000421_segmented.nii\n",
      "Working on file /media/nas/01_Datasets/CT/Abdomen/Fire3/05_Syngovia_niftis_segmented/CRF564/20101103/30000015061813411656100000535_segmented.nii\n",
      "[0 1]\n",
      "[0 2]\n",
      "Saving on file /media/nas/01_Datasets/CT/Abdomen/Fire3/05_Syngovia_niftis_segmented/CRF564/20101103/30000015061813411656100000535_segmented.nii\n",
      "Working on file /media/nas/01_Datasets/CT/Abdomen/Fire3/05_Syngovia_niftis_segmented/CRF564/20110111/30000015061813411656100000872_segmented.nii\n",
      "[0 1]\n",
      "[0 2]\n",
      "Saving on file /media/nas/01_Datasets/CT/Abdomen/Fire3/05_Syngovia_niftis_segmented/CRF564/20110111/30000015061813411656100000872_segmented.nii\n",
      "Working on file /media/nas/01_Datasets/CT/Abdomen/Fire3/05_Syngovia_niftis_segmented/CRF564/20110111/30000015061813411656100000759_segmented.nii\n",
      "[0 1]\n",
      "[0 2]\n",
      "Saving on file /media/nas/01_Datasets/CT/Abdomen/Fire3/05_Syngovia_niftis_segmented/CRF564/20110111/30000015061813411656100000759_segmented.nii\n",
      "Working on file /media/nas/01_Datasets/CT/Abdomen/Fire3/05_Syngovia_niftis_segmented/CRF564/20100910/30000015061813411656100000204_segmented.nii\n",
      "[0 1]\n",
      "[0 2]\n",
      "Saving on file /media/nas/01_Datasets/CT/Abdomen/Fire3/05_Syngovia_niftis_segmented/CRF564/20100910/30000015061813411656100000204_segmented.nii\n",
      "Working on file /media/nas/01_Datasets/CT/Abdomen/Fire3/05_Syngovia_niftis_segmented/CRF564/20100910/30000015061813411656100000093_segmented.nii\n",
      "[0 1]\n"
     ]
    },
    {
     "name": "stderr",
     "output_type": "stream",
     "text": [
      "\r",
      " 72%|███████▏  | 39/54 [08:50<04:35, 18.35s/it]"
     ]
    },
    {
     "name": "stdout",
     "output_type": "stream",
     "text": [
      "[0 2]\n",
      "Saving on file /media/nas/01_Datasets/CT/Abdomen/Fire3/05_Syngovia_niftis_segmented/CRF564/20100910/30000015061813411656100000093_segmented.nii\n",
      "Working on file /media/nas/01_Datasets/CT/Abdomen/Fire3/05_Syngovia_niftis_segmented/CRF565/20101014/30000015061815120691700000761_segmented.nii\n",
      "[0 1]\n",
      "[0 2]\n",
      "Saving on file /media/nas/01_Datasets/CT/Abdomen/Fire3/05_Syngovia_niftis_segmented/CRF565/20101014/30000015061815120691700000761_segmented.nii\n",
      "Working on file /media/nas/01_Datasets/CT/Abdomen/Fire3/05_Syngovia_niftis_segmented/CRF565/20100826/30000015061815120691700000549_segmented.nii\n",
      "[0 1]\n",
      "[0 2]\n",
      "Saving on file /media/nas/01_Datasets/CT/Abdomen/Fire3/05_Syngovia_niftis_segmented/CRF565/20100826/30000015061815120691700000549_segmented.nii\n",
      "Working on file /media/nas/01_Datasets/CT/Abdomen/Fire3/05_Syngovia_niftis_segmented/CRF565/20100722/30000015061815120691700000334_segmented.nii\n",
      "[0 1]\n"
     ]
    },
    {
     "name": "stderr",
     "output_type": "stream",
     "text": [
      "\r",
      " 74%|███████▍  | 40/54 [08:57<03:28, 14.92s/it]"
     ]
    },
    {
     "name": "stdout",
     "output_type": "stream",
     "text": [
      "[0 2]\n",
      "Saving on file /media/nas/01_Datasets/CT/Abdomen/Fire3/05_Syngovia_niftis_segmented/CRF565/20100722/30000015061815120691700000334_segmented.nii\n",
      "Working on file /media/nas/01_Datasets/CT/Abdomen/Fire3/05_Syngovia_niftis_segmented/CRF583/20101001/30000015061914473725800000389_segmented.nii\n",
      "[0 1]\n"
     ]
    },
    {
     "name": "stderr",
     "output_type": "stream",
     "text": [
      "\r",
      " 76%|███████▌  | 41/54 [09:06<02:51, 13.22s/it]"
     ]
    },
    {
     "name": "stdout",
     "output_type": "stream",
     "text": [
      "[0 2]\n",
      "Saving on file /media/nas/01_Datasets/CT/Abdomen/Fire3/05_Syngovia_niftis_segmented/CRF583/20101001/30000015061914473725800000389_segmented.nii\n",
      "Working on file /media/nas/01_Datasets/CT/Abdomen/Fire3/05_Syngovia_niftis_segmented/CRF587/20120426/30000015082615010518400001310_segmented.nii\n",
      "[0 1]\n",
      "[0 2]\n",
      "Saving on file /media/nas/01_Datasets/CT/Abdomen/Fire3/05_Syngovia_niftis_segmented/CRF587/20120426/30000015082615010518400001310_segmented.nii\n",
      "Working on file /media/nas/01_Datasets/CT/Abdomen/Fire3/05_Syngovia_niftis_segmented/CRF587/20110310/30000015082615010518400000474_segmented.nii\n",
      "[0 1]\n",
      "[0 2]\n",
      "Saving on file /media/nas/01_Datasets/CT/Abdomen/Fire3/05_Syngovia_niftis_segmented/CRF587/20110310/30000015082615010518400000474_segmented.nii\n",
      "Working on file /media/nas/01_Datasets/CT/Abdomen/Fire3/05_Syngovia_niftis_segmented/CRF587/20101124/30000015082615010518400000125_segmented.nii\n",
      "[0 1]\n",
      "[0 2]\n",
      "Saving on file /media/nas/01_Datasets/CT/Abdomen/Fire3/05_Syngovia_niftis_segmented/CRF587/20101124/30000015082615010518400000125_segmented.nii\n",
      "Working on file /media/nas/01_Datasets/CT/Abdomen/Fire3/05_Syngovia_niftis_segmented/CRF587/20110517/30000015082615010518400000616_segmented.nii\n",
      "[0 1]\n",
      "[0 2]\n",
      "Saving on file /media/nas/01_Datasets/CT/Abdomen/Fire3/05_Syngovia_niftis_segmented/CRF587/20110517/30000015082615010518400000616_segmented.nii\n",
      "Working on file /media/nas/01_Datasets/CT/Abdomen/Fire3/05_Syngovia_niftis_segmented/CRF587/20121112/30000015082615010518400001691_segmented.nii\n",
      "[0 1]\n",
      "[0 2]\n",
      "Saving on file /media/nas/01_Datasets/CT/Abdomen/Fire3/05_Syngovia_niftis_segmented/CRF587/20121112/30000015082615010518400001691_segmented.nii\n",
      "Working on file /media/nas/01_Datasets/CT/Abdomen/Fire3/05_Syngovia_niftis_segmented/CRF587/20110915/30000015082615010518400000838_segmented.nii\n",
      "[0 1]\n",
      "[0 2]\n",
      "Saving on file /media/nas/01_Datasets/CT/Abdomen/Fire3/05_Syngovia_niftis_segmented/CRF587/20110915/30000015082615010518400000838_segmented.nii\n",
      "Working on file /media/nas/01_Datasets/CT/Abdomen/Fire3/05_Syngovia_niftis_segmented/CRF587/20110202/30000015082615010518400000304_segmented.nii\n",
      "[0 1]\n",
      "[0 2]\n",
      "Saving on file /media/nas/01_Datasets/CT/Abdomen/Fire3/05_Syngovia_niftis_segmented/CRF587/20110202/30000015082615010518400000304_segmented.nii\n",
      "Working on file /media/nas/01_Datasets/CT/Abdomen/Fire3/05_Syngovia_niftis_segmented/CRF587/20120104/30000015082615010518400001097_segmented.nii\n",
      "[0 1]\n",
      "[0 2]\n",
      "Saving on file /media/nas/01_Datasets/CT/Abdomen/Fire3/05_Syngovia_niftis_segmented/CRF587/20120104/30000015082615010518400001097_segmented.nii\n",
      "Working on file /media/nas/01_Datasets/CT/Abdomen/Fire3/05_Syngovia_niftis_segmented/CRF587/20120726/30000015082615010518400001475_segmented.nii\n",
      "[0 1]\n",
      "[0 2]\n",
      "Saving on file /media/nas/01_Datasets/CT/Abdomen/Fire3/05_Syngovia_niftis_segmented/CRF587/20120726/30000015082615010518400001475_segmented.nii\n",
      "Working on file /media/nas/01_Datasets/CT/Abdomen/Fire3/05_Syngovia_niftis_segmented/CRF587/20111018/30000015082615010518400001005_segmented.nii\n",
      "[0 1]\n"
     ]
    },
    {
     "name": "stderr",
     "output_type": "stream",
     "text": [
      "\r",
      " 78%|███████▊  | 42/54 [09:30<03:17, 16.46s/it]"
     ]
    },
    {
     "name": "stdout",
     "output_type": "stream",
     "text": [
      "[0 2]\n",
      "Saving on file /media/nas/01_Datasets/CT/Abdomen/Fire3/05_Syngovia_niftis_segmented/CRF587/20111018/30000015082615010518400001005_segmented.nii\n",
      "Working on file /media/nas/01_Datasets/CT/Abdomen/Fire3/05_Syngovia_niftis_segmented/CRF600/20121203/30000015061919022167000004176_segmented.nii\n",
      "[0 1]\n",
      "[0 2]\n",
      "Saving on file /media/nas/01_Datasets/CT/Abdomen/Fire3/05_Syngovia_niftis_segmented/CRF600/20121203/30000015061919022167000004176_segmented.nii\n",
      "Working on file /media/nas/01_Datasets/CT/Abdomen/Fire3/05_Syngovia_niftis_segmented/CRF600/20121203/30000015061919022167000004039_segmented.nii\n",
      "[0 1]\n",
      "[0 2]\n",
      "Saving on file /media/nas/01_Datasets/CT/Abdomen/Fire3/05_Syngovia_niftis_segmented/CRF600/20121203/30000015061919022167000004039_segmented.nii\n",
      "Working on file /media/nas/01_Datasets/CT/Abdomen/Fire3/05_Syngovia_niftis_segmented/CRF600/20110503/30000015061919022167000002087_segmented.nii\n",
      "[0 1]\n",
      "[0 2]\n",
      "Saving on file /media/nas/01_Datasets/CT/Abdomen/Fire3/05_Syngovia_niftis_segmented/CRF600/20110503/30000015061919022167000002087_segmented.nii\n",
      "Working on file /media/nas/01_Datasets/CT/Abdomen/Fire3/05_Syngovia_niftis_segmented/CRF600/20110503/30000015061919022167000001932_segmented.nii\n",
      "[0 1]\n",
      "[0 2]\n",
      "Saving on file /media/nas/01_Datasets/CT/Abdomen/Fire3/05_Syngovia_niftis_segmented/CRF600/20110503/30000015061919022167000001932_segmented.nii\n",
      "Working on file /media/nas/01_Datasets/CT/Abdomen/Fire3/05_Syngovia_niftis_segmented/CRF600/20120612/30000015061919022167000003728_segmented.nii\n",
      "[0 1]\n",
      "[0 2]\n",
      "Saving on file /media/nas/01_Datasets/CT/Abdomen/Fire3/05_Syngovia_niftis_segmented/CRF600/20120612/30000015061919022167000003728_segmented.nii\n",
      "Working on file /media/nas/01_Datasets/CT/Abdomen/Fire3/05_Syngovia_niftis_segmented/CRF600/20120612/30000015061919022167000003576_segmented.nii\n",
      "[0 1]\n",
      "[0 2]\n",
      "Saving on file /media/nas/01_Datasets/CT/Abdomen/Fire3/05_Syngovia_niftis_segmented/CRF600/20120612/30000015061919022167000003576_segmented.nii\n",
      "Working on file /media/nas/01_Datasets/CT/Abdomen/Fire3/05_Syngovia_niftis_segmented/CRF600/20111103/30000015061919022167000002802_segmented.nii\n",
      "[0 1]\n",
      "[0 2]\n",
      "Saving on file /media/nas/01_Datasets/CT/Abdomen/Fire3/05_Syngovia_niftis_segmented/CRF600/20111103/30000015061919022167000002802_segmented.nii\n",
      "Working on file /media/nas/01_Datasets/CT/Abdomen/Fire3/05_Syngovia_niftis_segmented/CRF600/20111103/30000015061919022167000002960_segmented.nii\n",
      "[0 1]\n",
      "[0 2]\n",
      "Saving on file /media/nas/01_Datasets/CT/Abdomen/Fire3/05_Syngovia_niftis_segmented/CRF600/20111103/30000015061919022167000002960_segmented.nii\n",
      "Working on file /media/nas/01_Datasets/CT/Abdomen/Fire3/05_Syngovia_niftis_segmented/CRF600/20101202/30000015061919022167000001377_segmented.nii\n",
      "[0 1]\n",
      "[0 2]\n",
      "Saving on file /media/nas/01_Datasets/CT/Abdomen/Fire3/05_Syngovia_niftis_segmented/CRF600/20101202/30000015061919022167000001377_segmented.nii\n",
      "Working on file /media/nas/01_Datasets/CT/Abdomen/Fire3/05_Syngovia_niftis_segmented/CRF600/20101202/30000015061919022167000001052_segmented.nii\n",
      "[0 1]\n",
      "[0 2]\n",
      "Saving on file /media/nas/01_Datasets/CT/Abdomen/Fire3/05_Syngovia_niftis_segmented/CRF600/20101202/30000015061919022167000001052_segmented.nii\n",
      "Working on file /media/nas/01_Datasets/CT/Abdomen/Fire3/05_Syngovia_niftis_segmented/CRF600/20101015/30000015061919022167000000654_segmented.nii\n",
      "[0 1]\n",
      "[0 2]\n",
      "Saving on file /media/nas/01_Datasets/CT/Abdomen/Fire3/05_Syngovia_niftis_segmented/CRF600/20101015/30000015061919022167000000654_segmented.nii\n",
      "Working on file /media/nas/01_Datasets/CT/Abdomen/Fire3/05_Syngovia_niftis_segmented/CRF600/20101015/30000015061919022167000000492_segmented.nii\n",
      "[0 1]\n",
      "[0 2]\n",
      "Saving on file /media/nas/01_Datasets/CT/Abdomen/Fire3/05_Syngovia_niftis_segmented/CRF600/20101015/30000015061919022167000000492_segmented.nii\n",
      "Working on file /media/nas/01_Datasets/CT/Abdomen/Fire3/05_Syngovia_niftis_segmented/CRF600/20110720/30000015061919022167000002491_segmented.nii\n",
      "[0 1]\n",
      "[0 2]\n",
      "Saving on file /media/nas/01_Datasets/CT/Abdomen/Fire3/05_Syngovia_niftis_segmented/CRF600/20110720/30000015061919022167000002491_segmented.nii\n",
      "Working on file /media/nas/01_Datasets/CT/Abdomen/Fire3/05_Syngovia_niftis_segmented/CRF600/20110720/30000015061919022167000002341_segmented.nii\n",
      "[0 1]\n",
      "[0 2]\n",
      "Saving on file /media/nas/01_Datasets/CT/Abdomen/Fire3/05_Syngovia_niftis_segmented/CRF600/20110720/30000015061919022167000002341_segmented.nii\n",
      "Working on file /media/nas/01_Datasets/CT/Abdomen/Fire3/05_Syngovia_niftis_segmented/CRF600/20101029/30000015061919022167000000900_segmented.nii\n",
      "[0 1]\n",
      "[0 2]\n",
      "Saving on file /media/nas/01_Datasets/CT/Abdomen/Fire3/05_Syngovia_niftis_segmented/CRF600/20101029/30000015061919022167000000900_segmented.nii\n",
      "Working on file /media/nas/01_Datasets/CT/Abdomen/Fire3/05_Syngovia_niftis_segmented/CRF600/20120103/30000015061919022167000003274_segmented.nii\n",
      "[0 1]\n",
      "[0 2]\n",
      "Saving on file /media/nas/01_Datasets/CT/Abdomen/Fire3/05_Syngovia_niftis_segmented/CRF600/20120103/30000015061919022167000003274_segmented.nii\n",
      "Working on file /media/nas/01_Datasets/CT/Abdomen/Fire3/05_Syngovia_niftis_segmented/CRF600/20120103/30000015061919022167000003417_segmented.nii\n",
      "[0 1]\n",
      "[0 2]\n",
      "Saving on file /media/nas/01_Datasets/CT/Abdomen/Fire3/05_Syngovia_niftis_segmented/CRF600/20120103/30000015061919022167000003417_segmented.nii\n",
      "Working on file /media/nas/01_Datasets/CT/Abdomen/Fire3/05_Syngovia_niftis_segmented/CRF600/20110228/30000015061919022167000001683_segmented.nii\n",
      "[0 1]\n",
      "[0 2]\n",
      "Saving on file /media/nas/01_Datasets/CT/Abdomen/Fire3/05_Syngovia_niftis_segmented/CRF600/20110228/30000015061919022167000001683_segmented.nii\n",
      "Working on file /media/nas/01_Datasets/CT/Abdomen/Fire3/05_Syngovia_niftis_segmented/CRF600/20110228/30000015061919022167000001546_segmented.nii\n",
      "[0 1]\n",
      "[0 2]\n",
      "Saving on file /media/nas/01_Datasets/CT/Abdomen/Fire3/05_Syngovia_niftis_segmented/CRF600/20110228/30000015061919022167000001546_segmented.nii\n",
      "Working on file /media/nas/01_Datasets/CT/Abdomen/Fire3/05_Syngovia_niftis_segmented/CRF600/20100830/30000015061919022167000000152_segmented.nii\n",
      "[0 1]\n",
      "[0 2]\n",
      "Saving on file /media/nas/01_Datasets/CT/Abdomen/Fire3/05_Syngovia_niftis_segmented/CRF600/20100830/30000015061919022167000000152_segmented.nii\n",
      "Working on file /media/nas/01_Datasets/CT/Abdomen/Fire3/05_Syngovia_niftis_segmented/CRF600/20100830/30000015061919022167000000311_segmented.nii\n",
      "[0 1]\n"
     ]
    },
    {
     "name": "stderr",
     "output_type": "stream",
     "text": [
      "\r",
      " 80%|███████▉  | 43/54 [10:40<05:55, 32.35s/it]"
     ]
    },
    {
     "name": "stdout",
     "output_type": "stream",
     "text": [
      "[0 2]\n",
      "Saving on file /media/nas/01_Datasets/CT/Abdomen/Fire3/05_Syngovia_niftis_segmented/CRF600/20100830/30000015061919022167000000311_segmented.nii\n",
      "Working on file /media/nas/01_Datasets/CT/Abdomen/Fire3/05_Syngovia_niftis_segmented/CRF607/20101111/30000015062213503721100000475_segmented.nii\n",
      "[0 1]\n",
      "[0 2]\n",
      "Saving on file /media/nas/01_Datasets/CT/Abdomen/Fire3/05_Syngovia_niftis_segmented/CRF607/20101111/30000015062213503721100000475_segmented.nii\n",
      "Working on file /media/nas/01_Datasets/CT/Abdomen/Fire3/05_Syngovia_niftis_segmented/CRF607/20100723/30000015062213503721100000000_segmented.nii\n",
      "[0 1]\n",
      "[0 2]\n",
      "Saving on file /media/nas/01_Datasets/CT/Abdomen/Fire3/05_Syngovia_niftis_segmented/CRF607/20100723/30000015062213503721100000000_segmented.nii\n",
      "Working on file /media/nas/01_Datasets/CT/Abdomen/Fire3/05_Syngovia_niftis_segmented/CRF607/20100817/30000015062213503721100000333_segmented.nii\n",
      "[0 1]\n"
     ]
    },
    {
     "name": "stderr",
     "output_type": "stream",
     "text": [
      "\r",
      " 81%|████████▏ | 44/54 [10:45<04:03, 24.35s/it]"
     ]
    },
    {
     "name": "stdout",
     "output_type": "stream",
     "text": [
      "[0 2]\n",
      "Saving on file /media/nas/01_Datasets/CT/Abdomen/Fire3/05_Syngovia_niftis_segmented/CRF607/20100817/30000015062213503721100000333_segmented.nii\n",
      "Working on file /media/nas/01_Datasets/CT/Abdomen/Fire3/05_Syngovia_niftis_segmented/CRF608/20101210/30000015062216355040300000162_segmented.nii\n",
      "[0 1]\n",
      "[0 2]\n",
      "Saving on file /media/nas/01_Datasets/CT/Abdomen/Fire3/05_Syngovia_niftis_segmented/CRF608/20101210/30000015062216355040300000162_segmented.nii\n",
      "Working on file /media/nas/01_Datasets/CT/Abdomen/Fire3/05_Syngovia_niftis_segmented/CRF608/20110412/30000015062216355040300000627_segmented.nii\n",
      "[0 1]\n",
      "[0 2]\n",
      "Saving on file /media/nas/01_Datasets/CT/Abdomen/Fire3/05_Syngovia_niftis_segmented/CRF608/20110412/30000015062216355040300000627_segmented.nii\n",
      "Working on file /media/nas/01_Datasets/CT/Abdomen/Fire3/05_Syngovia_niftis_segmented/CRF608/20110307/30000015062216355040300000511_segmented.nii\n",
      "[0 1]\n",
      "[0 2]\n",
      "Saving on file /media/nas/01_Datasets/CT/Abdomen/Fire3/05_Syngovia_niftis_segmented/CRF608/20110307/30000015062216355040300000511_segmented.nii\n",
      "Working on file /media/nas/01_Datasets/CT/Abdomen/Fire3/05_Syngovia_niftis_segmented/CRF608/20101026/30000015062216355040300000052_segmented.nii\n",
      "[0 1]\n",
      "[0 2]\n",
      "Saving on file /media/nas/01_Datasets/CT/Abdomen/Fire3/05_Syngovia_niftis_segmented/CRF608/20101026/30000015062216355040300000052_segmented.nii\n",
      "Working on file /media/nas/01_Datasets/CT/Abdomen/Fire3/05_Syngovia_niftis_segmented/CRF608/20110124/30000015062216355040300000265_segmented.nii\n",
      "[0 1]\n"
     ]
    },
    {
     "name": "stderr",
     "output_type": "stream",
     "text": [
      "\r",
      " 83%|████████▎ | 45/54 [10:54<02:56, 19.62s/it]"
     ]
    },
    {
     "name": "stdout",
     "output_type": "stream",
     "text": [
      "[0 2]\n",
      "Saving on file /media/nas/01_Datasets/CT/Abdomen/Fire3/05_Syngovia_niftis_segmented/CRF608/20110124/30000015062216355040300000265_segmented.nii\n",
      "Working on file /media/nas/01_Datasets/CT/Abdomen/Fire3/05_Syngovia_niftis_segmented/CRF611/20101007/30000015062311195224300000130_segmented.nii\n",
      "[0 1]\n",
      "[0 2]\n",
      "Saving on file /media/nas/01_Datasets/CT/Abdomen/Fire3/05_Syngovia_niftis_segmented/CRF611/20101007/30000015062311195224300000130_segmented.nii\n",
      "Working on file /media/nas/01_Datasets/CT/Abdomen/Fire3/05_Syngovia_niftis_segmented/CRF611/20101117/30000015062311195224300000478_segmented.nii\n",
      "[0 1]\n",
      "[0 2]\n",
      "Saving on file /media/nas/01_Datasets/CT/Abdomen/Fire3/05_Syngovia_niftis_segmented/CRF611/20101117/30000015062311195224300000478_segmented.nii\n",
      "Working on file /media/nas/01_Datasets/CT/Abdomen/Fire3/05_Syngovia_niftis_segmented/CRF611/20110111/30000015062311195224300000826_segmented.nii\n",
      "[0 1]\n"
     ]
    },
    {
     "name": "stderr",
     "output_type": "stream",
     "text": [
      "\r",
      " 85%|████████▌ | 46/54 [11:03<02:11, 16.43s/it]"
     ]
    },
    {
     "name": "stdout",
     "output_type": "stream",
     "text": [
      "[0 2]\n",
      "Saving on file /media/nas/01_Datasets/CT/Abdomen/Fire3/05_Syngovia_niftis_segmented/CRF611/20110111/30000015062311195224300000826_segmented.nii\n",
      "Working on file /media/nas/01_Datasets/CT/Abdomen/Fire3/05_Syngovia_niftis_segmented/CRF612/20100826/30000015062315591062600000453_segmented.nii\n",
      "[0 1]\n",
      "[0 2]\n",
      "Saving on file /media/nas/01_Datasets/CT/Abdomen/Fire3/05_Syngovia_niftis_segmented/CRF612/20100826/30000015062315591062600000453_segmented.nii\n",
      "Working on file /media/nas/01_Datasets/CT/Abdomen/Fire3/05_Syngovia_niftis_segmented/CRF612/20101008/30000015062315591062600000740_segmented.nii\n",
      "[0 1]\n",
      "[0 2]\n",
      "Saving on file /media/nas/01_Datasets/CT/Abdomen/Fire3/05_Syngovia_niftis_segmented/CRF612/20101008/30000015062315591062600000740_segmented.nii\n",
      "Working on file /media/nas/01_Datasets/CT/Abdomen/Fire3/05_Syngovia_niftis_segmented/CRF612/20101217/30000015062315591062600001203_segmented.nii\n",
      "[0 1]\n",
      "[0 2]\n",
      "Saving on file /media/nas/01_Datasets/CT/Abdomen/Fire3/05_Syngovia_niftis_segmented/CRF612/20101217/30000015062315591062600001203_segmented.nii\n",
      "Working on file /media/nas/01_Datasets/CT/Abdomen/Fire3/05_Syngovia_niftis_segmented/CRF612/20100712/30000015062315591062600000183_segmented.nii\n",
      "[0 1]\n"
     ]
    },
    {
     "name": "stderr",
     "output_type": "stream",
     "text": [
      "\r",
      " 87%|████████▋ | 47/54 [11:12<01:39, 14.24s/it]"
     ]
    },
    {
     "name": "stdout",
     "output_type": "stream",
     "text": [
      "[0 2]\n",
      "Saving on file /media/nas/01_Datasets/CT/Abdomen/Fire3/05_Syngovia_niftis_segmented/CRF612/20100712/30000015062315591062600000183_segmented.nii\n",
      "Working on file /media/nas/01_Datasets/CT/Abdomen/Fire3/05_Syngovia_niftis_segmented/CRF645/20111208/30000015072715214147500000653_segmented.nii\n",
      "[0 1]\n",
      "[0 2]\n",
      "Saving on file /media/nas/01_Datasets/CT/Abdomen/Fire3/05_Syngovia_niftis_segmented/CRF645/20111208/30000015072715214147500000653_segmented.nii\n",
      "Working on file /media/nas/01_Datasets/CT/Abdomen/Fire3/05_Syngovia_niftis_segmented/CRF645/20110826/30000015072715214147500000488_segmented.nii\n",
      "[0 1]\n",
      "[0 2]\n",
      "Saving on file /media/nas/01_Datasets/CT/Abdomen/Fire3/05_Syngovia_niftis_segmented/CRF645/20110826/30000015072715214147500000488_segmented.nii\n",
      "Working on file /media/nas/01_Datasets/CT/Abdomen/Fire3/05_Syngovia_niftis_segmented/CRF645/20120328/30000015072715214147500001193_segmented.nii\n",
      "[0 1]\n",
      "[0 2]\n",
      "Saving on file /media/nas/01_Datasets/CT/Abdomen/Fire3/05_Syngovia_niftis_segmented/CRF645/20120328/30000015072715214147500001193_segmented.nii\n",
      "Working on file /media/nas/01_Datasets/CT/Abdomen/Fire3/05_Syngovia_niftis_segmented/CRF645/20120720/30000015072715214147500001464_segmented.nii\n",
      "[0 1]\n"
     ]
    },
    {
     "name": "stderr",
     "output_type": "stream",
     "text": [
      "\r",
      " 89%|████████▉ | 48/54 [11:19<01:12, 12.03s/it]"
     ]
    },
    {
     "name": "stdout",
     "output_type": "stream",
     "text": [
      "[0 2]\n",
      "Saving on file /media/nas/01_Datasets/CT/Abdomen/Fire3/05_Syngovia_niftis_segmented/CRF645/20120720/30000015072715214147500001464_segmented.nii\n",
      "Working on file /media/nas/01_Datasets/CT/Abdomen/Fire3/05_Syngovia_niftis_segmented/FIRE661/20100915/4509_segmented.nii\n",
      "[0 1]\n",
      "[0 2]\n",
      "Saving on file /media/nas/01_Datasets/CT/Abdomen/Fire3/05_Syngovia_niftis_segmented/FIRE661/20100915/4509_segmented.nii\n",
      "Working on file /media/nas/01_Datasets/CT/Abdomen/Fire3/05_Syngovia_niftis_segmented/FIRE661/20100915/4604_segmented.nii\n",
      "[0 1]\n",
      "[0 2]\n",
      "Saving on file /media/nas/01_Datasets/CT/Abdomen/Fire3/05_Syngovia_niftis_segmented/FIRE661/20100915/4604_segmented.nii\n",
      "Working on file /media/nas/01_Datasets/CT/Abdomen/Fire3/05_Syngovia_niftis_segmented/FIRE661/20110111/2834_segmented.nii\n",
      "[0 1]\n",
      "[0 2]\n",
      "Saving on file /media/nas/01_Datasets/CT/Abdomen/Fire3/05_Syngovia_niftis_segmented/FIRE661/20110111/2834_segmented.nii\n",
      "Working on file /media/nas/01_Datasets/CT/Abdomen/Fire3/05_Syngovia_niftis_segmented/FIRE661/20120213/59_segmented.nii\n",
      "[0 1]\n",
      "[0 2]\n",
      "Saving on file /media/nas/01_Datasets/CT/Abdomen/Fire3/05_Syngovia_niftis_segmented/FIRE661/20120213/59_segmented.nii\n",
      "Working on file /media/nas/01_Datasets/CT/Abdomen/Fire3/05_Syngovia_niftis_segmented/FIRE661/20110321/1969_segmented.nii\n",
      "[0 1]\n"
     ]
    },
    {
     "name": "stderr",
     "output_type": "stream",
     "text": [
      "\r",
      " 91%|█████████ | 49/54 [11:44<01:20, 16.12s/it]"
     ]
    },
    {
     "name": "stdout",
     "output_type": "stream",
     "text": [
      "[0 2]\n",
      "Saving on file /media/nas/01_Datasets/CT/Abdomen/Fire3/05_Syngovia_niftis_segmented/FIRE661/20110321/1969_segmented.nii\n",
      "Working on file /media/nas/01_Datasets/CT/Abdomen/Fire3/05_Syngovia_niftis_segmented/FIRE61/20101102/3660_segmented.nii\n",
      "[0 1]\n"
     ]
    },
    {
     "name": "stderr",
     "output_type": "stream",
     "text": [
      "\r",
      " 93%|█████████▎| 50/54 [11:46<00:47, 11.80s/it]"
     ]
    },
    {
     "name": "stdout",
     "output_type": "stream",
     "text": [
      "[0 2]\n",
      "Saving on file /media/nas/01_Datasets/CT/Abdomen/Fire3/05_Syngovia_niftis_segmented/FIRE61/20101102/3660_segmented.nii\n",
      "Working on file /media/nas/01_Datasets/CT/Abdomen/Fire3/05_Syngovia_niftis_segmented/CRF666/20120604/30000015073013584661000000812_segmented.nii\n",
      "[0 1]\n"
     ]
    },
    {
     "name": "stderr",
     "output_type": "stream",
     "text": [
      "\r",
      " 94%|█████████▍| 51/54 [11:47<00:25,  8.60s/it]"
     ]
    },
    {
     "name": "stdout",
     "output_type": "stream",
     "text": [
      "[0 2]\n",
      "Saving on file /media/nas/01_Datasets/CT/Abdomen/Fire3/05_Syngovia_niftis_segmented/CRF666/20120604/30000015073013584661000000812_segmented.nii\n",
      "Working on file /media/nas/01_Datasets/CT/Abdomen/Fire3/05_Syngovia_niftis_segmented/CRF670/20100917/30000015072919050348400000090_segmented.nii\n",
      "[0 1]\n",
      "[0 2]\n",
      "Saving on file /media/nas/01_Datasets/CT/Abdomen/Fire3/05_Syngovia_niftis_segmented/CRF670/20100917/30000015072919050348400000090_segmented.nii\n",
      "Working on file /media/nas/01_Datasets/CT/Abdomen/Fire3/05_Syngovia_niftis_segmented/CRF670/20110117/30000015072919050348400000524_segmented.nii\n",
      "[0 1]\n",
      "[0 2]\n",
      "Saving on file /media/nas/01_Datasets/CT/Abdomen/Fire3/05_Syngovia_niftis_segmented/CRF670/20110117/30000015072919050348400000524_segmented.nii\n",
      "Working on file /media/nas/01_Datasets/CT/Abdomen/Fire3/05_Syngovia_niftis_segmented/CRF670/20101104/30000015072919050348400000313_segmented.nii\n",
      "[0 1]\n",
      "[0 2]\n",
      "Saving on file /media/nas/01_Datasets/CT/Abdomen/Fire3/05_Syngovia_niftis_segmented/CRF670/20101104/30000015072919050348400000313_segmented.nii\n",
      "Working on file /media/nas/01_Datasets/CT/Abdomen/Fire3/05_Syngovia_niftis_segmented/CRF670/20110418/30000015072919050348400001073_segmented.nii\n",
      "[0 1]\n"
     ]
    },
    {
     "name": "stderr",
     "output_type": "stream",
     "text": [
      "\r",
      " 96%|█████████▋| 52/54 [12:04<00:21, 11.00s/it]"
     ]
    },
    {
     "name": "stdout",
     "output_type": "stream",
     "text": [
      "[0 2]\n",
      "Saving on file /media/nas/01_Datasets/CT/Abdomen/Fire3/05_Syngovia_niftis_segmented/CRF670/20110418/30000015072919050348400001073_segmented.nii\n",
      "Working on file /media/nas/01_Datasets/CT/Abdomen/Fire3/05_Syngovia_niftis_segmented/CRF676/20120111/30000015073018491307500000000_segmented.nii\n",
      "[0 1]\n",
      "[0 2]\n",
      "Saving on file /media/nas/01_Datasets/CT/Abdomen/Fire3/05_Syngovia_niftis_segmented/CRF676/20120111/30000015073018491307500000000_segmented.nii\n",
      "Working on file /media/nas/01_Datasets/CT/Abdomen/Fire3/05_Syngovia_niftis_segmented/CRF676/20120312/30000015073018491307500000321_segmented.nii\n",
      "[0 1]\n"
     ]
    },
    {
     "name": "stderr",
     "output_type": "stream",
     "text": [
      "\r",
      " 98%|█████████▊| 53/54 [12:11<00:09,  9.82s/it]"
     ]
    },
    {
     "name": "stdout",
     "output_type": "stream",
     "text": [
      "[0 2]\n",
      "Saving on file /media/nas/01_Datasets/CT/Abdomen/Fire3/05_Syngovia_niftis_segmented/CRF676/20120312/30000015073018491307500000321_segmented.nii\n",
      "Working on file /media/nas/01_Datasets/CT/Abdomen/Fire3/05_Syngovia_niftis_segmented/FIRE691/20101207/7253_segmented.nii\n",
      "[0 1]\n",
      "[0 2]\n",
      "Saving on file /media/nas/01_Datasets/CT/Abdomen/Fire3/05_Syngovia_niftis_segmented/FIRE691/20101207/7253_segmented.nii\n",
      "Working on file /media/nas/01_Datasets/CT/Abdomen/Fire3/05_Syngovia_niftis_segmented/FIRE691/20101207/7204_segmented.nii\n",
      "[0 1]\n",
      "[0 2]\n",
      "Saving on file /media/nas/01_Datasets/CT/Abdomen/Fire3/05_Syngovia_niftis_segmented/FIRE691/20101207/7204_segmented.nii\n",
      "Working on file /media/nas/01_Datasets/CT/Abdomen/Fire3/05_Syngovia_niftis_segmented/FIRE691/20110916/7344_segmented.nii\n",
      "[0 1]\n",
      "[0 2]\n",
      "Saving on file /media/nas/01_Datasets/CT/Abdomen/Fire3/05_Syngovia_niftis_segmented/FIRE691/20110916/7344_segmented.nii\n",
      "Working on file /media/nas/01_Datasets/CT/Abdomen/Fire3/05_Syngovia_niftis_segmented/FIRE691/20110707/7632_segmented.nii\n",
      "[0 1]\n",
      "[0 2]\n",
      "Saving on file /media/nas/01_Datasets/CT/Abdomen/Fire3/05_Syngovia_niftis_segmented/FIRE691/20110707/7632_segmented.nii\n",
      "Working on file /media/nas/01_Datasets/CT/Abdomen/Fire3/05_Syngovia_niftis_segmented/FIRE691/20110120/6947_segmented.nii\n",
      "[0 1]\n",
      "[0 2]\n",
      "Saving on file /media/nas/01_Datasets/CT/Abdomen/Fire3/05_Syngovia_niftis_segmented/FIRE691/20110120/6947_segmented.nii\n",
      "Working on file /media/nas/01_Datasets/CT/Abdomen/Fire3/05_Syngovia_niftis_segmented/FIRE691/20110303/6529_segmented.nii\n",
      "[0 1]\n"
     ]
    },
    {
     "name": "stderr",
     "output_type": "stream",
     "text": [
      "\r",
      "100%|██████████| 54/54 [12:23<00:00, 10.35s/it]"
     ]
    },
    {
     "name": "stdout",
     "output_type": "stream",
     "text": [
      "[0 2]\n",
      "Saving on file /media/nas/01_Datasets/CT/Abdomen/Fire3/05_Syngovia_niftis_segmented/FIRE691/20110303/6529_segmented.nii\n"
     ]
    },
    {
     "name": "stderr",
     "output_type": "stream",
     "text": [
      "\n"
     ]
    }
   ],
   "source": [
    "## Main Loop to clip the data and save as label 2\n",
    "for patient_dir in tqdm(os.listdir(basepath_vol)):\n",
    "    current_patient_dir= os.path.join(basepath_vol,patient_dir)\n",
    "\n",
    "    # Start Loading segmentation\n",
    "    for subdir, dir, files in os.walk(current_patient_dir):\n",
    "\n",
    "        for file in files:\n",
    "            current_file= subdir + os.sep + file\n",
    "            if re.search('_segmented.nii', current_file):\n",
    "                print 'Working on file %s' % current_file\n",
    "                \n",
    "                curr_img= nb.load(current_file)\n",
    "                curr_affine = curr_img.get_affine()\n",
    "                curr_data = np.clip(curr_img.get_data(),0,1)\n",
    "                \n",
    "                print np.unique(curr_data)\n",
    "                \n",
    "                curr_data= curr_data*2\n",
    "                \n",
    "                \n",
    "                print np.unique(curr_data)\n",
    "                \n",
    "                \n",
    "                new_img = nb.Nifti1Image(curr_data, curr_affine)\n",
    "                \n",
    "                print 'Saving on file %s' % current_file\n",
    "                nb.save(new_img, 'current_file')\n",
    "                \n",
    "\n",
    "\n",
    "          \n"
   ]
  },
  {
   "cell_type": "code",
   "execution_count": 30,
   "metadata": {
    "collapsed": false
   },
   "outputs": [
    {
     "ename": "SyntaxError",
     "evalue": "invalid syntax (<ipython-input-30-afbcb2c8daec>, line 2)",
     "output_type": "error",
     "traceback": [
      "\u001b[1;36m  File \u001b[1;32m\"<ipython-input-30-afbcb2c8daec>\"\u001b[1;36m, line \u001b[1;32m2\u001b[0m\n\u001b[1;33m    data = np.array(/media/nas/01_Datasets/CT/Abdomen/Fire3/05_Syngovia_niftis_segmented/04/20081014/30000015090716574696300000349\u001b[0m\n\u001b[1;37m                    ^\u001b[0m\n\u001b[1;31mSyntaxError\u001b[0m\u001b[1;31m:\u001b[0m invalid syntax\n"
     ]
    }
   ],
   "source": []
  },
  {
   "cell_type": "code",
   "execution_count": 24,
   "metadata": {
    "collapsed": false
   },
   "outputs": [
    {
     "name": "stdout",
     "output_type": "stream",
     "text": [
      "Reading package lists... Done\n",
      "Building dependency tree       \n",
      "Reading state information... Done\n",
      "The following NEW packages will be installed:\n",
      "  xclip\n",
      "0 upgraded, 1 newly installed, 0 to remove and 17 not upgraded.\n",
      "Need to get 17.0 kB of archives.\n",
      "After this operation, 72.7 kB of additional disk space will be used.\n",
      "Get:1 http://archive.ubuntu.com/ubuntu/ trusty/universe xclip amd64 0.12+svn84-4 [17.0 kB]\n",
      "Fetched 17.0 kB in 0s (247 kB/s)\n",
      "Selecting previously unselected package xclip.\n",
      "(Reading database ... 45771 files and directories currently installed.)\n",
      "Preparing to unpack .../xclip_0.12+svn84-4_amd64.deb ...\n",
      "Unpacking xclip (0.12+svn84-4) ...\n",
      "Processing triggers for man-db (2.6.7.1-1ubuntu1) ...\n",
      "Setting up xclip (0.12+svn84-4) ...\n"
     ]
    }
   ],
   "source": [
    "!apt-get install xclip"
   ]
  },
  {
   "cell_type": "code",
   "execution_count": 34,
   "metadata": {
    "collapsed": false
   },
   "outputs": [],
   "source": [
    "# Good Syngo Via\n",
    "\n",
    "data= {'/media/nas/01_Datasets/CT/Abdomen/Fire3/05_Syngovia_niftis_segmented/04/20081014/30000015090716574696300000349',\n",
    "'/media/nas/01_Datasets/CT/Abdomen/Fire3/05_Syngovia_niftis_segmented/CRF032/20070920/30000015072011191605300000163',\n",
    "'/media/nas/01_Datasets/CT/Abdomen/Fire3/05_Syngovia_niftis_segmented/CRF032/20080125/30000015072011191605300000464',\n",
    "'/media/nas/01_Datasets/CT/Abdomen/Fire3/05_Syngovia_niftis_segmented/CRF032/20080521/30000015072011191605300000729',\n",
    "'/media/nas/01_Datasets/CT/Abdomen/Fire3/05_Syngovia_niftis_segmented/CRF032/20080910/30000015072011191605300001019',\n",
    "'/media/nas/01_Datasets/CT/Abdomen/Fire3/05_Syngovia_niftis_segmented/CRF032/20081126/30000015072011191605300001293',\n",
    "'/media/nas/01_Datasets/CT/Abdomen/Fire3/05_Syngovia_niftis_segmented/CRF248/20110616/30000015061511321355700000697',\n",
    "'/media/nas/01_Datasets/CT/Abdomen/Fire3/05_Syngovia_niftis_segmented/CRF248/20110616/30000015061511321355700000455',\n",
    "'/media/nas/01_Datasets/CT/Abdomen/Fire3/05_Syngovia_niftis_segmented/CRF340/20100622/30000015060816011031900000000',\n",
    "'/media/nas/01_Datasets/CT/Abdomen/Fire3/05_Syngovia_niftis_segmented/CRF376/20090427/30000015072718372388400004525',\n",
    "'/media/nas/01_Datasets/CT/Abdomen/Fire3/05_Syngovia_niftis_segmented/CRF474/20100225/30000015060218163243600002324',\n",
    "'/media/nas/01_Datasets/CT/Abdomen/Fire3/05_Syngovia_niftis_segmented/CRF474/20100406/30000015060218163243600002504',\n",
    "'/media/nas/01_Datasets/CT/Abdomen/Fire3/05_Syngovia_niftis_segmented/CRF481/20090617/30000015060315220794400000200',\n",
    "'/media/nas/01_Datasets/CT/Abdomen/Fire3/05_Syngovia_niftis_segmented/CRF545/20110325/30000015080312572901200000212',\n",
    "'/media/nas/01_Datasets/CT/Abdomen/Fire3/05_Syngovia_niftis_segmented/CRF545/20110518/30000015080312572901200000324',\n",
    "'/media/nas/01_Datasets/CT/Abdomen/Fire3/05_Syngovia_niftis_segmented/CRF545/20120216/30000015080312572901200000543',\n",
    "'/media/nas/01_Datasets/CT/Abdomen/Fire3/05_Syngovia_niftis_segmented/CRF545/20120524/30000015080312572901200000649',\n",
    "'/media/nas/01_Datasets/CT/Abdomen/Fire3/05_Syngovia_niftis_segmented/CRF546/20110228/30000015082615010518400003132',\n",
    "'/media/nas/01_Datasets/CT/Abdomen/Fire3/05_Syngovia_niftis_segmented/CRF546/20110228/30000015082615010518400003061',\n",
    "'/media/nas/01_Datasets/CT/Abdomen/Fire3/05_Syngovia_niftis_segmented/CRF550/20100429/30000015061510563927900000586',\n",
    "'/media/nas/01_Datasets/CT/Abdomen/Fire3/05_Syngovia_niftis_segmented/CRF550/20100609/30000015061510563927900001418',\n",
    "'/media/nas/01_Datasets/CT/Abdomen/Fire3/05_Syngovia_niftis_segmented/CRF550/20100721/30000015061510563927900002192',\n",
    "'/media/nas/01_Datasets/CT/Abdomen/Fire3/05_Syngovia_niftis_segmented/CRF550/20100929/30000015061510563927900003066',\n",
    "'/media/nas/01_Datasets/CT/Abdomen/Fire3/05_Syngovia_niftis_segmented/CRF550/20110218/30000015061510563927900003890',\n",
    "'/media/nas/01_Datasets/CT/Abdomen/Fire3/05_Syngovia_niftis_segmented/CRF554/20100519/30000015061811510064100000169',\n",
    "'/media/nas/01_Datasets/CT/Abdomen/Fire3/05_Syngovia_niftis_segmented/CRF554/20100705/30000015061811510064100000271',\n",
    "'/media/nas/01_Datasets/CT/Abdomen/Fire3/05_Syngovia_niftis_segmented/CRF611/20101007/30000015062311195224300000130',\n",
    "'/media/nas/01_Datasets/CT/Abdomen/Fire3/05_Syngovia_niftis_segmented/CRF611/20110111/30000015062311195224300000826',}\n"
   ]
  },
  {
   "cell_type": "code",
   "execution_count": 39,
   "metadata": {
    "collapsed": false
   },
   "outputs": [],
   "source": [
    "#Copy Good Syngo Via\n",
    "from shutil import copyfile\n",
    "for path in data:\n",
    "    pfad, file = os.path.split(path)\n",
    "    copyfile(path + '.nii', savepath_vol + file +'.nii')\n",
    "    copyfile(path + '_segmented.nii', savepath_vol + file +'_segmented.nii')"
   ]
  },
  {
   "cell_type": "code",
   "execution_count": 43,
   "metadata": {
    "collapsed": false
   },
   "outputs": [],
   "source": [
    "# Bad Syngo Via\n",
    "bad_syngo={'/media/nas/01_Datasets/CT/Abdomen/Fire3/05_Syngovia_niftis_segmented/01/20130403/30000015090714565626100000186',\n",
    "'/media/nas/01_Datasets/CT/Abdomen/Fire3/05_Syngovia_niftis_segmented/02/20081107/30000015090714565626100000435',\n",
    "'/media/nas/01_Datasets/CT/Abdomen/Fire3/05_Syngovia_niftis_segmented/03/20090204/30000015090716574696300000077',\n",
    "'/media/nas/01_Datasets/CT/Abdomen/Fire3/05_Syngovia_niftis_segmented/05/20090610/30000015090717203512600000167',\n",
    "'/media/nas/01_Datasets/CT/Abdomen/Fire3/05_Syngovia_niftis_segmented/06/20110609/30000015090809364018500000310',\n",
    "'/media/nas/01_Datasets/CT/Abdomen/Fire3/05_Syngovia_niftis_segmented/09/20110520/30000015090810124818900000472',\n",
    "'/media/nas/01_Datasets/CT/Abdomen/Fire3/05_Syngovia_niftis_segmented/CRF031/20070727/30000015071717330845000000216',\n",
    "'/media/nas/01_Datasets/CT/Abdomen/Fire3/05_Syngovia_niftis_segmented/CRF031/20070919/30000015071717330845000000583',\n",
    "'/media/nas/01_Datasets/CT/Abdomen/Fire3/05_Syngovia_niftis_segmented/CRF031/20070927/30000015071717330845000001479',\n",
    "'/media/nas/01_Datasets/CT/Abdomen/Fire3/05_Syngovia_niftis_segmented/CRF031/20071107/30000015071717330845000001900',\n",
    "'/media/nas/01_Datasets/CT/Abdomen/Fire3/05_Syngovia_niftis_segmented/CRF031/20071123/30000015071717330845000002409',\n",
    "'/media/nas/01_Datasets/CT/Abdomen/Fire3/05_Syngovia_niftis_segmented/CRF070/20070420/30000015072016064358400000128',\n",
    "'/media/nas/01_Datasets/CT/Abdomen/Fire3/05_Syngovia_niftis_segmented/CRF070/20070614/30000015072016064358400000460',\n",
    "'/media/nas/01_Datasets/CT/Abdomen/Fire3/05_Syngovia_niftis_segmented/CRF070/20071106/30000015072016064358400001130',\n",
    "'/media/nas/01_Datasets/CT/Abdomen/Fire3/05_Syngovia_niftis_segmented/CRF070/20080310/30000015072016064358400001425',\n",
    "'/media/nas/01_Datasets/CT/Abdomen/Fire3/05_Syngovia_niftis_segmented/CRF070/20080619/30000015072016064358400002250',\n",
    "'/media/nas/01_Datasets/CT/Abdomen/Fire3/05_Syngovia_niftis_segmented/CRF070/20081002/30000015072016064358400002668',\n",
    "'/media/nas/01_Datasets/CT/Abdomen/Fire3/05_Syngovia_niftis_segmented/CRF070/20090209/30000015072016064358400003008',\n",
    "'/media/nas/01_Datasets/CT/Abdomen/Fire3/05_Syngovia_niftis_segmented/CRF070/20090522/30000015072016064358400003344',\n",
    "'/media/nas/01_Datasets/CT/Abdomen/Fire3/05_Syngovia_niftis_segmented/CRF194/20080429/30000015082014214884400002051',\n",
    "'/media/nas/01_Datasets/CT/Abdomen/Fire3/05_Syngovia_niftis_segmented/CRF194/20080630/30000015082014214884400002284',\n",
    "'/media/nas/01_Datasets/CT/Abdomen/Fire3/05_Syngovia_niftis_segmented/CRF194/20080915/30000015082014214884400002522',\n",
    "'/media/nas/01_Datasets/CT/Abdomen/Fire3/05_Syngovia_niftis_segmented/CRF194/20081218/30000015082014214884400002777',\n",
    "'/media/nas/01_Datasets/CT/Abdomen/Fire3/05_Syngovia_niftis_segmented/CRF194/20090623/30000015082014214884400003016',\n",
    "'/media/nas/01_Datasets/CT/Abdomen/Fire3/05_Syngovia_niftis_segmented/CRF243/20080317/30000015082014214884400000078',\n",
    "'/media/nas/01_Datasets/CT/Abdomen/Fire3/05_Syngovia_niftis_segmented/CRF243/20090723/30000015082014214884400000360',\n",
    "'/media/nas/01_Datasets/CT/Abdomen/Fire3/05_Syngovia_niftis_segmented/CRF258/20080129/30000015072111372787400000100',\n",
    "'/media/nas/01_Datasets/CT/Abdomen/Fire3/05_Syngovia_niftis_segmented/CRF258/20080423/30000015072111372787400000260',\n",
    "'/media/nas/01_Datasets/CT/Abdomen/Fire3/05_Syngovia_niftis_segmented/CRF258/20080423/30000015072111372787400000338',\n",
    "'/media/nas/01_Datasets/CT/Abdomen/Fire3/05_Syngovia_niftis_segmented/CRF258/20080731/30000015072111372787400000759',\n",
    "'/media/nas/01_Datasets/CT/Abdomen/Fire3/05_Syngovia_niftis_segmented/CRF262/20090213/30000015061512143535900000081',\n",
    "'/media/nas/01_Datasets/CT/Abdomen/Fire3/05_Syngovia_niftis_segmented/CRF265/20080220/30000015072117033120300000382',\n",
    "'/media/nas/01_Datasets/CT/Abdomen/Fire3/05_Syngovia_niftis_segmented/CRF265/20080425/30000015072117033120300000845',\n",
    "'/media/nas/01_Datasets/CT/Abdomen/Fire3/05_Syngovia_niftis_segmented/CRF265/20080714/30000015072117033120300001048',\n",
    "'/media/nas/01_Datasets/CT/Abdomen/Fire3/05_Syngovia_niftis_segmented/CRF295/20080125/30000015072118433141700000294',\n",
    "'/media/nas/01_Datasets/CT/Abdomen/Fire3/05_Syngovia_niftis_segmented/CRF295/20080326/30000015072118433141700000440',\n",
    "'/media/nas/01_Datasets/CT/Abdomen/Fire3/05_Syngovia_niftis_segmented/CRF295/20080508/30000015072118433141700000593',\n",
    "'/media/nas/01_Datasets/CT/Abdomen/Fire3/05_Syngovia_niftis_segmented/CRF340/20100706/30000015060816011031900000142',\n",
    "'/media/nas/01_Datasets/CT/Abdomen/Fire3/05_Syngovia_niftis_segmented/CRF340/20100804/30000015060816011031900000250',\n",
    "'/media/nas/01_Datasets/CT/Abdomen/Fire3/05_Syngovia_niftis_segmented/CRF340/20110825/30000015060816011031900000398',\n",
    "'/media/nas/01_Datasets/CT/Abdomen/Fire3/05_Syngovia_niftis_segmented/CRF376/20080722/30000015072718372388400000435',\n",
    "'/media/nas/01_Datasets/CT/Abdomen/Fire3/05_Syngovia_niftis_segmented/CRF376/20081014/30000015072718372388400002429',\n",
    "'/media/nas/01_Datasets/CT/Abdomen/Fire3/05_Syngovia_niftis_segmented/CRF376/20090814/30000015072718372388400007160',\n",
    "'/media/nas/01_Datasets/CT/Abdomen/Fire3/05_Syngovia_niftis_segmented/CRF376/20100218/30000015072718372388400007337',\n",
    "'/media/nas/01_Datasets/CT/Abdomen/Fire3/05_Syngovia_niftis_segmented/CRF376/20100908/30000015072910312446200000200',\n",
    "'/media/nas/01_Datasets/CT/Abdomen/Fire3/05_Syngovia_niftis_segmented/CRF376/20121008/30000015072911385373100000679',\n",
    "'/media/nas/01_Datasets/CT/Abdomen/Fire3/05_Syngovia_niftis_segmented/CRF391/20081014/30000015061512533203000000000',\n",
    "'/media/nas/01_Datasets/CT/Abdomen/Fire3/05_Syngovia_niftis_segmented/CRF391/20081203/30000015061512533203000000165',\n",
    "'/media/nas/01_Datasets/CT/Abdomen/Fire3/05_Syngovia_niftis_segmented/CRF432/20081229/30000015061514220787200000205',\n",
    "'/media/nas/01_Datasets/CT/Abdomen/Fire3/05_Syngovia_niftis_segmented/CRF432/20081229/30000015061514220787200000277',\n",
    "'/media/nas/01_Datasets/CT/Abdomen/Fire3/05_Syngovia_niftis_segmented/CRF474/20091015/30000015060218163243600001566',\n",
    "'/media/nas/01_Datasets/CT/Abdomen/Fire3/05_Syngovia_niftis_segmented/CRF474/20091125/30000015060218163243600001940',\n",
    "'/media/nas/01_Datasets/CT/Abdomen/Fire3/05_Syngovia_niftis_segmented/CRF474/20100114/30000015060218163243600002131',\n",
    "'/media/nas/01_Datasets/CT/Abdomen/Fire3/05_Syngovia_niftis_segmented/CRF474/20100527/30000015060218163243600002767',\n",
    "'/media/nas/01_Datasets/CT/Abdomen/Fire3/05_Syngovia_niftis_segmented/CRF515/20100118/30000015082615010518400003313',\n",
    "'/media/nas/01_Datasets/CT/Abdomen/Fire3/05_Syngovia_niftis_segmented/CRF515/20100331/30000015082615010518400003623',\n",
    "'/media/nas/01_Datasets/CT/Abdomen/Fire3/05_Syngovia_niftis_segmented/CRF515/20100609/30000015082615010518400003912',\n",
    "'/media/nas/01_Datasets/CT/Abdomen/Fire3/05_Syngovia_niftis_segmented/CRF515/20100921/30000015082615010518400004136',\n",
    "'/media/nas/01_Datasets/CT/Abdomen/Fire3/05_Syngovia_niftis_segmented/CRF515/20101220/30000015082615010518400004525',\n",
    "'/media/nas/01_Datasets/CT/Abdomen/Fire3/05_Syngovia_niftis_segmented/CRF515/20110302/30000015082615010518400004816',\n",
    "'/media/nas/01_Datasets/CT/Abdomen/Fire3/05_Syngovia_niftis_segmented/CRF515/20110621/30000015082615010518400005446',\n",
    "'/media/nas/01_Datasets/CT/Abdomen/Fire3/05_Syngovia_niftis_segmented/CRF535/20091209/30000015060912590415200000072',\n",
    "'/media/nas/01_Datasets/CT/Abdomen/Fire3/05_Syngovia_niftis_segmented/CRF535/20100129/30000015060912590415200000710',\n",
    "'/media/nas/01_Datasets/CT/Abdomen/Fire3/05_Syngovia_niftis_segmented/CRF535/20100311/30000015060912590415200000813',\n",
    "'/media/nas/01_Datasets/CT/Abdomen/Fire3/05_Syngovia_niftis_segmented/CRF535/20100804/30000015060912590415200001226',\n",
    "'/media/nas/01_Datasets/CT/Abdomen/Fire3/05_Syngovia_niftis_segmented/CRF541/20101005/30000015061117301531700000552',\n",
    "'/media/nas/01_Datasets/CT/Abdomen/Fire3/05_Syngovia_niftis_segmented/CRF545/20110222/30000015080312572901200000098',\n",
    "'/media/nas/01_Datasets/CT/Abdomen/Fire3/05_Syngovia_niftis_segmented/CRF545/20110718/30000015080312572901200000438',\n",
    "'/media/nas/01_Datasets/CT/Abdomen/Fire3/05_Syngovia_niftis_segmented/CRF546/20100826/30000015082615010518400002169',\n",
    "'/media/nas/01_Datasets/CT/Abdomen/Fire3/05_Syngovia_niftis_segmented/CRF546/20100826/30000015082615010518400002245',\n",
    "'/media/nas/01_Datasets/CT/Abdomen/Fire3/05_Syngovia_niftis_segmented/CRF550/20110826/30000015061510563927900006312',\n",
    "'/media/nas/01_Datasets/CT/Abdomen/Fire3/05_Syngovia_niftis_segmented/CRF554/20100816/30000015061811510064100000405',\n",
    "'/media/nas/01_Datasets/CT/Abdomen/Fire3/05_Syngovia_niftis_segmented/CRF554/20101025/30000015061811510064100000529',\n",
    "'/media/nas/01_Datasets/CT/Abdomen/Fire3/05_Syngovia_niftis_segmented/CRF554/20110110/30000015061811510064100000655',\n",
    "'/media/nas/01_Datasets/CT/Abdomen/Fire3/05_Syngovia_niftis_segmented/CRF556/20100304/30000015061519121476600000390',\n",
    "'/media/nas/01_Datasets/CT/Abdomen/Fire3/05_Syngovia_niftis_segmented/CRF556/20100304/30000015061519121476600000297',\n",
    "'/media/nas/01_Datasets/CT/Abdomen/Fire3/05_Syngovia_niftis_segmented/CRF556/20100507/30000015061519121476600000561',\n",
    "'/media/nas/01_Datasets/CT/Abdomen/Fire3/05_Syngovia_niftis_segmented/CRF556/20100507/30000015061519121476600000627',\n",
    "'/media/nas/01_Datasets/CT/Abdomen/Fire3/05_Syngovia_niftis_segmented/CRF556/20100628/30000015061519121476600000855',\n",
    "'/media/nas/01_Datasets/CT/Abdomen/Fire3/05_Syngovia_niftis_segmented/CRF556/20100628/30000015061519121476600000771',\n",
    "'/media/nas/01_Datasets/CT/Abdomen/Fire3/05_Syngovia_niftis_segmented/CRF556/20110615/30000015061519121476600001498',\n",
    "'/media/nas/01_Datasets/CT/Abdomen/Fire3/05_Syngovia_niftis_segmented/CRF564/20100910/30000015061813411656100000093',\n",
    "'/media/nas/01_Datasets/CT/Abdomen/Fire3/05_Syngovia_niftis_segmented/CRF564/20100910/30000015061813411656100000204',\n",
    "'/media/nas/01_Datasets/CT/Abdomen/Fire3/05_Syngovia_niftis_segmented/CRF564/20110111/30000015061813411656100000759',\n",
    "'/media/nas/01_Datasets/CT/Abdomen/Fire3/05_Syngovia_niftis_segmented/CRF564/20110111/30000015061813411656100000872',\n",
    "'/media/nas/01_Datasets/CT/Abdomen/Fire3/05_Syngovia_niftis_segmented/CRF565/20100722/30000015061815120691700000334',\n",
    "'/media/nas/01_Datasets/CT/Abdomen/Fire3/05_Syngovia_niftis_segmented/CRF565/20100826/30000015061815120691700000549',\n",
    "'/media/nas/01_Datasets/CT/Abdomen/Fire3/05_Syngovia_niftis_segmented/CRF565/20101014/30000015061815120691700000761',\n",
    "'/media/nas/01_Datasets/CT/Abdomen/Fire3/05_Syngovia_niftis_segmented/CRF583/20101001/30000015061914473725800000389',\n",
    "'/media/nas/01_Datasets/CT/Abdomen/Fire3/05_Syngovia_niftis_segmented/CRF600/20101015/30000015061919022167000000654',\n",
    "'/media/nas/01_Datasets/CT/Abdomen/Fire3/05_Syngovia_niftis_segmented/CRF600/20101015/30000015061919022167000000492',\n",
    "'/media/nas/01_Datasets/CT/Abdomen/Fire3/05_Syngovia_niftis_segmented/CRF600/20101029/30000015061919022167000000900',\n",
    "'/media/nas/01_Datasets/CT/Abdomen/Fire3/05_Syngovia_niftis_segmented/CRF600/20101202/30000015061919022167000001377',\n",
    "'/media/nas/01_Datasets/CT/Abdomen/Fire3/05_Syngovia_niftis_segmented/CRF600/20101202/30000015061919022167000001052',\n",
    "'/media/nas/01_Datasets/CT/Abdomen/Fire3/05_Syngovia_niftis_segmented/CRF600/20110503/30000015061919022167000002087',\n",
    "'/media/nas/01_Datasets/CT/Abdomen/Fire3/05_Syngovia_niftis_segmented/CRF600/20110503/30000015061919022167000001932',\n",
    "'/media/nas/01_Datasets/CT/Abdomen/Fire3/05_Syngovia_niftis_segmented/CRF600/20110720/30000015061919022167000002491',\n",
    "'/media/nas/01_Datasets/CT/Abdomen/Fire3/05_Syngovia_niftis_segmented/CRF600/20110720/30000015061919022167000002341',\n",
    "'/media/nas/01_Datasets/CT/Abdomen/Fire3/05_Syngovia_niftis_segmented/CRF600/20120103/30000015061919022167000003274',\n",
    "'/media/nas/01_Datasets/CT/Abdomen/Fire3/05_Syngovia_niftis_segmented/CRF600/20120103/30000015061919022167000003417',\n",
    "'/media/nas/01_Datasets/CT/Abdomen/Fire3/05_Syngovia_niftis_segmented/CRF600/20120612/30000015061919022167000003728',\n",
    "'/media/nas/01_Datasets/CT/Abdomen/Fire3/05_Syngovia_niftis_segmented/CRF600/20120612/30000015061919022167000003576',\n",
    "'/media/nas/01_Datasets/CT/Abdomen/Fire3/05_Syngovia_niftis_segmented/CRF608/20101026/30000015062216355040300000052',\n",
    "'/media/nas/01_Datasets/CT/Abdomen/Fire3/05_Syngovia_niftis_segmented/CRF608/20101210/30000015062216355040300000162',\n",
    "'/media/nas/01_Datasets/CT/Abdomen/Fire3/05_Syngovia_niftis_segmented/CRF608/20110124/30000015062216355040300000265',\n",
    "'/media/nas/01_Datasets/CT/Abdomen/Fire3/05_Syngovia_niftis_segmented/CRF608/20110307/30000015062216355040300000511',\n",
    "'/media/nas/01_Datasets/CT/Abdomen/Fire3/05_Syngovia_niftis_segmented/CRF608/20110412/30000015062216355040300000627',\n",
    "'/media/nas/01_Datasets/CT/Abdomen/Fire3/05_Syngovia_niftis_segmented/CRF611/20101117/30000015062311195224300000478',\n",
    "'/media/nas/01_Datasets/CT/Abdomen/Fire3/05_Syngovia_niftis_segmented/CRF612/20100712/30000015062315591062600000183',\n",
    "'/media/nas/01_Datasets/CT/Abdomen/Fire3/05_Syngovia_niftis_segmented/CRF612/20100826/30000015062315591062600000453',\n",
    "'/media/nas/01_Datasets/CT/Abdomen/Fire3/05_Syngovia_niftis_segmented/CRF612/20101008/30000015062315591062600000740',\n",
    "'/media/nas/01_Datasets/CT/Abdomen/Fire3/05_Syngovia_niftis_segmented/CRF612/20101217/30000015062315591062600001203',\n",
    "'/media/nas/01_Datasets/CT/Abdomen/Fire3/05_Syngovia_niftis_segmented/CRF645/20110826/30000015072715214147500000488',\n",
    "'/media/nas/01_Datasets/CT/Abdomen/Fire3/05_Syngovia_niftis_segmented/CRF645/20111208/30000015072715214147500000653',\n",
    "'/media/nas/01_Datasets/CT/Abdomen/Fire3/05_Syngovia_niftis_segmented/CRF645/20120328/30000015072715214147500001193',\n",
    "'/media/nas/01_Datasets/CT/Abdomen/Fire3/05_Syngovia_niftis_segmented/CRF645/20120720/30000015072715214147500001464',\n",
    "'/media/nas/01_Datasets/CT/Abdomen/Fire3/05_Syngovia_niftis_segmented/CRF676/20120111/30000015073018491307500000000',\n",
    "'/media/nas/01_Datasets/CT/Abdomen/Fire3/05_Syngovia_niftis_segmented/CRF676/20120312/30000015073018491307500000321',\n",
    "'/media/nas/01_Datasets/CT/Abdomen/Fire3/05_Syngovia_niftis_segmented/FIRE61/20101102/3660',\n",
    "'/media/nas/01_Datasets/CT/Abdomen/Fire3/05_Syngovia_niftis_segmented/FIRE661/20100915/4509',\n",
    "'/media/nas/01_Datasets/CT/Abdomen/Fire3/05_Syngovia_niftis_segmented/FIRE661/20110111/2834',\n",
    "'/media/nas/01_Datasets/CT/Abdomen/Fire3/05_Syngovia_niftis_segmented/FIRE661/20110321/1969',}"
   ]
  },
  {
   "cell_type": "code",
   "execution_count": 44,
   "metadata": {
    "collapsed": true
   },
   "outputs": [],
   "source": [
    "#Copy Bad Syngo Via\n",
    "from shutil import copyfile\n",
    "for path in bad_syngo:\n",
    "    pfad, file = os.path.split(path)\n",
    "    copyfile(path + '.nii', savepath_vol + file +'.nii')\n",
    "    copyfile(path + '_segmented.nii', savepath_vol + file +'_segmented.nii')"
   ]
  },
  {
   "cell_type": "code",
   "execution_count": 56,
   "metadata": {
    "collapsed": false
   },
   "outputs": [],
   "source": [
    "# Base path of niftis and segmentation niftis\n",
    "BASE_PATH = \"/media/nas/niftis_segmented\"\n",
    "\n",
    "fire3_best = [\\\n",
    "# Liver quality and lesion quality both = 1\n",
    "(92,BASE_PATH+\"/CRF_118/2007-10-16/Sensation_16/segmented/17730001.nii\",BASE_PATH+\"/CRF_118/2007-10-16/Sensation_16/segmented/17730001_liv_x_clipped.nii\"),\n",
    "(90,BASE_PATH+\"/CRF_141/2007-11-22/Sensation_16/segmented/20610001.nii\",BASE_PATH+\"/CRF_141/2007-11-22/Sensation_16/segmented/20610001_liv_x_clipped.nii\"),\n",
    "(33,BASE_PATH+\"/CRF_223/2008-07-22/Sensation_16/segmented/3917859.nii\",BASE_PATH+\"/CRF_223/2008-07-22/Sensation_16/segmented/3917859_liv_x_clipped.nii\"),\n",
    "(35,BASE_PATH+\"/CRF_223/2008-10-30/Sensation_16/segmented/3916383.nii\",BASE_PATH+\"/CRF_223/2008-10-30/Sensation_16/segmented/3916383_liv_x_clipped.nii\"),\n",
    "(87,BASE_PATH+\"/CRF_224/2008-09-15/Sensation_16/segmented/30280001.nii\",BASE_PATH+\"/CRF_224/2008-09-15/Sensation_16/segmented/30280001_liv_x_clipped.nii\"),\n",
    "(86,BASE_PATH+\"/CRF_242/2007-11-27/Sensation_40/segmented/31930001.nii\",BASE_PATH+\"/CRF_242/2007-11-27/Sensation_40/segmented/31930001_liv_x_clipped.nii\"),\n",
    "(73,BASE_PATH+\"/CRF_381/2012-05-10/LightSpeed_Pro_32/segmented/3617077.nii\",BASE_PATH+\"/CRF_381/2012-05-10/LightSpeed_Pro_32/segmented/3617077_liv_x_clipped.nii\"),\n",
    "(74,BASE_PATH+\"/CRF_381/2012-06-19/LightSpeed_Pro_32/segmented/3615449.nii\",BASE_PATH+\"/CRF_381/2012-06-19/LightSpeed_Pro_32/segmented/3615449_liv_x_clipped.nii\"),\n",
    "(68,BASE_PATH+\"/CRF_490/2011-02-09/iCT_256/segmented/63630001.nii\",BASE_PATH+\"/CRF_490/2011-02-09/iCT_256/segmented/63630001_liv_x_clipped.nii\"),\n",
    "(38,BASE_PATH+\"/CRF_710/2011-03-28/Discovery_STE/segmented/85070001.nii\",BASE_PATH+\"/CRF_710/2011-03-28/Discovery_STE/segmented/85070001_liv_1_clipped.nii\"),\n",
    "(39,BASE_PATH+\"/CRF_710/2011-09-08/Emotion_6/segmented/84680001.nii\",BASE_PATH+\"/CRF_710/2011-09-08/Emotion_6/segmented/84680001_liv_1_clipped.nii\"),\n",
    "(99,BASE_PATH+\"/CRF_799/2011-10-05/Sensation_16/segmented/115160001.nii\",BASE_PATH+\"/CRF_799/2011-10-05/Sensation_16/segmented/115160001_liv_x_clipped.nii\"),\n",
    "# Lesion quality = 2, liver quality = 1\n",
    "(31,BASE_PATH+\"/CRF_223/2008-02-05/Sensation_16/segmented/3920202.nii\",BASE_PATH+\"/CRF_223/2008-02-05/Sensation_16/segmented/3920202_liv_x_clipped.nii\"),\n",
    "(32,BASE_PATH+\"/CRF_223/2008-04-29/Sensation_16/segmented/3911413.nii\",BASE_PATH+\"/CRF_223/2008-04-29/Sensation_16/segmented/3911413_liv_x_clipped.nii\"),\n",
    "(81,BASE_PATH+\"/CRF_336/2012-11-01/Birlliance_10/segmented/3557811.nii\",BASE_PATH+\"/CRF_336/2012-11-01/Birlliance_10/segmented/3557811_liv_x_clipped.nii\"),\n",
    "(56,BASE_PATH+\"/CRF_841/2013-01-24/SOMATOM_Definition_AS/segmented/200424.nii\",BASE_PATH+\"/CRF_841/2013-01-24/SOMATOM_Definition_AS/segmented/200424_liv_x_clipped.nii\"),\n",
    "(2,BASE_PATH+\"/CRF_035/2008-05-20/Brilliance_64/segmented/02770001.nii\",BASE_PATH+\"/CRF_035/2008-05-20/Brilliance_64/segmented/02770001_liv_1_clipped.nii\"),\n",
    "(4,BASE_PATH+\"/CRF_036/2008-02-04/Emotion_Duo/segmented/03150001.nii\",BASE_PATH+\"/CRF_036/2008-02-04/Emotion_Duo/segmented/03150001_liv_3_clipped.nii\"),\n",
    "(23,BASE_PATH+\"/CRF_143/2007-12-04/LightSpeed_Pro_32/segmented/3816280.nii\",BASE_PATH+\"/CRF_143/2007-12-04/LightSpeed_Pro_32/segmented/3816280_liver_0_clipped.nii\"),\n",
    "(22,BASE_PATH+\"/CRF_103/2009-07-29/Brilliance_6_Dunlee/segmented/3772968.nii\",BASE_PATH+\"/CRF_103/2009-07-29/Brilliance_6_Dunlee/segmented/3772968_liv_x_clipped.nii\"),\n",
    "(33,BASE_PATH+\"/CRF_223/2008-07-22/Sensation_16/segmented/3917859.nii\",BASE_PATH+\"/CRF_223/2008-07-22/Sensation_16/segmented/3917859_liv_x_clipped.nii\"),\n",
    "(36,BASE_PATH+\"/CRF_223/2009-03-27/Sensation_16/segmented/28840001.nii\",BASE_PATH+\"/CRF_223/2009-03-27/Sensation_16/segmented/28840001_liv_x_clipped.nii\"),\n",
    "(28,BASE_PATH+\"/CRF_174/2013-04-12/LightSpeed_Pro_32/segmented/372109.nii\",BASE_PATH+\"/CRF_174/2013-04-12/LightSpeed_Pro_32/segmented/372109_liv_x_clipped.nii\"),\n",
    "(45,BASE_PATH+\"/CRF_734/2011-06-28/Sensation_16/segmented/86110001.nii\",BASE_PATH+\"/CRF_734/2011-06-28/Sensation_16/segmented/86110001_liv_x_clipped.nii\"),\n",
    "(46,BASE_PATH+\"/CRF_734/2011-04-19/undefined/segmented/86180001.nii\",BASE_PATH+\"/CRF_734/2011-04-19/undefined/segmented/86180001_liv_x_clipped.nii\"),\n",
    "(49,BASE_PATH+\"/CRF_750/2011-09-23/iCT_256/segmented/86910001.nii\",BASE_PATH+\"/CRF_750/2011-09-23/iCT_256/segmented/86910001_liv_x_clipped.nii\"),\n",
    "(30,BASE_PATH+\"/CRF_174/2013-12-06/LightSpeed_Pro_32/segmented/368984.nii\",BASE_PATH+\"/CRF_174/2013-12-06/LightSpeed_Pro_32/segmented/368984_liv_x_clipped.nii\"),\n",
    "(56,BASE_PATH+\"/CRF_841/2013-01-24/SOMATOM_Definition_AS/segmented/200424.nii\",BASE_PATH+\"/CRF_841/2013-01-24/SOMATOM_Definition_AS/segmented/200424_liv_x_clipped.nii\"),\n",
    "(61,BASE_PATH+\"/CRF_756/2011-06-17/Definition_AS+/segmented/87840001.nii\",BASE_PATH+\"/CRF_756/2011-06-17/Definition_AS+/segmented/87840001_liv_x_clipped.nii\"),\n",
    "(63,BASE_PATH+\"/CRF_512/2011-10-18/SOMATOM_Definition_AS/segmented/66090001.nii\",BASE_PATH+\"/CRF_512/2011-10-18/SOMATOM_Definition_AS/segmented/66090001_liv_x_clipped.nii\"),\n",
    "(70,BASE_PATH+\"/CRF_485/2010-08-11/Emotion_16_(2007)/segmented/3292245.nii\",BASE_PATH+\"/CRF_485/2010-08-11/Emotion_16_(2007)/segmented/3292245_liv_x_clipped.nii\"),\n",
    "(80,BASE_PATH+\"/CRF_336/2012-04-26/Brilliance_10/segmented/3558746.nii\",BASE_PATH+\"/CRF_336/2012-04-26/Brilliance_10/segmented/3558746_liv_x_clipped.nii\"),\n",
    "(84,BASE_PATH+\"/CRF_335/2011-10-21/Brilliance_10/segmented/3581986.nii\",BASE_PATH+\"/CRF_335/2011-10-21/Brilliance_10/segmented/3581986_liv_x_clipped.nii\"),\n",
    "(90,BASE_PATH+\"/CRF_141/2007-11-22/Sensation_16/segmented/20610001.nii\",BASE_PATH+\"/CRF_141/2007-11-22/Sensation_16/segmented/20610001_liv_x_clipped.nii\"),\n",
    "(100,BASE_PATH+\"/CRF_272/2008-10-30/Defenition/segmented/34180001.nii\",BASE_PATH+\"/CRF_272/2008-10-30/Defenition/segmented/34180001_liv_x_clipped.nii\"),\n",
    "(97,BASE_PATH+\"/CRF_841/2014-02-12/SOMATOM_Definition_AS/segmented/199174.nii\",BASE_PATH+\"/CRF_841/2014-02-12/SOMATOM_Definition_AS/segmented/199174_liv_x_clipped.nii\"),\n",
    "(10,BASE_PATH+\"/CRF_048/2007-08-08/Sensation_16/segmented/05350001.nii\",BASE_PATH+\"/CRF_048/2007-08-08/Sensation_16/segmented/05350001_liv_4_clipped.nii\"),\n",
    "(3,BASE_PATH+\"/CRF_035/2008-05-20/Brilliance_64/segmented/02780001.nii\",BASE_PATH+\"/CRF_035/2008-05-20/Brilliance_64/segmented/02780001_liv_2_clipped.nii\"),\n",
    "(89,BASE_PATH+\"/CRF_145/2007-11-20/Sensation_40/segmented/20990001.nii\",BASE_PATH+\"/CRF_145/2007-11-20/Sensation_40/segmented/20990001_liv_x_clipped.nii\"),\n",
    "(47,BASE_PATH+\"/CRF_734/2011-07-11/Biograph_6/segmented/3431744.nii\",BASE_PATH+\"/CRF_734/2011-07-11/Biograph_6/segmented/3431744_liv_x_clipped.nii\"),\n",
    "(72,BASE_PATH+\"/CRF_395/2010-08-06/iCT_256/segmented/49660001.nii\",BASE_PATH+\"/CRF_395/2010-08-06/iCT_256/segmented/49660001_liv_x_clipped.nii\"),\n",
    "(26,BASE_PATH+\"/CRF_174/2012-11-16/LightSpeed_Pro_32/segmented/3849520.nii\",BASE_PATH+\"/CRF_174/2012-11-16/LightSpeed_Pro_32/segmented/3849520_liv_x_clipped.nii\"),\n",
    "(98,BASE_PATH+\"/CRF_335/2011-05-09/Brilliance_10/segmented/3584548.nii\",BASE_PATH+\"/CRF_335/2011-05-09/Brilliance_10/segmented/3584548_liv_x_clipped.nii\"),\n",
    "(20,BASE_PATH+\"/CRF_102/2009-02-25/Aquilion/segmented/14580001.nii\",BASE_PATH+\"/CRF_102/2009-02-25/Aquilion/segmented/14580001_liv_4_clipped.nii\"),\n",
    "(34,BASE_PATH+\"/CRF_223/2008-09-30/Sensation_16/segmented/3917228.nii\",BASE_PATH+\"/CRF_223/2008-09-30/Sensation_16/segmented/3917228_liv_x_clipped.nii\"),\n",
    "(29,BASE_PATH+\"/CRF_174/2013-10-31/LightSpeed_Pro_32/segmented/370619.nii\",BASE_PATH+\"/CRF_174/2013-10-31/LightSpeed_Pro_32/segmented/370619_liv_x_clipped.nii\"),\n",
    "(13,BASE_PATH+\"/CRF_058/2007-09-21/Sensation_40/segmented/05830001.nii\",BASE_PATH+\"/CRF_058/2007-09-21/Sensation_40/segmented/05830001_liv_37_clipped.nii\"),\n",
    "(81,BASE_PATH+\"/CRF_336/2012-11-01/Birlliance_10/segmented/3557811.nii\",BASE_PATH+\"/CRF_336/2012-11-01/Birlliance_10/segmented/3557811_liv_x_clipped.nii\"),\n",
    "(39,BASE_PATH+\"/CRF_710/2011-09-08/Emotion_6/segmented/84680001.nii\",BASE_PATH+\"/CRF_710/2011-09-08/Emotion_6/segmented/84680001_liv_1_clipped.nii\"),\n",
    "(65,BASE_PATH+\"/CRF_502/2011-06-21/Sensation_16/segmented/65330001.nii\",BASE_PATH+\"/CRF_502/2011-06-21/Sensation_16/segmented/65330001_liv_x_clipped.nii\"),\n",
    "(96,BASE_PATH+\"/CRF_841/2014-02-12/SOMATOM_Definition_AS/segmented/196799.nii\",BASE_PATH+\"/CRF_841/2014-02-12/SOMATOM_Definition_AS/segmented/196799_liv_x_clipped.nii\"),\n",
    "(5,BASE_PATH+\"/CRF_036/2008-05-09/Emotion_Duo/segmented/03040001.nii\",BASE_PATH+\"/CRF_036/2008-05-09/Emotion_Duo/segmented/03040001_liv_7_clipped.nii\"),\n",
    "(43,BASE_PATH+\"/CRF_734/2011-03-08/Sensation_16/segmented/86290001.nii\",BASE_PATH+\"/CRF_734/2011-03-08/Sensation_16/segmented/86290001_liv_x_clipped.nii\"),\n",
    "(66,BASE_PATH+\"/CRF_490/2010-08-16/iCT_256/segmented/63870001.nii\",BASE_PATH+\"/CRF_490/2010-08-16/iCT_256/segmented/63870001_liv_x_clipped.nii\"),\n",
    "(92,BASE_PATH+\"/CRF_118/2007-10-16/Sensation_16/segmented/17730001.nii\",BASE_PATH+\"/CRF_118/2007-10-16/Sensation_16/segmented/17730001_liv_x_clipped.nii\"),\n",
    "(91,BASE_PATH+\"/CRF_141/2008-01-04/Sensation_16/segmented/20500001.nii\",BASE_PATH+\"/CRF_141/2008-01-04/Sensation_16/segmented/20500001_liv_0_clipped.nii\"),\n",
    "(9,BASE_PATH+\"/CRF_045/2008-12-17/LightSpeed16/segmented/04890001.nii\",BASE_PATH+\"/CRF_045/2008-12-17/LightSpeed16/segmented/04890001_liv_13_clipped.nii\"),\n",
    "(7,BASE_PATH+\"/CRF_041/2009-06-17/BrightSpeed_S/segmented/04070001.nii\",BASE_PATH+\"/CRF_041/2009-06-17/BrightSpeed_S/segmented/04070001_liv_1_clipped.nii\"),\n",
    "(57,BASE_PATH+\"/CRF_841/2013-08-06/SOMATOM_Definition_AS/segmented/199174.nii\",BASE_PATH+\"/CRF_841/2013-08-06/SOMATOM_Definition_AS/segmented/199174_liv_x_clipped.nii\"),\n",
    "(64,BASE_PATH+\"/CRF_502/2009-09-10/Sensation_16/segmented/66020001.nii\",BASE_PATH+\"/CRF_502/2009-09-10/Sensation_16/segmented/66020001_liv_x_clipped.nii\"),\n",
    "(78,BASE_PATH+\"/CRF_380/2012-09-13/LightSpeed_Pro_32/segmented/80855.nii\",BASE_PATH+\"/CRF_380/2012-09-13/LightSpeed_Pro_32/segmented/80855_liv_x_clipped.nii\"),\n",
    "(50,BASE_PATH+\"/CRF_750/2011-11-10/iCT_256/segmented/86770001.nii\",BASE_PATH+\"/CRF_750/2011-11-10/iCT_256/segmented/86770001_liv_x_clipped.nii\"),\n",
    "(12,BASE_PATH+\"/CRF_050/2007-11-27/Volume_Zoom/segmented/05630001.nii\",BASE_PATH+\"/CRF_050/2007-11-27/Volume_Zoom/segmented/05630001_liv_7_clipped.nii\"),\n",
    "(32,BASE_PATH+\"/CRF_223/2008-04-29/Sensation_16/segmented/3911413.nii\",BASE_PATH+\"/CRF_223/2008-04-29/Sensation_16/segmented/3911413_liv_x_clipped.nii\"),\n",
    "(55,BASE_PATH+\"/CRF_841/2013-01-24/SOMATOM_Definition_AS/segmented/199503.nii\",BASE_PATH+\"/CRF_841/2013-01-24/SOMATOM_Definition_AS/segmented/199503_liv_x_clipped.nii\"),\n",
    "(35,BASE_PATH+\"/CRF_223/2008-10-30/Sensation_16/segmented/3916383.nii\",BASE_PATH+\"/CRF_223/2008-10-30/Sensation_16/segmented/3916383_liv_x_clipped.nii\"),\n",
    "(8,BASE_PATH+\"/CRF_045/2008-09-23/LightSpeed16/segmented/04950001.nii\",BASE_PATH+\"/CRF_045/2008-09-23/LightSpeed16/segmented/04950001_liv_8_clipped.nii\"),\n",
    "(59,BASE_PATH+\"/CRF_810/2012-03-06/SOMATOM_Definition_Flash/segmented/1311366.nii\",BASE_PATH+\"/CRF_810/2012-03-06/SOMATOM_Definition_Flash/segmented/1311366_liv_x_clipped.nii\"),\n",
    "(42,BASE_PATH+\"/CRF_734/2011-01-17/Sensation_16/segmented/86370001.nii\",BASE_PATH+\"/CRF_734/2011-01-17/Sensation_16/segmented/86370001_liv_x_clipped.nii\"),\n",
    "(74,BASE_PATH+\"/CRF_381/2012-06-19/LightSpeed_Pro_32/segmented/3615449.nii\",BASE_PATH+\"/CRF_381/2012-06-19/LightSpeed_Pro_32/segmented/3615449_liv_x_clipped.nii\"),\n",
    "(93,BASE_PATH+\"/CRF_118/2008-07-24/Sensation_16/segmented/17440001.nii\",BASE_PATH+\"/CRF_118/2008-07-24/Sensation_16/segmented/17440001_liv_x_clipped.nii\"),\n",
    "(68,BASE_PATH+\"/CRF_490/2011-02-09/iCT_256/segmented/63630001.nii\",BASE_PATH+\"/CRF_490/2011-02-09/iCT_256/segmented/63630001_liv_x_clipped.nii\"),\n",
    "(24,BASE_PATH+\"/CRF_174/2012-08-03/LightSpeed_Pro_32/segmented/4163677.nii\",BASE_PATH+\"/CRF_174/2012-08-03/LightSpeed_Pro_32/segmented/4163677_liv_x_clipped.nii\"),\n",
    "(83,BASE_PATH+\"/CRF_335/2011-03-16/Brilliance_10/segmented/3585584.nii\",BASE_PATH+\"/CRF_335/2011-03-16/Brilliance_10/segmented/3585584_liv_x_clipped.nii\"),\n",
    "(67,BASE_PATH+\"/CRF_490/2010-11-19/iCT_256/segmented/63750001.nii\",BASE_PATH+\"/CRF_490/2010-11-19/iCT_256/segmented/63750001_liv_x_clipped.nii\"),\n",
    "(85,BASE_PATH+\"/CRF_335/2012-01-23/Brilliance_10/segmented/3580455.nii\",BASE_PATH+\"/CRF_335/2012-01-23/Brilliance_10/segmented/3580455_liv_x_clipped.nii\"),\n",
    "(73,BASE_PATH+\"/CRF_381/2012-05-10/LightSpeed_Pro_32/segmented/3617077.nii\",BASE_PATH+\"/CRF_381/2012-05-10/LightSpeed_Pro_32/segmented/3617077_liv_x_clipped.nii\"),\n",
    "(11,BASE_PATH+\"/CRF_050/2007-05-11/Volume_Zoom/segmented/05680001.nii\",BASE_PATH+\"/CRF_050/2007-05-11/Volume_Zoom/segmented/05680001_liv_7_clipped.nii\"),\n",
    "(27,BASE_PATH+\"/CRF_174/2013-01-25/LightSpeed_Pro_32/segmented/3849007.nii\",BASE_PATH+\"/CRF_174/2013-01-25/LightSpeed_Pro_32/segmented/3849007_liv_x_clipped.nii\"),\n",
    "(52,BASE_PATH+\"/CRF_841/2012-05-03/SOMATOM_Definition_AS/segmented/204134.nii\",BASE_PATH+\"/CRF_841/2012-05-03/SOMATOM_Definition_AS/segmented/204134_liv_x_clipped.nii\"),\n",
    "(79,BASE_PATH+\"/CRF_380/2014-08-06/LightSpeed_Pro_32/segmented/401545.nii\",BASE_PATH+\"/CRF_380/2014-08-06/LightSpeed_Pro_32/segmented/401545_liv_x_clipped.nii\"),\n",
    "(19,BASE_PATH+\"/CRF_102/2008-11-10/Aquilion/segmented/14650001.nii\",BASE_PATH+\"/CRF_102/2008-11-10/Aquilion/segmented/14650001_liv_5_clipped.nii\"),\n",
    "(69,BASE_PATH+\"/CRF_489/2011-01-26/iCT_256/segmented/62600001.nii\",BASE_PATH+\"/CRF_489/2011-01-26/iCT_256/segmented/62600001_liv_x_clipped.nii\"),\n",
    "(76,BASE_PATH+\"/CRF_380/2012-04-27/LightSpeed_Pro_32/segmented/3576014.nii\",BASE_PATH+\"/CRF_380/2012-04-27/LightSpeed_Pro_32/segmented/3576014_liv_x_clipped.nii\"),\n",
    "(37,BASE_PATH+\"/CRF_285/2008-05-20/Brilliance_10/segmented/3566944.nii\",BASE_PATH+\"/CRF_285/2008-05-20/Brilliance_10/segmented/3566944_liv_0_clipped.nii\"),\n",
    "(48,BASE_PATH+\"/CRF_734/2011-11-11/Biograph_6/segmented/4300214.nii\",BASE_PATH+\"/CRF_734/2011-11-11/Biograph_6/segmented/4300214_liv_x_clipped.nii\"),\n",
    "(94,BASE_PATH+\"/CRF_094/2007-05-15/LightSpeed_Pro_32/segmented/3731015.nii\",BASE_PATH+\"/CRF_094/2007-05-15/LightSpeed_Pro_32/segmented/3731015_liv_x_clipped.nii\"),\n",
    "(41,BASE_PATH+\"/CRF_710/2011-12-02/Emotion_6/segmented/84410001.nii\",BASE_PATH+\"/CRF_710/2011-12-02/Emotion_6/segmented/84410001_liv_1_clipped.nii\"),\n",
    "(58,BASE_PATH+\"/CRF_839/2012-12-10/Sensation_16/segmented/280185.nii\",BASE_PATH+\"/CRF_839/2012-12-10/Sensation_16/segmented/280185_liv_x_clipped.nii\"),\n",
    "(82,BASE_PATH+\"/CRF_336/2013-02-18/Brilliance_10/segmented/3556995.nii\",BASE_PATH+\"/CRF_336/2013-02-18/Brilliance_10/segmented/3556995_liv_x_clipped.nii\"),\n",
    "(38,BASE_PATH+\"/CRF_710/2011-03-28/Discovery_STE/segmented/85070001.nii\",BASE_PATH+\"/CRF_710/2011-03-28/Discovery_STE/segmented/85070001_liv_1_clipped.nii\"),\n",
    "(75,BASE_PATH+\"/CRF_380/2012-03-21/LightSpeed_Pro_32/segmented/81898.nii\",BASE_PATH+\"/CRF_380/2012-03-21/LightSpeed_Pro_32/segmented/81898_liv_x_clipped.nii\"),\n",
    "(16,BASE_PATH+\"/CRF_083/2008-01-17/BrightSpeed/segmented/07580001.nii\",BASE_PATH+\"/CRF_083/2008-01-17/BrightSpeed/segmented/07580001_liv_11_clipped.nii\"),\n",
    "(62,BASE_PATH+\"/CRF_519/2010-09-23/iCT_256/segmented/68050001.nii\",BASE_PATH+\"/CRF_519/2010-09-23/iCT_256/segmented/68050001_liv_x_clipped.nii\"),\n",
    "(17,BASE_PATH+\"/CRF_083/2009-05-19/BrightSpeed/segmented/06980001.nii\",BASE_PATH+\"/CRF_083/2009-05-19/BrightSpeed/segmented/06980001_liv_8_clipped.nii\"),\n",
    "(18,BASE_PATH+\"/CRF_102/2007-12-07/Aquilion/segmented/14820001.nii\",BASE_PATH+\"/CRF_102/2007-12-07/Aquilion/segmented/14820001_liv_4_clipped.nii\"),\n",
    "(54,BASE_PATH+\"/CRF_841/2012-10-08/SOMATOM_Definition_AS/segmented/201384.nii\",BASE_PATH+\"/CRF_841/2012-10-08/SOMATOM_Definition_AS/segmented/201384_liv_x_clipped.nii\"),\n",
    "(6,BASE_PATH+\"/CRF_041/2009-03-18/BrightSpeed_S/segmented/04120001.nii\",BASE_PATH+\"/CRF_041/2009-03-18/BrightSpeed_S/segmented/04120001_liv_1_clipped.nii\"),\n",
    "(87,BASE_PATH+\"/CRF_224/2008-09-15/Sensation_16/segmented/30280001.nii\",BASE_PATH+\"/CRF_224/2008-09-15/Sensation_16/segmented/30280001_liv_x_clipped.nii\"),\n",
    "(77,BASE_PATH+\"/CRF_380/2012-07-05/LightSpeed_Pro_32/segmented/3574991.nii\",BASE_PATH+\"/CRF_380/2012-07-05/LightSpeed_Pro_32/segmented/3574991_liv_x_clipped.nii\"),\n",
    "(88,BASE_PATH+\"/CRF_200/2010-11-16/iCT_256/segmented/26340001.nii\",BASE_PATH+\"/CRF_200/2010-11-16/iCT_256/segmented/26340001_liv_x_clipped.nii\"),\n",
    "(86,BASE_PATH+\"/CRF_242/2007-11-27/Sensation_40/segmented/31930001.nii\",BASE_PATH+\"/CRF_242/2007-11-27/Sensation_40/segmented/31930001_liv_x_clipped.nii\"),\n",
    "(71,BASE_PATH+\"/CRF_395/2010-08-06/iCT_256/segmented/49650001.nii\",BASE_PATH+\"/CRF_395/2010-08-06/iCT_256/segmented/49650001_liv_x_clipped.nii\"),\n",
    "(25,BASE_PATH+\"/CRF_174/2012-09-20/LightSpeed_Pro_32/segmented/4161159.nii\",BASE_PATH+\"/CRF_174/2012-09-20/LightSpeed_Pro_32/segmented/4161159_liv_x_clipped.nii\"),\n",
    "(31,BASE_PATH+\"/CRF_223/2008-02-05/Sensation_16/segmented/3920202.nii\",BASE_PATH+\"/CRF_223/2008-02-05/Sensation_16/segmented/3920202_liv_x_clipped.nii\"),\n",
    "(99,BASE_PATH+\"/CRF_799/2011-10-05/Sensation_16/segmented/115160001.nii\",BASE_PATH+\"/CRF_799/2011-10-05/Sensation_16/segmented/115160001_liv_x_clipped.nii\"),\n",
    "(44,BASE_PATH+\"/CRF_734/2011-04-19/Sensation_16/segmented/86200001.nii\",BASE_PATH+\"/CRF_734/2011-04-19/Sensation_16/segmented/86200001_liv_x_clipped.nii\"),\n",
    "(15,BASE_PATH+\"/CRF_083/2007-12-18/BrightSpeed/segmented/07640001.nii\",BASE_PATH+\"/CRF_083/2007-12-18/BrightSpeed/segmented/07640001_liv_7_clipped.nii\"),\n",
    "(53,BASE_PATH+\"/CRF_841/2012-08-15/SOMATOM_DEFINITION_AS/segmented/202539.nii\",BASE_PATH+\"/CRF_841/2012-08-15/SOMATOM_DEFINITION_AS/segmented/202539_liv_x_clipped.nii\"),\n",
    "(14,BASE_PATH+\"/CRF_058/undated/Sensation_40/segmented/05860001.nii\",BASE_PATH+\"/CRF_058/undated/Sensation_40/segmented/05860001_liv_x_clipped.nii\"),]\n",
    "\n",
    "            \n",
    "\n"
   ]
  },
  {
   "cell_type": "code",
   "execution_count": 58,
   "metadata": {
    "collapsed": false
   },
   "outputs": [
    {
     "data": {
      "text/plain": [
       "'/media/nas/niftis_segmented/CRF_141/2007-11-22/Sensation_16/segmented/20610001.nii'"
      ]
     },
     "execution_count": 58,
     "metadata": {},
     "output_type": "execute_result"
    }
   ],
   "source": [
    "fire3_best[1][1]"
   ]
  },
  {
   "cell_type": "code",
   "execution_count": 63,
   "metadata": {
    "collapsed": true
   },
   "outputs": [],
   "source": [
    "f3_good={'3150001',\n",
    "'5630001',\n",
    "'7640001',\n",
    "'7580001',\n",
    "'14580001',\n",
    "'17730001',\n",
    "'20610001',\n",
    "'4161159',\n",
    "'3849520',\n",
    "'372109',\n",
    "'26340001',\n",
    "'3920202',\n",
    "'3911413',\n",
    "'3917859',\n",
    "'3917228',\n",
    "'3916383',\n",
    "'30280001',\n",
    "'31930001',\n",
    "'3584558',\n",
    "'3580455',\n",
    "'3558746',\n",
    "'3557811',\n",
    "'81898',\n",
    "'3617077',\n",
    "'3615449',\n",
    "'63750001',\n",
    "'63630001',\n",
    "'66020001',\n",
    "'85070001',\n",
    "'84680001',\n",
    "'84410001',\n",
    "'115160001',\n",
    "'1311366',\n",
    "'200424',\n",
    "'196799',}"
   ]
  },
  {
   "cell_type": "code",
   "execution_count": 84,
   "metadata": {
    "collapsed": false,
    "scrolled": true
   },
   "outputs": [
    {
     "name": "stdout",
     "output_type": "stream",
     "text": [
      "Copying Normal Seg 17730001.nii\n",
      "Copying Good Seg 17730001.nii\n"
     ]
    },
    {
     "ename": "KeyboardInterrupt",
     "evalue": "",
     "output_type": "error",
     "traceback": [
      "\u001b[1;31m---------------------------------------------------------------------------\u001b[0m",
      "\u001b[1;31mKeyboardInterrupt\u001b[0m                         Traceback (most recent call last)",
      "\u001b[1;32m<ipython-input-84-60de56585657>\u001b[0m in \u001b[0;36m<module>\u001b[1;34m()\u001b[0m\n\u001b[0;32m      7\u001b[0m             \u001b[0mcopyfile\u001b[0m\u001b[1;33m(\u001b[0m\u001b[0mpath\u001b[0m \u001b[1;33m+\u001b[0m \u001b[1;34m'/'\u001b[0m\u001b[1;33m+\u001b[0m \u001b[0mfile\u001b[0m\u001b[1;33m,\u001b[0m \u001b[0msavepath_vol\u001b[0m \u001b[1;33m+\u001b[0m  \u001b[1;34m'Test/'\u001b[0m \u001b[1;33m+\u001b[0m\u001b[0mfile\u001b[0m\u001b[1;33m)\u001b[0m\u001b[1;33m\u001b[0m\u001b[0m\n\u001b[0;32m      8\u001b[0m             \u001b[0mpath_seg\u001b[0m\u001b[1;33m,\u001b[0m \u001b[0mfile_seg\u001b[0m \u001b[1;33m=\u001b[0m \u001b[0mos\u001b[0m\u001b[1;33m.\u001b[0m\u001b[0mpath\u001b[0m\u001b[1;33m.\u001b[0m\u001b[0msplit\u001b[0m\u001b[1;33m(\u001b[0m\u001b[0mfire3_best\u001b[0m\u001b[1;33m[\u001b[0m\u001b[0mi\u001b[0m\u001b[1;33m]\u001b[0m\u001b[1;33m[\u001b[0m\u001b[1;36m2\u001b[0m\u001b[1;33m]\u001b[0m\u001b[1;33m)\u001b[0m\u001b[1;33m\u001b[0m\u001b[0m\n\u001b[1;32m----> 9\u001b[1;33m             \u001b[0mcopyfile\u001b[0m\u001b[1;33m(\u001b[0m\u001b[0mpath_seg\u001b[0m \u001b[1;33m+\u001b[0m \u001b[1;34m'/'\u001b[0m\u001b[1;33m+\u001b[0m \u001b[0mfile_seg\u001b[0m\u001b[1;33m,\u001b[0m \u001b[0msavepath_vol\u001b[0m \u001b[1;33m+\u001b[0m  \u001b[1;34m'Test/'\u001b[0m \u001b[1;33m+\u001b[0m \u001b[0mfile_seg\u001b[0m\u001b[1;33m)\u001b[0m\u001b[1;33m\u001b[0m\u001b[0m\n\u001b[0m\u001b[0;32m     10\u001b[0m \u001b[1;33m\u001b[0m\u001b[0m\n\u001b[0;32m     11\u001b[0m         \u001b[1;32melif\u001b[0m \u001b[1;32mnot\u001b[0m \u001b[0mos\u001b[0m\u001b[1;33m.\u001b[0m\u001b[0mpath\u001b[0m\u001b[1;33m.\u001b[0m\u001b[0misfile\u001b[0m\u001b[1;33m(\u001b[0m\u001b[0msavepath_vol\u001b[0m \u001b[1;33m+\u001b[0m \u001b[0mfile\u001b[0m\u001b[1;33m)\u001b[0m \u001b[1;32mand\u001b[0m \u001b[0mf3fname\u001b[0m\u001b[1;33m!=\u001b[0m\u001b[0mfilname\u001b[0m\u001b[1;33m:\u001b[0m\u001b[1;33m\u001b[0m\u001b[0m\n",
      "\u001b[1;32m/usr/lib/python2.7/shutil.pyc\u001b[0m in \u001b[0;36mcopyfile\u001b[1;34m(src, dst)\u001b[0m\n\u001b[0;32m     82\u001b[0m     \u001b[1;32mwith\u001b[0m \u001b[0mopen\u001b[0m\u001b[1;33m(\u001b[0m\u001b[0msrc\u001b[0m\u001b[1;33m,\u001b[0m \u001b[1;34m'rb'\u001b[0m\u001b[1;33m)\u001b[0m \u001b[1;32mas\u001b[0m \u001b[0mfsrc\u001b[0m\u001b[1;33m:\u001b[0m\u001b[1;33m\u001b[0m\u001b[0m\n\u001b[0;32m     83\u001b[0m         \u001b[1;32mwith\u001b[0m \u001b[0mopen\u001b[0m\u001b[1;33m(\u001b[0m\u001b[0mdst\u001b[0m\u001b[1;33m,\u001b[0m \u001b[1;34m'wb'\u001b[0m\u001b[1;33m)\u001b[0m \u001b[1;32mas\u001b[0m \u001b[0mfdst\u001b[0m\u001b[1;33m:\u001b[0m\u001b[1;33m\u001b[0m\u001b[0m\n\u001b[1;32m---> 84\u001b[1;33m             \u001b[0mcopyfileobj\u001b[0m\u001b[1;33m(\u001b[0m\u001b[0mfsrc\u001b[0m\u001b[1;33m,\u001b[0m \u001b[0mfdst\u001b[0m\u001b[1;33m)\u001b[0m\u001b[1;33m\u001b[0m\u001b[0m\n\u001b[0m\u001b[0;32m     85\u001b[0m \u001b[1;33m\u001b[0m\u001b[0m\n\u001b[0;32m     86\u001b[0m \u001b[1;32mdef\u001b[0m \u001b[0mcopymode\u001b[0m\u001b[1;33m(\u001b[0m\u001b[0msrc\u001b[0m\u001b[1;33m,\u001b[0m \u001b[0mdst\u001b[0m\u001b[1;33m)\u001b[0m\u001b[1;33m:\u001b[0m\u001b[1;33m\u001b[0m\u001b[0m\n",
      "\u001b[1;32m/usr/lib/python2.7/shutil.pyc\u001b[0m in \u001b[0;36mcopyfileobj\u001b[1;34m(fsrc, fdst, length)\u001b[0m\n\u001b[0;32m     47\u001b[0m     \u001b[1;34m\"\"\"copy data from file-like object fsrc to file-like object fdst\"\"\"\u001b[0m\u001b[1;33m\u001b[0m\u001b[0m\n\u001b[0;32m     48\u001b[0m     \u001b[1;32mwhile\u001b[0m \u001b[1;36m1\u001b[0m\u001b[1;33m:\u001b[0m\u001b[1;33m\u001b[0m\u001b[0m\n\u001b[1;32m---> 49\u001b[1;33m         \u001b[0mbuf\u001b[0m \u001b[1;33m=\u001b[0m \u001b[0mfsrc\u001b[0m\u001b[1;33m.\u001b[0m\u001b[0mread\u001b[0m\u001b[1;33m(\u001b[0m\u001b[0mlength\u001b[0m\u001b[1;33m)\u001b[0m\u001b[1;33m\u001b[0m\u001b[0m\n\u001b[0m\u001b[0;32m     50\u001b[0m         \u001b[1;32mif\u001b[0m \u001b[1;32mnot\u001b[0m \u001b[0mbuf\u001b[0m\u001b[1;33m:\u001b[0m\u001b[1;33m\u001b[0m\u001b[0m\n\u001b[0;32m     51\u001b[0m             \u001b[1;32mbreak\u001b[0m\u001b[1;33m\u001b[0m\u001b[0m\n",
      "\u001b[1;31mKeyboardInterrupt\u001b[0m: "
     ]
    }
   ],
   "source": [
    "for i in range(len(fire3_best)):\n",
    "    path, file = os.path.split(fire3_best[i][1])\n",
    "    filname=re.findall('[^/]+(?=\\.nii$)',fire3_best[i][1])[0]\n",
    "    for f3fname in f3_good:\n",
    "        if f3fname==filname:\n",
    "            print 'Copying Good Seg %s' % file\n",
    "            copyfile(path + '/'+ file, savepath_vol +  'Test/' +file)\n",
    "            path_seg, file_seg = os.path.split(fire3_best[i][2])\n",
    "            copyfile(path_seg + '/'+ file_seg, savepath_vol +  'Test/' + file_seg)\n",
    "            \n",
    "        elif not os.path.isfile(savepath_vol + file) and f3fname!=filname:\n",
    "            print 'Copying Normal Seg %s' % file\n",
    "            copyfile(path + '/'+ file, savepath_vol +  file)\n",
    "            path_seg, file_seg = os.path.split(fire3_best[i][2])\n",
    "            copyfile(path_seg + '/'+ file_seg, savepath_vol +  'Test/' + file_seg)"
   ]
  },
  {
   "cell_type": "code",
   "execution_count": null,
   "metadata": {
    "collapsed": true
   },
   "outputs": [],
   "source": []
  }
 ],
 "metadata": {
  "kernelspec": {
   "display_name": "Python 2",
   "language": "python",
   "name": "python2"
  },
  "language_info": {
   "codemirror_mode": {
    "name": "ipython",
    "version": 2
   },
   "file_extension": ".py",
   "mimetype": "text/x-python",
   "name": "python",
   "nbconvert_exporter": "python",
   "pygments_lexer": "ipython2",
   "version": "2.7.6"
  }
 },
 "nbformat": 4,
 "nbformat_minor": 0
}
